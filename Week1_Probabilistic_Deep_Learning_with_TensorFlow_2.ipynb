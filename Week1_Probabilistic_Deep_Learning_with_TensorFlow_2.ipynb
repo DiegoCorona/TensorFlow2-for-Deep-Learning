{
  "nbformat": 4,
  "nbformat_minor": 0,
  "metadata": {
    "kernelspec": {
      "display_name": "Python 3",
      "language": "python",
      "name": "python3"
    },
    "language_info": {
      "codemirror_mode": {
        "name": "ipython",
        "version": 3
      },
      "file_extension": ".py",
      "mimetype": "text/x-python",
      "name": "python",
      "nbconvert_exporter": "python",
      "pygments_lexer": "ipython3",
      "version": "3.7.1"
    },
    "colab": {
      "name": "Week1_Probabilistic Deep Learning with TensorFlow 2.ipynb",
      "provenance": [],
      "collapsed_sections": [
        "o4YMGd7dsgmy",
        "Jn2Cg3YEsgm2",
        "zlvfIjF3sgm-",
        "94n2DK21sgm-",
        "Lga_t7q0sgnC",
        "c1V8udtysgnW",
        "_7tvenxCsgnf",
        "8kTjEmFysgoJ"
      ],
      "include_colab_link": true
    }
  },
  "cells": [
    {
      "cell_type": "markdown",
      "metadata": {
        "id": "view-in-github",
        "colab_type": "text"
      },
      "source": [
        "<a href=\"https://colab.research.google.com/github/DiegoCorona/TensorFlow2-for-Deep-Learning/blob/main/Week1_Probabilistic_Deep_Learning_with_TensorFlow_2.ipynb\" target=\"_parent\"><img src=\"https://colab.research.google.com/assets/colab-badge.svg\" alt=\"Open In Colab\"/></a>"
      ]
    },
    {
      "cell_type": "code",
      "metadata": {
        "id": "e4NV6Xcdsgma",
        "colab": {
          "base_uri": "https://localhost:8080/"
        },
        "outputId": "d469921c-828b-4497-e3f7-9eacdd422f85"
      },
      "source": [
        "import tensorflow as tf\n",
        "import tensorflow_probability as tfp\n",
        "tfd = tfp.distributions\n",
        "\n",
        "print(\"TF version:\", tf.__version__)\n",
        "print(\"TFP version:\", tfp.__version__)"
      ],
      "execution_count": 1,
      "outputs": [
        {
          "output_type": "stream",
          "text": [
            "TF version: 2.5.0\n",
            "TFP version: 0.13.0\n"
          ],
          "name": "stdout"
        }
      ]
    },
    {
      "cell_type": "code",
      "metadata": {
        "id": "Luc9w4p_sgmc"
      },
      "source": [
        "# Additional imports and setting fixed random seed to have reproducibility\n",
        "\n",
        "import matplotlib.pyplot as plt\n",
        "import numpy as np\n",
        "tf.random.set_seed(123)"
      ],
      "execution_count": 2,
      "outputs": []
    },
    {
      "cell_type": "markdown",
      "metadata": {
        "id": "00uSMbgVsgme"
      },
      "source": [
        "# Tensorflow Distributions"
      ]
    },
    {
      "cell_type": "markdown",
      "metadata": {
        "id": "E7htVM9psgme"
      },
      "source": [
        "## Coding Tutorials\n",
        "#### 1. [Univariate Distributions](#univariate_distributions)\n",
        "#### 2. [Multivariate Distributions](#multivariate_distributions)\n",
        "#### 3. [The Independent Distribution](#the_independent_distribution)\n",
        "#### 4. [Sampling and log probs](#sampling_and_log_probs)\n",
        "#### 5. [Trainable Distributions](#trainable_distributions)"
      ]
    },
    {
      "cell_type": "markdown",
      "metadata": {
        "id": "Jj29CUq6sgme"
      },
      "source": [
        "***\n",
        "## Univariate distributions\n",
        "<a id='univariate_distributions'></a>"
      ]
    },
    {
      "cell_type": "code",
      "metadata": {
        "id": "JoHMzrrDsgmf",
        "colab": {
          "base_uri": "https://localhost:8080/"
        },
        "outputId": "cbe64843-685b-46ea-fd99-77fcb8359285"
      },
      "source": [
        "# Create a normal distribution from Tensorflow Distributions\n",
        "normal = tfd.Normal(loc=0, scale=1)\n",
        "normal"
      ],
      "execution_count": null,
      "outputs": [
        {
          "output_type": "execute_result",
          "data": {
            "text/plain": [
              "<tfp.distributions.Normal 'Normal' batch_shape=[] event_shape=[] dtype=float32>"
            ]
          },
          "metadata": {
            "tags": []
          },
          "execution_count": 4
        }
      ]
    },
    {
      "cell_type": "code",
      "metadata": {
        "id": "XPCtjb2bsgmi",
        "colab": {
          "base_uri": "https://localhost:8080/"
        },
        "outputId": "27ecb7a7-0498-4c64-a356-b1ad6a42b7e3"
      },
      "source": [
        "# Sample from the chosen distribution...\n",
        "normal.sample()"
      ],
      "execution_count": null,
      "outputs": [
        {
          "output_type": "execute_result",
          "data": {
            "text/plain": [
              "<tf.Tensor: shape=(), dtype=float32, numpy=-0.61346006>"
            ]
          },
          "metadata": {
            "tags": []
          },
          "execution_count": 7
        }
      ]
    },
    {
      "cell_type": "code",
      "metadata": {
        "id": "LE4LZS7rsgmk",
        "colab": {
          "base_uri": "https://localhost:8080/"
        },
        "outputId": "622ec8f6-3373-4d5b-81fa-68bc5b023550"
      },
      "source": [
        "# ... or sample multiple times\n",
        "normal.sample(10)"
      ],
      "execution_count": null,
      "outputs": [
        {
          "output_type": "execute_result",
          "data": {
            "text/plain": [
              "<tf.Tensor: shape=(10,), dtype=float32, numpy=\n",
              "array([-0.6383433 , -1.1492779 , -0.8656427 , -1.3332063 , -0.82325643,\n",
              "       -0.7619269 ,  0.4257505 ,  2.8928344 , -0.34264988, -1.7522513 ],\n",
              "      dtype=float32)>"
            ]
          },
          "metadata": {
            "tags": []
          },
          "execution_count": 8
        }
      ]
    },
    {
      "cell_type": "code",
      "metadata": {
        "id": "Gc_PQ10Tsgmm",
        "colab": {
          "base_uri": "https://localhost:8080/"
        },
        "outputId": "0904a304-07db-450e-97fe-1f35fda635f7"
      },
      "source": [
        "# Obtain value of probability's density\n",
        "normal.prob(0)"
      ],
      "execution_count": null,
      "outputs": [
        {
          "output_type": "execute_result",
          "data": {
            "text/plain": [
              "<tf.Tensor: shape=(), dtype=float32, numpy=0.3989423>"
            ]
          },
          "metadata": {
            "tags": []
          },
          "execution_count": 9
        }
      ]
    },
    {
      "cell_type": "code",
      "metadata": {
        "id": "vMbFWoMwsgmn",
        "colab": {
          "base_uri": "https://localhost:8080/"
        },
        "outputId": "7834e1a9-8bd5-4c26-925b-f19743c1f494"
      },
      "source": [
        "# Obtain value of logprobability\n",
        "normal.log_prob(0)"
      ],
      "execution_count": null,
      "outputs": [
        {
          "output_type": "execute_result",
          "data": {
            "text/plain": [
              "<tf.Tensor: shape=(), dtype=float32, numpy=-0.9189385>"
            ]
          },
          "metadata": {
            "tags": []
          },
          "execution_count": 10
        }
      ]
    },
    {
      "cell_type": "code",
      "metadata": {
        "id": "e6TkQQqvsgmp",
        "colab": {
          "base_uri": "https://localhost:8080/"
        },
        "outputId": "c313c742-1361-4bc4-db8a-ecf0773d41a4"
      },
      "source": [
        "# Verify that this really is the log of the probability\n",
        "np.log(normal.prob(0))"
      ],
      "execution_count": null,
      "outputs": [
        {
          "output_type": "execute_result",
          "data": {
            "text/plain": [
              "-0.9189385"
            ]
          },
          "metadata": {
            "tags": []
          },
          "execution_count": 11
        }
      ]
    },
    {
      "cell_type": "code",
      "metadata": {
        "id": "rk3lYT3jsgmr",
        "colab": {
          "base_uri": "https://localhost:8080/",
          "height": 265
        },
        "outputId": "4100a37f-9e49-4943-d58a-fc41bf8d5532"
      },
      "source": [
        "# Plot a histogram, approximating the density\n",
        "plt.hist(normal.sample(10000), bins=50, density=True)\n",
        "plt.show()"
      ],
      "execution_count": null,
      "outputs": [
        {
          "output_type": "display_data",
          "data": {
            "image/png": "[encoded data removed]",
            "text/plain": [
              "<Figure size 432x288 with 1 Axes>"
            ]
          },
          "metadata": {
            "tags": [],
            "needs_background": "light"
          }
        }
      ]
    },
    {
      "cell_type": "code",
      "metadata": {
        "id": "IUyiPOwVsgms",
        "colab": {
          "base_uri": "https://localhost:8080/",
          "height": 267
        },
        "outputId": "a717f157-ba23-4da4-9bbe-9d019c42bde1"
      },
      "source": [
        "# Do the same for the exponential distribution\n",
        "exp = tfd.Exponential(rate = 1)\n",
        "plt.hist(exp.sample(10000), bins=50, density=True)\n",
        "plt.show()"
      ],
      "execution_count": null,
      "outputs": [
        {
          "output_type": "display_data",
          "data": {
            "image/png": "[encoded data removed]",
            "text/plain": [
              "<Figure size 432x288 with 1 Axes>"
            ]
          },
          "metadata": {
            "tags": [],
            "needs_background": "light"
          }
        }
      ]
    },
    {
      "cell_type": "code",
      "metadata": {
        "id": "zAxCh7ynsgmu",
        "colab": {
          "base_uri": "https://localhost:8080/"
        },
        "outputId": "e97ad8d1-d6ac-4f8e-ea69-ee5b8302c46c"
      },
      "source": [
        "# Sample as before\n",
        "exp.sample(10)"
      ],
      "execution_count": null,
      "outputs": [
        {
          "output_type": "execute_result",
          "data": {
            "text/plain": [
              "<tf.Tensor: shape=(10,), dtype=float32, numpy=\n",
              "array([0.01123264, 0.23225519, 3.0765412 , 3.1456938 , 0.54718953,\n",
              "       1.3041304 , 0.01617654, 0.34547696, 0.92846644, 1.1620234 ],\n",
              "      dtype=float32)>"
            ]
          },
          "metadata": {
            "tags": []
          },
          "execution_count": 16
        }
      ]
    },
    {
      "cell_type": "code",
      "metadata": {
        "id": "D-yhrZAqsgmw",
        "colab": {
          "base_uri": "https://localhost:8080/"
        },
        "outputId": "b7a7aaa2-5f93-4711-ed94-cadc5a5d296a"
      },
      "source": [
        "# Create a Bernoulli distribution (discrete)\n",
        "bernoulli = tfd.Bernoulli(probs=0.8)\n",
        "bernoulli.sample(20)"
      ],
      "execution_count": null,
      "outputs": [
        {
          "output_type": "execute_result",
          "data": {
            "text/plain": [
              "<tf.Tensor: shape=(20,), dtype=int32, numpy=\n",
              "array([1, 1, 1, 1, 1, 1, 0, 1, 1, 1, 1, 1, 1, 1, 1, 0, 1, 1, 1, 1],\n",
              "      dtype=int32)>"
            ]
          },
          "metadata": {
            "tags": []
          },
          "execution_count": 20
        }
      ]
    },
    {
      "cell_type": "markdown",
      "metadata": {
        "id": "o4YMGd7dsgmy"
      },
      "source": [
        "#### A word of caution on discrete distributions"
      ]
    },
    {
      "cell_type": "code",
      "metadata": {
        "id": "_qhEUig2sgmy",
        "colab": {
          "base_uri": "https://localhost:8080/"
        },
        "outputId": "ebe64402-6997-466a-c94b-ac43f7db3c79"
      },
      "source": [
        "# Calculate Bernoulli prob and see that 0.5 and -1 do not give the correct probability!\n",
        "for k in [0,0.5,1,-1]:\n",
        "    print('prob result {} for k = {} '.format(bernoulli.prob(k), k))"
      ],
      "execution_count": null,
      "outputs": [
        {
          "output_type": "stream",
          "text": [
            "prob result 0.19999998807907104 for k = 0 \n",
            "prob result 0.3999999761581421 for k = 0.5 \n",
            "prob result 0.800000011920929 for k = 1 \n",
            "prob result 0.04999999701976776 for k = -1 \n"
          ],
          "name": "stdout"
        }
      ]
    },
    {
      "cell_type": "code",
      "metadata": {
        "id": "3i_ifyZLsgmz"
      },
      "source": [
        "# Replicate the scores to see what is occurring under the hood\n",
        "def my_bernoulli(p_sucess, k):\n",
        "    return np.power(p_sucess,k)*np.power((1-p_sucess),(1-k))"
      ],
      "execution_count": null,
      "outputs": []
    },
    {
      "cell_type": "code",
      "metadata": {
        "id": "YjDZmhp1sgm0",
        "colab": {
          "base_uri": "https://localhost:8080/"
        },
        "outputId": "f1b9e779-2f40-4c74-8dbc-3bc756a726fc"
      },
      "source": [
        "# Evaluate it as before\n",
        "for k in [0,0.5,1,-1]:\n",
        "    print('prob result {} for k = {} '.format(my_bernoulli(0.8, k), k))"
      ],
      "execution_count": null,
      "outputs": [
        {
          "output_type": "stream",
          "text": [
            "prob result 0.19999999999999996 for k = 0 \n",
            "prob result 0.3999999999999999 for k = 0.5 \n",
            "prob result 0.8 for k = 1 \n",
            "prob result 0.049999999999999975 for k = -1 \n"
          ],
          "name": "stdout"
        }
      ]
    },
    {
      "cell_type": "markdown",
      "metadata": {
        "id": "Jn2Cg3YEsgm2"
      },
      "source": [
        "#### Work with batch distributions"
      ]
    },
    {
      "cell_type": "code",
      "metadata": {
        "id": "FhtSN4-Esgm2",
        "colab": {
          "base_uri": "https://localhost:8080/"
        },
        "outputId": "80fa21e9-8381-4ff1-c6f5-a89e89209fe7"
      },
      "source": [
        "# Create a batched Bernoulli distribution\n",
        "bernoulli_batch = tfd.Bernoulli(probs=[0.1, 0.25, 0.5, 0.75, 0.9])\n",
        "bernoulli_batch"
      ],
      "execution_count": null,
      "outputs": [
        {
          "output_type": "execute_result",
          "data": {
            "text/plain": [
              "<tfp.distributions.Bernoulli 'Bernoulli' batch_shape=[5] event_shape=[] dtype=int32>"
            ]
          },
          "metadata": {
            "tags": []
          },
          "execution_count": 25
        }
      ]
    },
    {
      "cell_type": "code",
      "metadata": {
        "id": "i1amOMwzsgm4",
        "colab": {
          "base_uri": "https://localhost:8080/"
        },
        "outputId": "3edef40d-6a35-430f-b487-d031530e5369"
      },
      "source": [
        "# Sample from it, noting the shape\n",
        "bernoulli_batch.sample(3) ## tamaño de la matriz [# muestras * # variables aleatorias]"
      ],
      "execution_count": null,
      "outputs": [
        {
          "output_type": "execute_result",
          "data": {
            "text/plain": [
              "<tf.Tensor: shape=(3, 5), dtype=int32, numpy=\n",
              "array([[0, 0, 1, 0, 1],\n",
              "       [0, 0, 0, 1, 1],\n",
              "       [0, 0, 0, 1, 1]], dtype=int32)>"
            ]
          },
          "metadata": {
            "tags": []
          },
          "execution_count": 28
        }
      ]
    },
    {
      "cell_type": "code",
      "metadata": {
        "id": "BrcfsPL0sgm6",
        "colab": {
          "base_uri": "https://localhost:8080/"
        },
        "outputId": "b31307ff-8ee4-4aa1-d810-43be3dbf9016"
      },
      "source": [
        "# Use a batch shape with higher rank\n",
        "probs = [[[0.5, 0.5], \n",
        "          [0.8, 0.3], \n",
        "          [0.25, 0.75]]]\n",
        "bernoulli_batch_2D = tfd.Bernoulli(probs=probs)\n",
        "bernoulli_batch_2D"
      ],
      "execution_count": null,
      "outputs": [
        {
          "output_type": "execute_result",
          "data": {
            "text/plain": [
              "<tfp.distributions.Bernoulli 'Bernoulli' batch_shape=[1, 3, 2] event_shape=[] dtype=int32>"
            ]
          },
          "metadata": {
            "tags": []
          },
          "execution_count": 29
        }
      ]
    },
    {
      "cell_type": "code",
      "metadata": {
        "id": "IseSexERsgm8",
        "colab": {
          "base_uri": "https://localhost:8080/"
        },
        "outputId": "4dda0326-5fe3-4678-87c7-9b1802af2b6c"
      },
      "source": [
        "# Sample from this batch of distributions\n",
        "bernoulli_batch_2D.sample(5)"
      ],
      "execution_count": null,
      "outputs": [
        {
          "output_type": "execute_result",
          "data": {
            "text/plain": [
              "<tf.Tensor: shape=(5, 1, 3, 2), dtype=int32, numpy=\n",
              "array([[[[0, 1],\n",
              "         [1, 1],\n",
              "         [0, 1]]],\n",
              "\n",
              "\n",
              "       [[[1, 1],\n",
              "         [1, 1],\n",
              "         [0, 1]]],\n",
              "\n",
              "\n",
              "       [[[0, 0],\n",
              "         [0, 0],\n",
              "         [1, 1]]],\n",
              "\n",
              "\n",
              "       [[[0, 1],\n",
              "         [1, 0],\n",
              "         [0, 1]]],\n",
              "\n",
              "\n",
              "       [[[1, 0],\n",
              "         [1, 1],\n",
              "         [0, 1]]]], dtype=int32)>"
            ]
          },
          "metadata": {
            "tags": []
          },
          "execution_count": 30
        }
      ]
    },
    {
      "cell_type": "code",
      "metadata": {
        "id": "MWZmvprYsgm9",
        "colab": {
          "base_uri": "https://localhost:8080/"
        },
        "outputId": "c7c18380-6fdb-47ca-fe81-4be56bfaa870"
      },
      "source": [
        "# Determine probabilities from this batch distribution\n",
        "bernoulli_batch_2D.prob([[[1, 0], \n",
        "                         [0, 0], \n",
        "                         [1, 1]]])"
      ],
      "execution_count": null,
      "outputs": [
        {
          "output_type": "execute_result",
          "data": {
            "text/plain": [
              "<tf.Tensor: shape=(1, 3, 2), dtype=float32, numpy=\n",
              "array([[[0.5       , 0.5       ],\n",
              "        [0.19999999, 0.7       ],\n",
              "        [0.25      , 0.75      ]]], dtype=float32)>"
            ]
          },
          "metadata": {
            "tags": []
          },
          "execution_count": 31
        }
      ]
    },
    {
      "cell_type": "markdown",
      "metadata": {
        "id": "zlvfIjF3sgm-"
      },
      "source": [
        "***\n",
        "<a id='multivariate_distributions'></a>\n",
        "## Multivariate Distributions\n"
      ]
    },
    {
      "cell_type": "markdown",
      "metadata": {
        "id": "94n2DK21sgm-"
      },
      "source": [
        "#### Basic multivariate distributions"
      ]
    },
    {
      "cell_type": "code",
      "metadata": {
        "id": "35RX_A3wsgm-",
        "colab": {
          "base_uri": "https://localhost:8080/"
        },
        "outputId": "2c60cbe4-98b1-44e1-d53d-28bbd21aede3"
      },
      "source": [
        "# Define 2D multivariate Gaussian with diagonal covariance matrix\n",
        "normal_diag = tfd.MultivariateNormalDiag(loc = [0,1], scale_diag=[1,2])\n",
        "normal_diag"
      ],
      "execution_count": null,
      "outputs": [
        {
          "output_type": "execute_result",
          "data": {
            "text/plain": [
              "<tfp.distributions.MultivariateNormalDiag 'MultivariateNormalDiag' batch_shape=[] event_shape=[2] dtype=float32>"
            ]
          },
          "metadata": {
            "tags": []
          },
          "execution_count": 2
        }
      ]
    },
    {
      "cell_type": "code",
      "metadata": {
        "id": "zblklZq6sgnA",
        "colab": {
          "base_uri": "https://localhost:8080/"
        },
        "outputId": "a08a796b-f229-4b89-b3fc-2070988e1a81"
      },
      "source": [
        "# Sample from it\n",
        "normal_diag.sample(10)"
      ],
      "execution_count": null,
      "outputs": [
        {
          "output_type": "execute_result",
          "data": {
            "text/plain": [
              "<tf.Tensor: shape=(10, 2), dtype=float32, numpy=\n",
              "array([[-0.1931843 ,  2.1473243 ],\n",
              "       [-0.9448006 ,  2.1510093 ],\n",
              "       [ 0.40519446,  4.2799125 ],\n",
              "       [-1.5858122 ,  1.8864882 ],\n",
              "       [ 0.08367661,  3.8678412 ],\n",
              "       [ 0.04010468,  1.1956803 ],\n",
              "       [-1.4514755 , -0.48282802],\n",
              "       [-1.5655483 ,  2.2288837 ],\n",
              "       [-0.27051333, -2.2522914 ],\n",
              "       [-1.0090166 , -1.8459003 ]], dtype=float32)>"
            ]
          },
          "metadata": {
            "tags": []
          },
          "execution_count": 3
        }
      ]
    },
    {
      "cell_type": "code",
      "metadata": {
        "id": "CJIxbKJDsgnB",
        "colab": {
          "base_uri": "https://localhost:8080/",
          "height": 265
        },
        "outputId": "bc2886f5-bb91-405a-9a1a-cdec893ec99f"
      },
      "source": [
        "# Make a plot\n",
        "plt_sample = normal_diag.sample(10000)\n",
        "plt.scatter(plt_sample[:, 0], plt_sample[:, 1], marker='.', alpha=0.05)\n",
        "plt.axis('equal')\n",
        "plt.show()"
      ],
      "execution_count": null,
      "outputs": [
        {
          "output_type": "display_data",
          "data": {
            "image/png": "[encoded data removed]",
            "text/plain": [
              "<Figure size 432x288 with 1 Axes>"
            ]
          },
          "metadata": {
            "tags": [],
            "needs_background": "light"
          }
        }
      ]
    },
    {
      "cell_type": "markdown",
      "metadata": {
        "id": "Lga_t7q0sgnC"
      },
      "source": [
        "#### Batches of multivariate distributions"
      ]
    },
    {
      "cell_type": "code",
      "metadata": {
        "id": "jrz-S40GsgnC",
        "colab": {
          "base_uri": "https://localhost:8080/"
        },
        "outputId": "2dcf1c10-b342-4c98-d6bf-66d0e5b9b0c3"
      },
      "source": [
        "# Create three \"batches\" of multivariate normals\n",
        "normal_diag_batch = tfd.MultivariateNormalDiag(loc=[[0,0], [0,0], [0,0]],\n",
        "                                               scale_diag= [[1,2], [2,1], [2,2]])\n",
        "normal_diag_batch"
      ],
      "execution_count": null,
      "outputs": [
        {
          "output_type": "execute_result",
          "data": {
            "text/plain": [
              "<tfp.distributions.MultivariateNormalDiag 'MultivariateNormalDiag' batch_shape=[3] event_shape=[2] dtype=float32>"
            ]
          },
          "metadata": {
            "tags": []
          },
          "execution_count": 7
        }
      ]
    },
    {
      "cell_type": "code",
      "metadata": {
        "id": "3cuB8hfCsgnE",
        "colab": {
          "base_uri": "https://localhost:8080/"
        },
        "outputId": "3048be2a-677d-4a49-be95-b8eedd5c08c0"
      },
      "source": [
        "# Sample from it\n",
        "samples = normal_diag_batch.sample(5)\n",
        "samples"
      ],
      "execution_count": null,
      "outputs": [
        {
          "output_type": "execute_result",
          "data": {
            "text/plain": [
              "<tf.Tensor: shape=(5, 3, 2), dtype=float32, numpy=\n",
              "array([[[-0.61346006, -1.5963427 ],\n",
              "        [-2.0512335 ,  0.31040153],\n",
              "        [-2.3505633 , -0.6253187 ]],\n",
              "\n",
              "       [[ 0.86418086, -2.3481724 ],\n",
              "        [-0.04171393, -0.41467163],\n",
              "        [-0.186402  , -1.3611844 ]],\n",
              "\n",
              "       [[-0.11699341, -3.5965812 ],\n",
              "        [-0.8769344 ,  1.0423727 ],\n",
              "        [ 0.29075438,  0.85152024]],\n",
              "\n",
              "       [[-0.65798914, -0.4027388 ],\n",
              "        [ 4.206198  , -0.27966458],\n",
              "        [ 1.0173634 ,  3.0747736 ]],\n",
              "\n",
              "       [[-1.3815433 , -3.8952522 ],\n",
              "        [-3.108612  ,  0.68831795],\n",
              "        [-2.4537148 , -1.0911019 ]]], dtype=float32)>"
            ]
          },
          "metadata": {
            "tags": []
          },
          "execution_count": 9
        }
      ]
    },
    {
      "cell_type": "code",
      "metadata": {
        "id": "_83n1afGsgnG",
        "colab": {
          "base_uri": "https://localhost:8080/"
        },
        "outputId": "e9bdfb56-68aa-4181-fecb-306b5786bb6e"
      },
      "source": [
        "# Compute log probs\n",
        "normal_diag_batch.log_prob(samples)"
      ],
      "execution_count": null,
      "outputs": [
        {
          "output_type": "execute_result",
          "data": {
            "text/plain": [
              "<tf.Tensor: shape=(5, 3), dtype=float32, numpy=\n",
              "array([[-3.0377297, -3.1051435, -3.9636927],\n",
              "       [-3.5936675, -2.617218 , -3.4601176],\n",
              "       [-4.1547923, -3.1704216, -3.3253746],\n",
              "       [-2.7677739, -4.7816434, -4.535329 ],\n",
              "       [-5.381979 , -3.9758487, -4.125574 ]], dtype=float32)>"
            ]
          },
          "metadata": {
            "tags": []
          },
          "execution_count": 10
        }
      ]
    },
    {
      "cell_type": "code",
      "metadata": {
        "id": "cXTIHrK3sgnH",
        "colab": {
          "base_uri": "https://localhost:8080/"
        },
        "outputId": "1f5a1c6a-9b98-4d80-e54c-4e0d631e979a"
      },
      "source": [
        "# Create a sample for a plot -- notice the shape\n",
        "plt_sample_batch = normal_diag_batch.sample(10000)\n",
        "plt_sample_batch.shape"
      ],
      "execution_count": null,
      "outputs": [
        {
          "output_type": "execute_result",
          "data": {
            "text/plain": [
              "TensorShape([10000, 3, 2])"
            ]
          },
          "metadata": {
            "tags": []
          },
          "execution_count": 12
        }
      ]
    },
    {
      "cell_type": "code",
      "metadata": {
        "id": "29ZCx-AEsgnJ",
        "colab": {
          "base_uri": "https://localhost:8080/",
          "height": 227
        },
        "outputId": "902f7d11-59a5-4c3f-baef-8c9cf9ee170c"
      },
      "source": [
        "# Plot samples from the batched multivariate Gaussian\n",
        "fig, axs = (plt.subplots(1, 3, sharex=True, sharey=True, figsize=(10, 3)))\n",
        "titles = ['cov_diag=[1, 2]','cov_diag=[2, 1]', 'cov_diag=[2, 2]']\n",
        "\n",
        "for i, (ax, title) in enumerate(zip(axs,titles)):\n",
        "    samples = plt_sample_batch[:,i,:] #take the ith batch [samples x event_shape]\n",
        "    ax.scatter(samples[:, 0], samples[:, 1], marker='.', alpha=0.05)\n",
        "    ax.set_title(title)\n",
        "plt.show()"
      ],
      "execution_count": null,
      "outputs": [
        {
          "output_type": "display_data",
          "data": {
            "image/png": "[encoded data removed]",
            "text/plain": [
              "<Figure size 720x216 with 3 Axes>"
            ]
          },
          "metadata": {
            "tags": [],
            "needs_background": "light"
          }
        }
      ]
    },
    {
      "cell_type": "markdown",
      "metadata": {
        "id": "v15LR-_WsgnL"
      },
      "source": [
        "\n",
        "\n",
        "***\n",
        "<a id='the_independent_distribution'></a>\n",
        "## The Independent Distribution"
      ]
    },
    {
      "cell_type": "code",
      "metadata": {
        "id": "qqIvyoQisgnL"
      },
      "source": [
        "# Start by defining a batch of two univariate Gaussians, then\n",
        "# combine them into a bivariate Gaussian with independent components\n",
        "locs = [-1., 1]\n",
        "scales = [0.5, 1]\n",
        "batch_of_normals = tfd.Normal(loc = locs, scale = scales)"
      ],
      "execution_count": null,
      "outputs": []
    },
    {
      "cell_type": "code",
      "metadata": {
        "id": "jaT90a68sgnM",
        "colab": {
          "base_uri": "https://localhost:8080/",
          "height": 363
        },
        "outputId": "c2849c67-d641-483b-b17b-fd15cc1f378c"
      },
      "source": [
        "# Univariate density functions\n",
        "import seaborn as sns\n",
        "\n",
        "t = np.linspace(-4, 4, 10000)\n",
        "densities = batch_of_normals.prob(np.repeat(t[:, np.newaxis], 2, axis=1)) # each column is a vector of densities for one distn\n",
        "\n",
        "sns.lineplot(t, densities[:, 0], label='loc={}, scale={}'.format(locs[0], scales[0]))\n",
        "sns.lineplot(t, densities[:, 1], label='loc={}, scale={}'.format(locs[0], scales[0]))\n",
        "plt.ylabel('Probability density')\n",
        "plt.xlabel('Value')\n",
        "plt.legend()\n",
        "plt.show()"
      ],
      "execution_count": null,
      "outputs": [
        {
          "output_type": "stream",
          "text": [
            "/usr/local/lib/python3.7/dist-packages/seaborn/_decorators.py:43: FutureWarning: Pass the following variables as keyword args: x, y. From version 0.12, the only valid positional argument will be `data`, and passing other arguments without an explicit keyword will result in an error or misinterpretation.\n",
            "  FutureWarning\n",
            "/usr/local/lib/python3.7/dist-packages/seaborn/_decorators.py:43: FutureWarning: Pass the following variables as keyword args: x, y. From version 0.12, the only valid positional argument will be `data`, and passing other arguments without an explicit keyword will result in an error or misinterpretation.\n",
            "  FutureWarning\n"
          ],
          "name": "stderr"
        },
        {
          "output_type": "display_data",
          "data": {
            "image/png": "[encoded data removed]",
            "text/plain": [
              "<Figure size 432x288 with 1 Axes>"
            ]
          },
          "metadata": {
            "tags": [],
            "needs_background": "light"
          }
        }
      ]
    },
    {
      "cell_type": "code",
      "metadata": {
        "id": "sb8KnB3TsgnP",
        "colab": {
          "base_uri": "https://localhost:8080/"
        },
        "outputId": "b203818b-40b6-43a1-daa7-255073ac34c9"
      },
      "source": [
        "# Check their batch_shape and event_shape\n",
        "batch_of_normals"
      ],
      "execution_count": null,
      "outputs": [
        {
          "output_type": "execute_result",
          "data": {
            "text/plain": [
              "<tfp.distributions.Normal 'Normal' batch_shape=[2] event_shape=[] dtype=float32>"
            ]
          },
          "metadata": {
            "tags": []
          },
          "execution_count": 16
        }
      ]
    },
    {
      "cell_type": "code",
      "metadata": {
        "id": "7CyvW3SqsgnQ"
      },
      "source": [
        "# Use Independent to convert the batch shape to the event shape\n",
        "bivariate_normal_from_Independent = tfd.Independent(batch_of_normals,\n",
        "                                                    reinterpreted_batch_ndims = 1)"
      ],
      "execution_count": null,
      "outputs": []
    },
    {
      "cell_type": "code",
      "metadata": {
        "id": "im8kLlywsgnS",
        "colab": {
          "base_uri": "https://localhost:8080/"
        },
        "outputId": "4f31724e-1f57-4424-982b-79d2aa860cfd"
      },
      "source": [
        "# Note that dimension from batch_shape has shifted to event_shape\n",
        "bivariate_normal_from_Independent"
      ],
      "execution_count": null,
      "outputs": [
        {
          "output_type": "execute_result",
          "data": {
            "text/plain": [
              "<tfp.distributions.Independent 'IndependentNormal' batch_shape=[] event_shape=[2] dtype=float32>"
            ]
          },
          "metadata": {
            "tags": []
          },
          "execution_count": 23
        }
      ]
    },
    {
      "cell_type": "code",
      "metadata": {
        "id": "qtfBXAUYsgnT",
        "colab": {
          "base_uri": "https://localhost:8080/",
          "height": 510
        },
        "outputId": "a23f5310-089c-4fcb-c0ff-346e08872ca7"
      },
      "source": [
        "# Create a plot showing joint density contours and marginal density functions\n",
        "samples = bivariate_normal_from_Independent.sample(10000)\n",
        "x1 = samples[:, 0]\n",
        "x2 = samples[:, 1]\n",
        "sns.jointplot(x1, x2, kind=\"kde\", space=0, color='b', xlim=[-4, 4], ylim=[-4, 4])"
      ],
      "execution_count": null,
      "outputs": [
        {
          "output_type": "stream",
          "text": [
            "/usr/local/lib/python3.7/dist-packages/seaborn/_decorators.py:43: FutureWarning: Pass the following variables as keyword args: x, y. From version 0.12, the only valid positional argument will be `data`, and passing other arguments without an explicit keyword will result in an error or misinterpretation.\n",
            "  FutureWarning\n"
          ],
          "name": "stderr"
        },
        {
          "output_type": "execute_result",
          "data": {
            "text/plain": [
              "<seaborn.axisgrid.JointGrid at 0x7f108cce3ad0>"
            ]
          },
          "metadata": {
            "tags": []
          },
          "execution_count": 24
        },
        {
          "output_type": "display_data",
          "data": {
            "image/png": "[encoded data removed]",
            "text/plain": [
              "<Figure size 432x432 with 3 Axes>"
            ]
          },
          "metadata": {
            "tags": [],
            "needs_background": "light"
          }
        }
      ]
    },
    {
      "cell_type": "code",
      "metadata": {
        "id": "sDDoW3nksgnU"
      },
      "source": [
        "# Use MultivariateNormalDiag to create the equivalent distribution\n",
        "# Note that diagonal covariance matrix => no correlation => independence (for the multivariate normal distribution)\n",
        "bivariate_normal_from_Multivariate = tfd.MultivariateNormalDiag(loc=locs, scale_diag=scales)"
      ],
      "execution_count": null,
      "outputs": []
    },
    {
      "cell_type": "code",
      "metadata": {
        "id": "qZUJ1ftjsgnV",
        "colab": {
          "base_uri": "https://localhost:8080/",
          "height": 510
        },
        "outputId": "3d35afa9-2072-4755-fc61-5064509e52f8"
      },
      "source": [
        "# Plot the joint density function of bivariate_normal_from_Independent\n",
        "# Refer back to bivariate_normal_from_Independent to show that the plot is the same\n",
        "# Summarise how Independent has been used\n",
        "samples = bivariate_normal_from_Multivariate.sample(10000)\n",
        "x1 = samples[:, 0]\n",
        "x2 = samples[:, 1]\n",
        "sns.jointplot(x1, x2, kind=\"kde\", space=0, color='b', xlim=[-4, 4], ylim=[-4, 4])"
      ],
      "execution_count": null,
      "outputs": [
        {
          "output_type": "stream",
          "text": [
            "/usr/local/lib/python3.7/dist-packages/seaborn/_decorators.py:43: FutureWarning: Pass the following variables as keyword args: x, y. From version 0.12, the only valid positional argument will be `data`, and passing other arguments without an explicit keyword will result in an error or misinterpretation.\n",
            "  FutureWarning\n"
          ],
          "name": "stderr"
        },
        {
          "output_type": "execute_result",
          "data": {
            "text/plain": [
              "<seaborn.axisgrid.JointGrid at 0x7f108cbd0d10>"
            ]
          },
          "metadata": {
            "tags": []
          },
          "execution_count": 26
        },
        {
          "output_type": "display_data",
          "data": {
            "image/png": "[encoded data removed]",
            "text/plain": [
              "<Figure size 432x432 with 3 Axes>"
            ]
          },
          "metadata": {
            "tags": [],
            "needs_background": "light"
          }
        }
      ]
    },
    {
      "cell_type": "markdown",
      "metadata": {
        "id": "c1V8udtysgnW"
      },
      "source": [
        "#### Shifting batch dimensions to event dimensions using \n",
        "`reinterpreted_batch_ndims`"
      ]
    },
    {
      "cell_type": "code",
      "metadata": {
        "id": "f-OWFMj4sgnW"
      },
      "source": [
        "# Demonstrate use of reinterpreted_batch_ndims\n",
        "# By default all batch dims except the first are transferred to event dims\n",
        "loc_grid = [[-100., -100.],\n",
        "            [100., 100.],\n",
        "            [0., 0.]]\n",
        "scale_grid = [[1., 10.],\n",
        "              [1., 10.],\n",
        "              [1., 1.]]\n",
        "\n",
        "normals_batch_3by2_event_1 = tfd.Normal(loc=loc_grid, scale=scale_grid)"
      ],
      "execution_count": null,
      "outputs": []
    },
    {
      "cell_type": "code",
      "metadata": {
        "id": "UXlQmUKFsgnX",
        "colab": {
          "base_uri": "https://localhost:8080/"
        },
        "outputId": "effebf89-2d7f-4b45-b6e9-88afc693008a"
      },
      "source": [
        "# Highlight batch_shape\n",
        "normals_batch_3by2_event_1 "
      ],
      "execution_count": null,
      "outputs": [
        {
          "output_type": "execute_result",
          "data": {
            "text/plain": [
              "<tfp.distributions.Normal 'Normal' batch_shape=[3, 2] event_shape=[] dtype=float32>"
            ]
          },
          "metadata": {
            "tags": []
          },
          "execution_count": 28
        }
      ]
    },
    {
      "cell_type": "code",
      "metadata": {
        "id": "oUEDQM7WsgnY",
        "colab": {
          "base_uri": "https://localhost:8080/"
        },
        "outputId": "ec05292f-2f22-4ed3-97c8-4faf55f0bd77"
      },
      "source": [
        "# We now have a batch of 3 bivariate normal distributions,\n",
        "# each parametrised by a column of our original parameter grid\n",
        "normals_batch_3by2_event_2 = tfd.Independent(normals_batch_3by2_event_1)\n",
        "normals_batch_3by2_event_2"
      ],
      "execution_count": null,
      "outputs": [
        {
          "output_type": "execute_result",
          "data": {
            "text/plain": [
              "<tfp.distributions.Independent 'IndependentNormal' batch_shape=[3] event_shape=[2] dtype=float32>"
            ]
          },
          "metadata": {
            "tags": []
          },
          "execution_count": 29
        }
      ]
    },
    {
      "cell_type": "code",
      "metadata": {
        "id": "lFITioyHsgnb",
        "colab": {
          "base_uri": "https://localhost:8080/"
        },
        "outputId": "c4ce9e13-5475-4aca-a440-56551130dcb3"
      },
      "source": [
        "# Evaluate log_prob\n",
        "normals_batch_3by2_event_2.log_prob(value= [[-10,10],\n",
        "                                            [100,100], \n",
        "                                            [1,1]])"
      ],
      "execution_count": null,
      "outputs": [
        {
          "output_type": "execute_result",
          "data": {
            "text/plain": [
              "<tf.Tensor: shape=(3,), dtype=float32, numpy=array([-4.1146406e+03, -4.1404624e+00, -2.8378770e+00], dtype=float32)>"
            ]
          },
          "metadata": {
            "tags": []
          },
          "execution_count": 31
        }
      ]
    },
    {
      "cell_type": "code",
      "metadata": {
        "id": "C_xWA4Bfsgnd",
        "colab": {
          "base_uri": "https://localhost:8080/"
        },
        "outputId": "7a7b0c16-cb1d-4c9c-e601-115e6c610835"
      },
      "source": [
        "# Can reinterpret _all_ batch dimensions as event dimensions\n",
        "normals_batch_1_event_3by2 = tfd.Independent(normals_batch_3by2_event_1, \n",
        "                                             reinterpreted_batch_ndims = 2)\n",
        "normals_batch_1_event_3by2"
      ],
      "execution_count": null,
      "outputs": [
        {
          "output_type": "execute_result",
          "data": {
            "text/plain": [
              "<tfp.distributions.Independent 'IndependentNormal' batch_shape=[] event_shape=[3, 2] dtype=float32>"
            ]
          },
          "metadata": {
            "tags": []
          },
          "execution_count": 33
        }
      ]
    },
    {
      "cell_type": "code",
      "metadata": {
        "id": "s6K5yss3sgne",
        "colab": {
          "base_uri": "https://localhost:8080/"
        },
        "outputId": "73e63888-c4e8-48a2-9db1-a76f6fb76f70"
      },
      "source": [
        "# Take log_probs \n",
        "normals_batch_1_event_3by2.log_prob(value= [[-10,10],\n",
        "                                            [100,100], \n",
        "                                            [1,1]])"
      ],
      "execution_count": null,
      "outputs": [
        {
          "output_type": "execute_result",
          "data": {
            "text/plain": [
              "<tf.Tensor: shape=(), dtype=float32, numpy=-4121.619>"
            ]
          },
          "metadata": {
            "tags": []
          },
          "execution_count": 34
        }
      ]
    },
    {
      "cell_type": "markdown",
      "metadata": {
        "id": "_7tvenxCsgnf"
      },
      "source": [
        "#### Using `Independent` to build a Naive Bayes classifier"
      ]
    },
    {
      "cell_type": "markdown",
      "metadata": {
        "id": "4jzAd6-Psgnf"
      },
      "source": [
        "#### Introduction to `newsgroups` data set"
      ]
    },
    {
      "cell_type": "markdown",
      "metadata": {
        "id": "Qk_-dUZdsgnf"
      },
      "source": [
        "In this tutorial, just load the dataset, fetch train/test splits, probably choose a subset of the data.\n",
        "\n",
        "Construct the class conditional feature distribution (with Independent, using the Naive Bayes assumption) and sample from it.\n",
        "\n",
        "We can just use the ML estimates for parameters, in later tutorials we will learn them."
      ]
    },
    {
      "cell_type": "markdown",
      "metadata": {
        "id": "MwrKvmvyttQ7"
      },
      "source": [
        "#### Import the data\n",
        "\n",
        "The dataset required for this coding tutorial can be downloaded from the following link:\n",
        "\n",
        "https://drive.google.com/file/d/1ZdVZFZv3eEw3Duwjg4fvtYAsgySoCRIm/view?usp=sharing\n",
        "\n",
        "You should store this file in Drive for use in this Colab notebook."
      ]
    },
    {
      "cell_type": "code",
      "metadata": {
        "id": "L4LRNRbrttqt",
        "colab": {
          "base_uri": "https://localhost:8080/"
        },
        "outputId": "d145bc9c-8a66-4f0f-a375-fe87afe1621d"
      },
      "source": [
        "# Run this cell to connect to your Drive folder\n",
        "\n",
        "from google.colab import drive\n",
        "drive.mount('/content/gdrive')"
      ],
      "execution_count": null,
      "outputs": [
        {
          "output_type": "stream",
          "text": [
            "Mounted at /content/gdrive\n"
          ],
          "name": "stdout"
        }
      ]
    },
    {
      "cell_type": "code",
      "metadata": {
        "id": "_-dUDWtnsgng"
      },
      "source": [
        "# Convenience function for retrieving the 20 newsgroups data set\n",
        "\n",
        "# Usenet was a forerunner to modern internet forums\n",
        "# Users could post and read articles\n",
        "# Newsgroup corresponded to a topic\n",
        "# Example topics in this data set: IBM computer hardware, baseball\n",
        "# Our objective is to use an article's contents to predict its newsgroup,\n",
        "# a 20-class classification problem.\n",
        "\n",
        "# 18000 newsgroups, posts on 20 topics\n",
        "from sklearn.datasets import fetch_20newsgroups\n",
        "from sklearn.feature_extraction.text import CountVectorizer\n"
      ],
      "execution_count": null,
      "outputs": []
    },
    {
      "cell_type": "code",
      "metadata": {
        "id": "D0d-Wj2hsgnh"
      },
      "source": [
        "# Get the train data\n",
        "newgroups_data = fetch_20newsgroups(data_home='/content/gdrive/MyDrive/Course_3 Probabilistic Deep Learning with TensorFlow 2/Week1/20_Newsgroup_Data/',\n",
        "                                    subset = 'train')"
      ],
      "execution_count": null,
      "outputs": []
    },
    {
      "cell_type": "code",
      "metadata": {
        "id": "IR7YHcJ1sgni",
        "colab": {
          "base_uri": "https://localhost:8080/"
        },
        "outputId": "18cc1674-5661-4c99-c876-a6620ec6b901"
      },
      "source": [
        "# More information about the data set\n",
        "print(newgroups_data['DESCR'])"
      ],
      "execution_count": null,
      "outputs": [
        {
          "output_type": "stream",
          "text": [
            ".. _20newsgroups_dataset:\n",
            "\n",
            "The 20 newsgroups text dataset\n",
            "------------------------------\n",
            "\n",
            "The 20 newsgroups dataset comprises around 18000 newsgroups posts on\n",
            "20 topics split in two subsets: one for training (or development)\n",
            "and the other one for testing (or for performance evaluation). The split\n",
            "between the train and test set is based upon a messages posted before\n",
            "and after a specific date.\n",
            "\n",
            "This module contains two loaders. The first one,\n",
            ":func:`sklearn.datasets.fetch_20newsgroups`,\n",
            "returns a list of the raw texts that can be fed to text feature\n",
            "extractors such as :class:`sklearn.feature_extraction.text.CountVectorizer`\n",
            "with custom parameters so as to extract feature vectors.\n",
            "The second one, :func:`sklearn.datasets.fetch_20newsgroups_vectorized`,\n",
            "returns ready-to-use features, i.e., it is not necessary to use a feature\n",
            "extractor.\n",
            "\n",
            "**Data Set Characteristics:**\n",
            "\n",
            "    =================   ==========\n",
            "    Classes                     20\n",
            "    Samples total            18846\n",
            "    Dimensionality               1\n",
            "    Features                  text\n",
            "    =================   ==========\n",
            "\n",
            "Usage\n",
            "~~~~~\n",
            "\n",
            "The :func:`sklearn.datasets.fetch_20newsgroups` function is a data\n",
            "fetching / caching functions that downloads the data archive from\n",
            "the original `20 newsgroups website`_, extracts the archive contents\n",
            "in the ``~/scikit_learn_data/20news_home`` folder and calls the\n",
            ":func:`sklearn.datasets.load_files` on either the training or\n",
            "testing set folder, or both of them::\n",
            "\n",
            "  >>> from sklearn.datasets import fetch_20newsgroups\n",
            "  >>> newsgroups_train = fetch_20newsgroups(subset='train')\n",
            "\n",
            "  >>> from pprint import pprint\n",
            "  >>> pprint(list(newsgroups_train.target_names))\n",
            "  ['alt.atheism',\n",
            "   'comp.graphics',\n",
            "   'comp.os.ms-windows.misc',\n",
            "   'comp.sys.ibm.pc.hardware',\n",
            "   'comp.sys.mac.hardware',\n",
            "   'comp.windows.x',\n",
            "   'misc.forsale',\n",
            "   'rec.autos',\n",
            "   'rec.motorcycles',\n",
            "   'rec.sport.baseball',\n",
            "   'rec.sport.hockey',\n",
            "   'sci.crypt',\n",
            "   'sci.electronics',\n",
            "   'sci.med',\n",
            "   'sci.space',\n",
            "   'soc.religion.christian',\n",
            "   'talk.politics.guns',\n",
            "   'talk.politics.mideast',\n",
            "   'talk.politics.misc',\n",
            "   'talk.religion.misc']\n",
            "\n",
            "The real data lies in the ``filenames`` and ``target`` attributes. The target\n",
            "attribute is the integer index of the category::\n",
            "\n",
            "  >>> newsgroups_train.filenames.shape\n",
            "  (11314,)\n",
            "  >>> newsgroups_train.target.shape\n",
            "  (11314,)\n",
            "  >>> newsgroups_train.target[:10]\n",
            "  array([ 7,  4,  4,  1, 14, 16, 13,  3,  2,  4])\n",
            "\n",
            "It is possible to load only a sub-selection of the categories by passing the\n",
            "list of the categories to load to the\n",
            ":func:`sklearn.datasets.fetch_20newsgroups` function::\n",
            "\n",
            "  >>> cats = ['alt.atheism', 'sci.space']\n",
            "  >>> newsgroups_train = fetch_20newsgroups(subset='train', categories=cats)\n",
            "\n",
            "  >>> list(newsgroups_train.target_names)\n",
            "  ['alt.atheism', 'sci.space']\n",
            "  >>> newsgroups_train.filenames.shape\n",
            "  (1073,)\n",
            "  >>> newsgroups_train.target.shape\n",
            "  (1073,)\n",
            "  >>> newsgroups_train.target[:10]\n",
            "  array([0, 1, 1, 1, 0, 1, 1, 0, 0, 0])\n",
            "\n",
            "Converting text to vectors\n",
            "~~~~~~~~~~~~~~~~~~~~~~~~~~\n",
            "\n",
            "In order to feed predictive or clustering models with the text data,\n",
            "one first need to turn the text into vectors of numerical values suitable\n",
            "for statistical analysis. This can be achieved with the utilities of the\n",
            "``sklearn.feature_extraction.text`` as demonstrated in the following\n",
            "example that extract `TF-IDF`_ vectors of unigram tokens\n",
            "from a subset of 20news::\n",
            "\n",
            "  >>> from sklearn.feature_extraction.text import TfidfVectorizer\n",
            "  >>> categories = ['alt.atheism', 'talk.religion.misc',\n",
            "  ...               'comp.graphics', 'sci.space']\n",
            "  >>> newsgroups_train = fetch_20newsgroups(subset='train',\n",
            "  ...                                       categories=categories)\n",
            "  >>> vectorizer = TfidfVectorizer()\n",
            "  >>> vectors = vectorizer.fit_transform(newsgroups_train.data)\n",
            "  >>> vectors.shape\n",
            "  (2034, 34118)\n",
            "\n",
            "The extracted TF-IDF vectors are very sparse, with an average of 159 non-zero\n",
            "components by sample in a more than 30000-dimensional space\n",
            "(less than .5% non-zero features)::\n",
            "\n",
            "  >>> vectors.nnz / float(vectors.shape[0])\n",
            "  159.01327...\n",
            "\n",
            ":func:`sklearn.datasets.fetch_20newsgroups_vectorized` is a function which \n",
            "returns ready-to-use token counts features instead of file names.\n",
            "\n",
            ".. _`20 newsgroups website`: http://people.csail.mit.edu/jrennie/20Newsgroups/\n",
            ".. _`TF-IDF`: https://en.wikipedia.org/wiki/Tf-idf\n",
            "\n",
            "\n",
            "Filtering text for more realistic training\n",
            "~~~~~~~~~~~~~~~~~~~~~~~~~~~~~~~~~~~~~~~~~~\n",
            "\n",
            "It is easy for a classifier to overfit on particular things that appear in the\n",
            "20 Newsgroups data, such as newsgroup headers. Many classifiers achieve very\n",
            "high F-scores, but their results would not generalize to other documents that\n",
            "aren't from this window of time.\n",
            "\n",
            "For example, let's look at the results of a multinomial Naive Bayes classifier,\n",
            "which is fast to train and achieves a decent F-score::\n",
            "\n",
            "  >>> from sklearn.naive_bayes import MultinomialNB\n",
            "  >>> from sklearn import metrics\n",
            "  >>> newsgroups_test = fetch_20newsgroups(subset='test',\n",
            "  ...                                      categories=categories)\n",
            "  >>> vectors_test = vectorizer.transform(newsgroups_test.data)\n",
            "  >>> clf = MultinomialNB(alpha=.01)\n",
            "  >>> clf.fit(vectors, newsgroups_train.target)\n",
            "  MultinomialNB(alpha=0.01, class_prior=None, fit_prior=True)\n",
            "\n",
            "  >>> pred = clf.predict(vectors_test)\n",
            "  >>> metrics.f1_score(newsgroups_test.target, pred, average='macro')\n",
            "  0.88213...\n",
            "\n",
            "(The example :ref:`sphx_glr_auto_examples_text_plot_document_classification_20newsgroups.py` shuffles\n",
            "the training and test data, instead of segmenting by time, and in that case\n",
            "multinomial Naive Bayes gets a much higher F-score of 0.88. Are you suspicious\n",
            "yet of what's going on inside this classifier?)\n",
            "\n",
            "Let's take a look at what the most informative features are:\n",
            "\n",
            "  >>> import numpy as np\n",
            "  >>> def show_top10(classifier, vectorizer, categories):\n",
            "  ...     feature_names = np.asarray(vectorizer.get_feature_names())\n",
            "  ...     for i, category in enumerate(categories):\n",
            "  ...         top10 = np.argsort(classifier.coef_[i])[-10:]\n",
            "  ...         print(\"%s: %s\" % (category, \" \".join(feature_names[top10])))\n",
            "  ...\n",
            "  >>> show_top10(clf, vectorizer, newsgroups_train.target_names)\n",
            "  alt.atheism: edu it and in you that is of to the\n",
            "  comp.graphics: edu in graphics it is for and of to the\n",
            "  sci.space: edu it that is in and space to of the\n",
            "  talk.religion.misc: not it you in is that and to of the\n",
            "\n",
            "\n",
            "You can now see many things that these features have overfit to:\n",
            "\n",
            "- Almost every group is distinguished by whether headers such as\n",
            "  ``NNTP-Posting-Host:`` and ``Distribution:`` appear more or less often.\n",
            "- Another significant feature involves whether the sender is affiliated with\n",
            "  a university, as indicated either by their headers or their signature.\n",
            "- The word \"article\" is a significant feature, based on how often people quote\n",
            "  previous posts like this: \"In article [article ID], [name] <[e-mail address]>\n",
            "  wrote:\"\n",
            "- Other features match the names and e-mail addresses of particular people who\n",
            "  were posting at the time.\n",
            "\n",
            "With such an abundance of clues that distinguish newsgroups, the classifiers\n",
            "barely have to identify topics from text at all, and they all perform at the\n",
            "same high level.\n",
            "\n",
            "For this reason, the functions that load 20 Newsgroups data provide a\n",
            "parameter called **remove**, telling it what kinds of information to strip out\n",
            "of each file. **remove** should be a tuple containing any subset of\n",
            "``('headers', 'footers', 'quotes')``, telling it to remove headers, signature\n",
            "blocks, and quotation blocks respectively.\n",
            "\n",
            "  >>> newsgroups_test = fetch_20newsgroups(subset='test',\n",
            "  ...                                      remove=('headers', 'footers', 'quotes'),\n",
            "  ...                                      categories=categories)\n",
            "  >>> vectors_test = vectorizer.transform(newsgroups_test.data)\n",
            "  >>> pred = clf.predict(vectors_test)\n",
            "  >>> metrics.f1_score(pred, newsgroups_test.target, average='macro')\n",
            "  0.77310...\n",
            "\n",
            "This classifier lost over a lot of its F-score, just because we removed\n",
            "metadata that has little to do with topic classification.\n",
            "It loses even more if we also strip this metadata from the training data:\n",
            "\n",
            "  >>> newsgroups_train = fetch_20newsgroups(subset='train',\n",
            "  ...                                       remove=('headers', 'footers', 'quotes'),\n",
            "  ...                                       categories=categories)\n",
            "  >>> vectors = vectorizer.fit_transform(newsgroups_train.data)\n",
            "  >>> clf = MultinomialNB(alpha=.01)\n",
            "  >>> clf.fit(vectors, newsgroups_train.target)\n",
            "  MultinomialNB(alpha=0.01, class_prior=None, fit_prior=True)\n",
            "\n",
            "  >>> vectors_test = vectorizer.transform(newsgroups_test.data)\n",
            "  >>> pred = clf.predict(vectors_test)\n",
            "  >>> metrics.f1_score(newsgroups_test.target, pred, average='macro')\n",
            "  0.76995...\n",
            "\n",
            "Some other classifiers cope better with this harder version of the task. Try\n",
            "running :ref:`sphx_glr_auto_examples_model_selection_grid_search_text_feature_extraction.py` with and without\n",
            "the ``--filter`` option to compare the results.\n",
            "\n",
            ".. topic:: Recommendation\n",
            "\n",
            "  When evaluating text classifiers on the 20 Newsgroups data, you\n",
            "  should strip newsgroup-related metadata. In scikit-learn, you can do this by\n",
            "  setting ``remove=('headers', 'footers', 'quotes')``. The F-score will be\n",
            "  lower because it is more realistic.\n",
            "\n",
            ".. topic:: Examples\n",
            "\n",
            "   * :ref:`sphx_glr_auto_examples_model_selection_grid_search_text_feature_extraction.py`\n",
            "\n",
            "   * :ref:`sphx_glr_auto_examples_text_plot_document_classification_20newsgroups.py`\n",
            "\n"
          ],
          "name": "stdout"
        }
      ]
    },
    {
      "cell_type": "code",
      "metadata": {
        "id": "WKp4Q_bCsgnk",
        "colab": {
          "base_uri": "https://localhost:8080/"
        },
        "outputId": "6f0bfaed-b1b0-49c3-822f-6cc2b7075025"
      },
      "source": [
        "# Example article\n",
        "print(newgroups_data['data'][0])"
      ],
      "execution_count": null,
      "outputs": [
        {
          "output_type": "stream",
          "text": [
            "From: lerxst@wam.umd.edu (where's my thing)\n",
            "Subject: WHAT car is this!?\n",
            "Nntp-Posting-Host: rac3.wam.umd.edu\n",
            "Organization: University of Maryland, College Park\n",
            "Lines: 15\n",
            "\n",
            " I was wondering if anyone out there could enlighten me on this car I saw\n",
            "the other day. It was a 2-door sports car, looked to be from the late 60s/\n",
            "early 70s. It was called a Bricklin. The doors were really small. In addition,\n",
            "the front bumper was separate from the rest of the body. This is \n",
            "all I know. If anyone can tellme a model name, engine specs, years\n",
            "of production, where this car is made, history, or whatever info you\n",
            "have on this funky looking car, please e-mail.\n",
            "\n",
            "Thanks,\n",
            "- IL\n",
            "   ---- brought to you by your neighborhood Lerxst ----\n",
            "\n",
            "\n",
            "\n",
            "\n",
            "\n"
          ],
          "name": "stdout"
        }
      ]
    },
    {
      "cell_type": "code",
      "metadata": {
        "id": "iPCUCncZsgnm",
        "colab": {
          "base_uri": "https://localhost:8080/"
        },
        "outputId": "d97a086e-d0ac-480b-f307-af0ba3d070f3"
      },
      "source": [
        "# Associated label\n",
        "newgroups_data['target'][0]"
      ],
      "execution_count": null,
      "outputs": [
        {
          "output_type": "execute_result",
          "data": {
            "text/plain": [
              "7"
            ]
          },
          "metadata": {
            "tags": []
          },
          "execution_count": 51
        }
      ]
    },
    {
      "cell_type": "code",
      "metadata": {
        "id": "CZ9aB7VIsgnn",
        "colab": {
          "base_uri": "https://localhost:8080/",
          "height": 35
        },
        "outputId": "53345e47-02c4-4e7a-8325-b8befda617a7"
      },
      "source": [
        "# Name of label\n",
        "newgroups_data['target_names'][7]"
      ],
      "execution_count": null,
      "outputs": [
        {
          "output_type": "execute_result",
          "data": {
            "application/vnd.google.colaboratory.intrinsic+json": {
              "type": "string"
            },
            "text/plain": [
              "'rec.autos'"
            ]
          },
          "metadata": {
            "tags": []
          },
          "execution_count": 52
        }
      ]
    },
    {
      "cell_type": "code",
      "metadata": {
        "id": "oWJh8srlsgnp"
      },
      "source": [
        "# Preprocessing boilerplate\n",
        "n_documents = len(newgroups_data['data'])\n",
        "\n",
        "count_vectorizer = CountVectorizer(input='content', binary=True,\n",
        "                                   max_df=0.25, min_df=1.01/n_documents) # ignore common words, words that appear once\n",
        "binary_bag_of_words = count_vectorizer.fit_transform(newgroups_data['data']) # input is a list of strings\n"
      ],
      "execution_count": null,
      "outputs": []
    },
    {
      "cell_type": "code",
      "metadata": {
        "id": "9r2-u5rhsgnq",
        "colab": {
          "base_uri": "https://localhost:8080/"
        },
        "outputId": "a2e6110d-c35b-4575-8c69-81ad89b2397b"
      },
      "source": [
        "# Check shape\n",
        "binary_bag_of_words.shape"
      ],
      "execution_count": null,
      "outputs": [
        {
          "output_type": "execute_result",
          "data": {
            "text/plain": [
              "(11314, 56365)"
            ]
          },
          "metadata": {
            "tags": []
          },
          "execution_count": 57
        }
      ]
    },
    {
      "cell_type": "code",
      "metadata": {
        "id": "eM0RVq-Isgnr",
        "colab": {
          "base_uri": "https://localhost:8080/"
        },
        "outputId": "9a1b8f50-445c-4a9d-ccb2-643a9765b6a4"
      },
      "source": [
        "# Check that the fit has been successful\n",
        "count_vectorizer.inverse_transform(binary_bag_of_words[0, :])"
      ],
      "execution_count": null,
      "outputs": [
        {
          "output_type": "execute_result",
          "data": {
            "text/plain": [
              "[array(['lerxst', 'wam', 'umd', 'where', 'thing', 'car', 'rac3',\n",
              "        'maryland', 'college', 'park', '15', 'wondering', 'anyone',\n",
              "        'could', 'enlighten', 'saw', 'day', 'door', 'sports', 'looked',\n",
              "        'late', '60s', 'early', '70s', 'called', 'bricklin', 'doors',\n",
              "        'were', 'really', 'small', 'addition', 'front', 'bumper',\n",
              "        'separate', 'rest', 'body', 'tellme', 'model', 'name', 'engine',\n",
              "        'specs', 'years', 'production', 'made', 'history', 'whatever',\n",
              "        'info', 'funky', 'looking', 'please', 'mail', 'thanks', 'il',\n",
              "        'brought', 'neighborhood'], dtype='<U80')]"
            ]
          },
          "metadata": {
            "tags": []
          },
          "execution_count": 59
        }
      ]
    },
    {
      "cell_type": "code",
      "metadata": {
        "id": "eUY3VFePsgns"
      },
      "source": [
        "# Dict that will be useful later \n",
        "inv_vocabulary = {value:key for key, value in count_vectorizer.vocabulary_.items()}"
      ],
      "execution_count": null,
      "outputs": []
    },
    {
      "cell_type": "markdown",
      "metadata": {
        "id": "sVO1Mphnsgns"
      },
      "source": [
        "#### A Naive Bayes classifier for `newsgroup`"
      ]
    },
    {
      "cell_type": "markdown",
      "metadata": {
        "id": "TJt1qOpdsgnt"
      },
      "source": [
        "Each feature vector $x$ is a list of indicators for whether a word appears in the article. $x_i$ is 1 if the $i$th word appears, and 0 otherwise. `inv_vocabulary` matches word indices $i$ to words.\n",
        "\n",
        "Each label $y$ is a value in $0, 1, \\ldots, 19$.\n",
        "\n",
        "The parts of a naive Bayes classifier for this problem can be summarised as:  \n",
        "\n",
        "\n",
        "- A probability distribution for the feature vector by class, $p(x|y = j)$ for each $j = 0, 1, \\ldots, 19$. These probability distributions are assumed to have independent components: we can factorize the joint probability as a product of marginal probabilities\n",
        "\\begin{equation}\n",
        "    p(x|y = j) = \\prod_{i=1}^d p(x_i|y = j)\n",
        "\\end{equation}\n",
        "These marginal probability distributions are Bernoulli distributions, each of which has a single parameter $\\theta_{ji} := p(x_i = 1|y = j)$. This parameter is the probability of observing word $i$ in an article of class $j$. \n",
        "\n",
        "- We will use the Laplace smoothed maximum likelihood estimate to compute these parameters. Laplace smoothing involves adding small counts to every feature for each class. Else, if a feature did not appear in the training set of a class, but then we observed it in our test data the log probability would be undefined.\n",
        "\n",
        "- A collection of class prior probabilities $p(y = j)$. These will be set by computing the class base rates in the training set.  \n",
        "\n",
        "\n",
        "- A function for computing the probability of class membership via Bayes' theorem:  \n",
        "\n",
        "\\begin{equation}\n",
        "    p(y = j|x) = \\frac{p(x|y = j)p(y = j)}{p(x)}\n",
        "\\end{equation}"
      ]
    },
    {
      "cell_type": "code",
      "metadata": {
        "id": "a-3QNrIusgnt"
      },
      "source": [
        "# Compute the parameter estimates (adjusted fraction of documents in class that contain word)\n",
        "n_classes = newgroups_data['target'].max() + 1\n",
        "y = newgroups_data['target']\n",
        "n_words = binary_bag_of_words.shape[1]\n",
        "\n",
        "alpha = 1e-6 # parameters for Laplace smoothing\n",
        "\n",
        "theta = np.zeros([n_classes, n_words]) # stores parameter values - prob. word given class\n",
        "for c_k in range(n_classes): # 0, 1, ..., 19\n",
        "    class_mask = (y == c_k)\n",
        "    N = class_mask.sum() # number of articles in class\n",
        "    theta[c_k, :] = (binary_bag_of_words[class_mask, :].sum(axis=0) + alpha)/(N + alpha*2)"
      ],
      "execution_count": null,
      "outputs": []
    },
    {
      "cell_type": "code",
      "metadata": {
        "id": "qrtP9pbCsgnv",
        "colab": {
          "base_uri": "https://localhost:8080/"
        },
        "outputId": "a70bf92a-da75-49da-87df-b0e1ac89a9c6"
      },
      "source": [
        "# Check whether the most probable word in each class is reasonable\n",
        "\n",
        "most_probable_word_ix = theta.argmax(axis=1) # most probable word for each class\n",
        "\n",
        "for j, ix in enumerate(most_probable_word_ix):\n",
        "    print('Most probable word in class {} is \"{}\".'.format(newgroups_data['target_names'][j],\n",
        "                                                           inv_vocabulary[ix]))"
      ],
      "execution_count": null,
      "outputs": [
        {
          "output_type": "stream",
          "text": [
            "Most probable word in class alt.atheism is \"people\".\n",
            "Most probable word in class comp.graphics is \"graphics\".\n",
            "Most probable word in class comp.os.ms-windows.misc is \"windows\".\n",
            "Most probable word in class comp.sys.ibm.pc.hardware is \"thanks\".\n",
            "Most probable word in class comp.sys.mac.hardware is \"mac\".\n",
            "Most probable word in class comp.windows.x is \"window\".\n",
            "Most probable word in class misc.forsale is \"sale\".\n",
            "Most probable word in class rec.autos is \"car\".\n",
            "Most probable word in class rec.motorcycles is \"dod\".\n",
            "Most probable word in class rec.sport.baseball is \"he\".\n",
            "Most probable word in class rec.sport.hockey is \"ca\".\n",
            "Most probable word in class sci.crypt is \"clipper\".\n",
            "Most probable word in class sci.electronics is \"use\".\n",
            "Most probable word in class sci.med is \"reply\".\n",
            "Most probable word in class sci.space is \"space\".\n",
            "Most probable word in class soc.religion.christian is \"god\".\n",
            "Most probable word in class talk.politics.guns is \"people\".\n",
            "Most probable word in class talk.politics.mideast is \"people\".\n",
            "Most probable word in class talk.politics.misc is \"people\".\n",
            "Most probable word in class talk.religion.misc is \"he\".\n"
          ],
          "name": "stdout"
        }
      ]
    },
    {
      "cell_type": "code",
      "metadata": {
        "id": "non1pt62sgnw",
        "colab": {
          "base_uri": "https://localhost:8080/"
        },
        "outputId": "693a238b-4f37-44c4-ec08-5e6c18d10af9"
      },
      "source": [
        "# Define a distribution for each class\n",
        "batch_of_bernoullis = tfd.Bernoulli(probs=theta)\n",
        "p_x_given_y = tfd.Independent(batch_of_bernoullis, \n",
        "                              reinterpreted_batch_ndims= 1)\n",
        "p_x_given_y"
      ],
      "execution_count": null,
      "outputs": [
        {
          "output_type": "execute_result",
          "data": {
            "text/plain": [
              "<tfp.distributions.Independent 'IndependentBernoulli' batch_shape=[20] event_shape=[56365] dtype=int32>"
            ]
          },
          "metadata": {
            "tags": []
          },
          "execution_count": 65
        }
      ]
    },
    {
      "cell_type": "code",
      "metadata": {
        "id": "k7HYAIHPsgnx",
        "colab": {
          "base_uri": "https://localhost:8080/"
        },
        "outputId": "7ad97bc0-112e-4c87-ce18-0175ffa2beac"
      },
      "source": [
        "# Take a sample of words from each class\n",
        "n_samples = 10\n",
        "sample = p_x_given_y.sample(n_samples)\n",
        "sample.shape"
      ],
      "execution_count": null,
      "outputs": [
        {
          "output_type": "execute_result",
          "data": {
            "text/plain": [
              "TensorShape([10, 20, 56365])"
            ]
          },
          "metadata": {
            "tags": []
          },
          "execution_count": 66
        }
      ]
    },
    {
      "cell_type": "code",
      "metadata": {
        "id": "l3mmyka3sgny",
        "colab": {
          "base_uri": "https://localhost:8080/",
          "height": 35
        },
        "outputId": "3b58c6e4-517e-4260-e74c-5ab0f43bd0d3"
      },
      "source": [
        "# Choose a class\n",
        "chosen_class = 15\n",
        "newgroups_data['target_names'][chosen_class]"
      ],
      "execution_count": null,
      "outputs": [
        {
          "output_type": "execute_result",
          "data": {
            "application/vnd.google.colaboratory.intrinsic+json": {
              "type": "string"
            },
            "text/plain": [
              "'soc.religion.christian'"
            ]
          },
          "metadata": {
            "tags": []
          },
          "execution_count": 68
        }
      ]
    },
    {
      "cell_type": "code",
      "metadata": {
        "id": "-hjf397Psgnz",
        "colab": {
          "base_uri": "https://localhost:8080/"
        },
        "outputId": "a6b03df9-a6f1-4140-c2f0-dc070bc3d842"
      },
      "source": [
        "# Indicators for words that appear in the sample\n",
        "class_sample = sample[:, chosen_class, :]\n",
        "class_sample"
      ],
      "execution_count": null,
      "outputs": [
        {
          "output_type": "execute_result",
          "data": {
            "text/plain": [
              "<tf.Tensor: shape=(10, 56365), dtype=int32, numpy=\n",
              "array([[0, 0, 0, ..., 0, 0, 0],\n",
              "       [0, 0, 0, ..., 0, 0, 0],\n",
              "       [1, 0, 0, ..., 0, 0, 0],\n",
              "       ...,\n",
              "       [0, 0, 0, ..., 0, 0, 0],\n",
              "       [0, 0, 0, ..., 0, 0, 0],\n",
              "       [0, 0, 0, ..., 0, 0, 0]], dtype=int32)>"
            ]
          },
          "metadata": {
            "tags": []
          },
          "execution_count": 69
        }
      ]
    },
    {
      "cell_type": "code",
      "metadata": {
        "id": "KdKW2gWnsgnz",
        "colab": {
          "base_uri": "https://localhost:8080/"
        },
        "outputId": "1f1e4aa5-810e-4a72-a38b-afd601db53eb"
      },
      "source": [
        "# Perform inverse transform to test quality of fit\n",
        "count_vectorizer.inverse_transform(class_sample)"
      ],
      "execution_count": null,
      "outputs": [
        {
          "output_type": "execute_result",
          "data": {
            "text/plain": [
              "[array(['12', '126', '1993', '20', '22102', '29', '3123', '41', '50', '61',\n",
              "        '7415', 'against', 'agree', 'am', 'appreciated', 'apr',\n",
              "        'arguments', 'auto', 'barnabas', 'been', 'before', 'being',\n",
              "        'believed', 'besieged', 'bgsu', 'biblical', 'bosporus', 'brush',\n",
              "        'case', 'christianity', 'christians', 'chuck', 'close', 'comes',\n",
              "        'consume', 'could', 'council', 'course', 'creature', 'darius',\n",
              "        'david', 'day', 'decisions', 'despite', 'disproved', 'does',\n",
              "        'doing', 'drop', 'each', 'early', 'etc', 'ever', 'everyone',\n",
              "        'evidence', 'experiment', 'eyes', 'fallen', 'find', 'gave',\n",
              "        'gifts', 'go', 'good', 'groups', 'hawking', 'he', 'idea',\n",
              "        'imperfect', 'important', 'impossible', 'institute', 'intended',\n",
              "        'internal', 'jersey', 'jew', 'jews', 'known', 'leave', 'look',\n",
              "        'lord', 'man', 'married', 'matter', 'men', 'might', 'mostly',\n",
              "        'much', 'mutuality', 'nickname', 'offered', 'omnipresent', 'our',\n",
              "        'pauline', 'pay', 'perhaps', 'permission', 'persevere', 'plain',\n",
              "        'powerful', 'press', 'pressured', 'quality', 'reason', 'relations',\n",
              "        'reply', 'research', 'rutgers', 'sane', 'scripture', 'see',\n",
              "        'someone', 'speak', 'spiritual', 'spot', 'superiority', 'taking',\n",
              "        'technology', 'tell', 'tenth', 'texas', 'their', 'them', 'then',\n",
              "        'thesaurus', 'think', 'thor', 'three', 'through', 'topic', 'try',\n",
              "        'trying', 'uk', 'uncharitable', 'under', 'until', 'us', 'uu',\n",
              "        'valuable', 'variety', 'warning', 'way', 'well', 'were', 'why',\n",
              "        'win', 'without', 'yea', 'yours'], dtype='<U80'),\n",
              " array(['01', '03', '11', '12', '1908', '1993', '24', '55', 'actually',\n",
              "        'amazing', 'andtbacka', 'apostles', 'associate', 'athos',\n",
              "        'baptism', 'because', 'believing', 'bless', 'born', 'ca',\n",
              "        'careful', 'case', 'cat', 'chips', 'christian', 'christianity',\n",
              "        'circumcision', 'combine', 'coming', 'commentators', 'company',\n",
              "        'computing', 'conclusion', 'contraceptive', 'course', 'cso',\n",
              "        'db7n', 'deeds', 'desires', 'dictate', 'did', 'disagree',\n",
              "        'documents', 'does', 'double', 'eggs', 'enough', 'equivalent',\n",
              "        'eventually', 'except', 'explain', 'fellow', 'figure', 'follow',\n",
              "        'foolishness', 'fsu', 'gives', 'god', 'good', 'great', 'groups',\n",
              "        'had', 'half', 'harwood', 'haven', 'heart', 'heaven', 'home',\n",
              "        'huh', 'idea', 'idiosyncratic', 'investigate', 'james', 'jr',\n",
              "        'judas', 'kinds', 'kingdom', 'last', 'later', 'll', 'looks',\n",
              "        'love', 'made', 'may', 'messengers', 'might', 'mind', 'mohammad',\n",
              "        'molecules', 'monash', 'news', 'nonsense', 'nothing', 'noyes',\n",
              "        'our', 'participation', 'paul', 'phone', 'plans', 'please', 'pope',\n",
              "        'power', 'presence', 'probably', 'procreate', 'prove', 'read',\n",
              "        'really', 'reasonably', 'relations', 'reproach', 'rexlex',\n",
              "        'rutgers', 'scriptural', 'see', 'simple', 'sometimes', 'sounds',\n",
              "        'spiritually', 'splits', 'still', 'suny', 'surely', 'takes',\n",
              "        'their', 'things', 'think', 'those', 'through', 'timothy', 'too',\n",
              "        'true', 'tsd', 'understanding', 'understood', 'unquestionable',\n",
              "        'vested', 'walking', 'well', 'western', 'whose', 'womb', 'works',\n",
              "        'yearning', 'yes', 'yet', 'young'], dtype='<U80'),\n",
              " array(['00', '10101', '18', '19', '7415', 'agony', 'ancient', 'answer',\n",
              "        'apostle', 'baritone', 'based', 'became', 'becoming', 'been',\n",
              "        'between', 'biblical', 'brent', 'christians', 'church', 'class',\n",
              "        'conclude', 'condition', 'conversations', 'cry', 'damned',\n",
              "        'danger', 'dead', 'death', 'dedicated', 'delighted', 'desire',\n",
              "        'did', 'didn', 'dim', 'dire', 'discuss', 'discussed', 'down',\n",
              "        'edged', 'evangelical', 'example', 'failure', 'false', 'following',\n",
              "        'fourteen', 'fraser', 'georgia', 'god', 'heard', 'heart', 'here',\n",
              "        'his', 'hymn', 'ignorant', 'interested', 'japan', 'jungles',\n",
              "        'knows', 'last', 'law', 'lay', 'leaders', 'least', 'll', 'looking',\n",
              "        'ludwig', 'magus', 'manfred', 'manner', 'maths', 'may', 'mdw33310',\n",
              "        'merely', 'messages', 'moment', 'mont', 'never', 'noble',\n",
              "        'nothing', 'observe', 'occasions', 'our', 'perfect', 'philosophy',\n",
              "        'possibility', 'priority', 'rather', 'reality', 'realize',\n",
              "        'really', 'reference', 'reliably', 'remember', 'reply', 'reproach',\n",
              "        'rest', 'rex', 'rhetoric', 'robert', 'rock', 'rutgers', 'simple',\n",
              "        'simplistic', 'singing', 'sinless', 'slang', 'sort', 'sorts',\n",
              "        'southwest', 'speaking', 'started', 'stated', 'student',\n",
              "        'surprised', 'take', 'themselves', 'thing', 'told', 'totally',\n",
              "        'trol', 'trying', 'unprovable', 'us', 'verse', 'version',\n",
              "        'waiting', 'whom', 'whose', 'wisdom', 'withdraw', 'women',\n",
              "        'worthy', 'yours'], dtype='<U80'),\n",
              " array(['02', '15', '17', '18', '1993', '23', '41', '50', '5th', 'aa888',\n",
              "        'age', 'already', 'anyone', 'anyway', 'apologize', 'argue',\n",
              "        'atterlep', 'basis', 'became', 'becoming', 'bed', 'bedrock',\n",
              "        'before', 'belief', 'believe', 'blessed', 'bodies', 'bull',\n",
              "        'business', 'ca', 'cause', 'causes', 'christian', 'christians',\n",
              "        'circumcision', 'coming', 'connection', 'could', 'crown', 'danger',\n",
              "        'days', 'didn', 'divine', 'down', 'energy', 'especially',\n",
              "        'everything', 'falling', 'fate', 'feast', 'find', 'first', 'fish',\n",
              "        'flogged', 'follows', 'formalities', 'geneva', 'getting', 'god',\n",
              "        'good', 'hand', 'he', 'his', 'hit', 'house', 'info', 'into', 'its',\n",
              "        'james', 'jesus', 'justice', 'larry', 'law', 'lay', 'lord',\n",
              "        'magazine', 'mccord', 'messianic', 'moreover', 'must', 'never',\n",
              "        'notes', 'nothing', 'odd', 'opinions', 'our', 'ourselves',\n",
              "        'passed', 'people', 'person', 'petty', 'port', 'prayers', 'really',\n",
              "        'repenting', 'republican', 'risc1', 'rob', 'rom', 'rules', 'sad',\n",
              "        'same', 'say', 'sea', 'see', 'sent', 'should', 'significance',\n",
              "        'sin', 'somewhere', 'specifying', 'spirit', 'subjective', 'taught',\n",
              "        'tel', 'them', 'thor', 'threatened', 'thus', 'time', 'topic',\n",
              "        'tree', 'tried', 'ultimately', 'ungodly', 'upbringing', 'usually',\n",
              "        'verse', 'very', 'west', 'whether', 'while', 'words', 'world'],\n",
              "       dtype='<U80'),\n",
              " array(['03', '11', '15', '17', '18', '1993', 'amateur', 'answers', 'ask',\n",
              "        'asking', 'assume', 'assumption', 'attempting', 'augustine',\n",
              "        'authority', 'become', 'been', 'blown', 'burial', 'called',\n",
              "        'cantua', 'carpenter', 'case', 'churches', 'claiming', 'complex',\n",
              "        'continent', 'contract', 'convict', 'cwis', 'day', 'dead',\n",
              "        'department', 'depends', 'did', 'difficult', 'doctrine', 'does',\n",
              "        'ecclesia', 'else', 'empty', 'end', 'etc', 'even', 'existance',\n",
              "        'fathers', 'fools', 'fsspr', 'general', 'gift', 'god', 'gods',\n",
              "        'good', 'greatest', 'happened', 'he', 'hear', 'heresies', 'his',\n",
              "        'however', 'institute', 'its', 'jodfishe', 'keeps', 'kingdom',\n",
              "        'last', 'later', 'letter', 'liberal', 'little', 'mary', 'matters',\n",
              "        'mediterranean', 'might', 'mighty', 'mind', 'miracles', 'mistaken',\n",
              "        'name', 'nazi', 'newscasts', 'odds', 'offers', 'opinions', 'our',\n",
              "        'part', 'people', 'personal', 'peter', 'physics', 'preferred',\n",
              "        'primarily', 'proper', 'provide', 'proving', 'provocative',\n",
              "        'reaction', 'right', 'rings', 'ritual', 'said', 'say', 'secure',\n",
              "        'seeming', 'shaken', 'shouldn', 'shredder', 'sin', 'something',\n",
              "        'son', 'sources', 'square', 'strict', 'studies', 'teacher', 'then',\n",
              "        'theologically', 'therefore', 'think', 'too', 'towns', 'vanity',\n",
              "        'verse', 'views', 'want', 'watching', 'were', 'where', 'whether',\n",
              "        'whuzzat', 'why', 'without', 'word', 'work', 'wrote', 'yet'],\n",
              "       dtype='<U80'),\n",
              " array(['02', '08', '56', 'absolve', 'addressed', 'africa', 'also', 'am',\n",
              "        'ambiguity', 'athena', 'att', 'babylon', 'basic', 'beach', 'bear',\n",
              "        'became', 'been', 'behavior', 'beliefs', 'believed', 'between',\n",
              "        'biblical', 'bitnet', 'body', 'books', 'both', 'boundary',\n",
              "        'brother', 'buddhist', 'cent', 'check', 'cite', 'claim', 'clear',\n",
              "        'comm', 'contact', 'couples', 'creator', 'creed', 'cs', 'decide',\n",
              "        'describe', 'described', 'did', 'discreet', 'dissolves', 'doesn',\n",
              "        'easy', 'effort', 'email', 'even', 'ever', 'existed', 'experience',\n",
              "        'expressing', 'faith', 'feel', 'few', 'find', 'friends', 'garnet',\n",
              "        'god', 'good', 'had', 'help', 'here', 'him', 'himself', 'his',\n",
              "        'hoped', 'ignore', 'influence', 'into', 'introduced', 'involve',\n",
              "        'island', 'jewish', 'knowledge', 'koresh', 'least', 'light',\n",
              "        'mail', 'manipulation', 'many', 'massive', 'men', 'mi',\n",
              "        'ministers', 'misled', 'missing', 'modules', 'most', 'oddballs',\n",
              "        'old', 'org', 'orthodoxy', 'otherwise', 'own', 'people', 'person',\n",
              "        'point', 'possible', 'powerful', 'practical', 'prepare',\n",
              "        'prompted', 'punish', 'punishment', 'question', 'quotes', 'ready',\n",
              "        'reminds', 'reproduce', 'requires', 'responds', 'responsibility',\n",
              "        'rutgers', 'said', 'say', 'says', 'seen', 'shaped', 'show', 'sit',\n",
              "        'slack', 'sola', 'specifically', 'stay', 'stowell', 'suggested',\n",
              "        'swears', 'than', 'theological', 'things', 'think', 'told', 'try',\n",
              "        'units', 'use', 'used', 'weeping', 'were', 'where', 'wise', 'wish',\n",
              "        'worshipped', 'wwc', 'ximenez', 'years', 'yugoslavia'],\n",
              "       dtype='<U80'),\n",
              " array(['09', '1800', '2000', '24', '28409', '2965', '374', '597',\n",
              "        'accidental', 'administrator', 'ai', 'anguish', 'appropriate',\n",
              "        'apr', 'ardent', 'aside', 'asked', 'authority', 'ayoub', 'been',\n",
              "        'believe', 'believed', 'beneficial', 'bible', 'bibles', 'book',\n",
              "        'bother', 'bottom', 'celebrate', 'changing', 'chessboard',\n",
              "        'christians', 'church', 'circumstances', 'clh', 'cmu', 'cogently',\n",
              "        'common', 'comprehending', 'conservatives', 'cut', 'days', 'dealt',\n",
              "        'definition', 'deleted', 'direct', 'discard', 'dispensational',\n",
              "        'division', 'either', 'end', 'essential', 'evangelicals',\n",
              "        'everyone', 'faith', 'fallen', 'fellow', 'first', 'forced', 'free',\n",
              "        'fully', 'functioning', 'geneva', 'gives', 'god', 'going', 'had',\n",
              "        'hear', 'heart', 'her', 'hmm', 'however', 'idea', 'inc',\n",
              "        'incedently', 'jen', 'jesus', 'jump', 'law', 'learned', 'man',\n",
              "        'many', 'men', 'ment', 'misunderstand', 'muskingum', 'nature',\n",
              "        'news', 'note', 'nothing', 'odd', 'oh', 'old', 'originally', 'our',\n",
              "        'page', 'parish', 'person', 'pre', 'presenting', 'question',\n",
              "        'realize', 'reason', 'remember', 'return', 'revealed', 'right',\n",
              "        'rudolf', 'same', 'scriptures', 'sends', 'sense', 'serves', 'sin',\n",
              "        'sleep', 'slightly', 'small', 'spat', 'stance', 'studied', 'such',\n",
              "        'summary', 'target', 'their', 'trait', 'truth', 'unambiguously',\n",
              "        'vampire', 'very', 'waiting', 'want', 'were', 'why', 'wickedness',\n",
              "        'word'], dtype='<U80'),\n",
              " array(['14391', '15', '23', '24', '3042', 'above', 'agreed', 'aisun3',\n",
              "        'ambrose', 'answer', 'anyone', 'anything', 'anyways', 'appears',\n",
              "        'argument', 'asks', 'assume', 'assuming', 'atheism', 'atheists',\n",
              "        'aunt', 'beauty', 'became', 'because', 'begins', 'believe', 'bgsu',\n",
              "        'bible', 'bones', 'came', 'capital', 'care', 'cc', 'chapter',\n",
              "        'chrisitan', 'christ', 'christians', 'colorado', 'come',\n",
              "        'computer', 'continued', 'count', 'course', 'covington', 'create',\n",
              "        'critiques', 'cs', 'debate', 'deny', 'described', 'despite',\n",
              "        'died', 'different', 'divorce', 'dt', 'each', 'easier', 'eating',\n",
              "        'effect', 'egyptians', 'engineer', 'etc', 'exclusive',\n",
              "        'expression', 'fact', 'far', 'feelings', 'give', 'go', 'god',\n",
              "        'gold', 'half', 'he', 'her', 'him', 'humans', 'ideas',\n",
              "        'importance', 'include', 'jeezus', 'joseph', 'judgemental', 'law',\n",
              "        'least', 'lethal', 'loaded', 'lovely', 'loves', 'ma', 'major',\n",
              "        'make', 'makes', 'mass', 'may', 'means', 'merton', 'modern',\n",
              "        'mostly', 'names', 'national', 'necessarily', 'newsgroup', 'now',\n",
              "        'noyes', 'nurture', 'oakland', 'obligation', 'operate', 'org',\n",
              "        'orientation', 'over', 'past', 'person', 'place', 'point',\n",
              "        'powers', 'pressed', 'put', 'question', 'rather', 'readily',\n",
              "        'real', 'realized', 'reject', 'remember', 'robbery', 'rutgers',\n",
              "        'satan', 'scintific', 'seeing', 'seeker', 'sense', 'silver',\n",
              "        'society', 'sole', 'spelling', 'standards', 'statement', 'still',\n",
              "        'strictly', 'such', 'suppose', 'terminology', 'terribly', 'than',\n",
              "        'them', 'then', 'therefore', 'these', 'think', 'thou', 'thought',\n",
              "        'too', 'training', 'uncritically', 'understood', 'unisa',\n",
              "        'universes', 'utter', 'ventured', 'view', 'views', 'way', 'were',\n",
              "        'wipe', 'worships', 'write', 'wustl'], dtype='<U80'),\n",
              " array(['1993', '24', '26', '31', '44', '6578', 'academic', 'admit',\n",
              "        'agree', 'alan', 'answer', 'anti', 'artificial', 'aspect',\n",
              "        'aspects', 'assure', 'athos', 'automatically', 'avoid', 'based',\n",
              "        'best', 'bible', 'cae', 'called', 'cannot', 'cc', 'choices',\n",
              "        'christ', 'christianity', 'christians', 'commentary', 'common',\n",
              "        'concern', 'considered', 'couple', 'death', 'devoid', 'disproved',\n",
              "        'divisions', 'does', 'early', 'east', 'eastren', 'eight',\n",
              "        'emphasize', 'empty', 'enoch', 'enough', 'es', 'eternal',\n",
              "        'everyone', 'exist', 'expressed', 'far', 'fellow', 'follow',\n",
              "        'forbidden', 'formula', 'generation', 'geologists', 'give',\n",
              "        'grades', 'had', 'he', 'heaven', 'hence', 'hfsi', 'his', 'honor',\n",
              "        'idea', 'interesting', 'into', 'intuitive', 'its', 'iv', 'john',\n",
              "        'least', 'lifetime', 'likely', 'll', 'love', 'marched', 'may',\n",
              "        'mercy', 'messiah', 'mmalt', 'necessary', 'notes', 'often',\n",
              "        'people', 'personnel', 'plain', 'plato', 'play', 'point',\n",
              "        'portion', 'post', 'problem', 'proofs', 'prophets', 'public',\n",
              "        'questions', 'reading', 'recognized', 'religious', 'rutgers',\n",
              "        'share', 'sharp', 'singapore', 'someone', 'sounds', 'stated',\n",
              "        'studied', 'such', 'testimony', 'text', 'them', 'theology',\n",
              "        'things', 'those', 'thought', 'throne', 'time', 'title', 'too',\n",
              "        'uh', 'understood', 'until', 'us', 'viva', 'want', 'way',\n",
              "        'western', 'willing', 'wings', 'wish', 'word', 'yet'], dtype='<U80'),\n",
              " array(['12', '28880', '5of5', 'abortion', 'acs', 'ad', 'advocate',\n",
              "        'after', 'ai', 'alone', 'apparantly', 'approach', 'aren',\n",
              "        'arrogant', 'assurance', 'attacks', 'being', 'bible', 'buddhist',\n",
              "        'case', 'catholic', 'century', 'christianity', 'churches',\n",
              "        'circumcision', 'claiming', 'cleveland', 'concede', 'created',\n",
              "        'cultist', 'cunyvm', 'department', 'dirty', 'discussing',\n",
              "        'disobeyers', 'dleonar', 'does', 'east', 'either', 'ends',\n",
              "        'equally', 'fact', 'feminine', 'first', 'form', 'free', 'give',\n",
              "        'god', 'going', 'grace', 'greek', 'guides', 'harmonize', 'he',\n",
              "        'heard', 'hebrews', 'idea', 'ie', 'its', 'jbuddenberg', 'jewish',\n",
              "        'john', 'labs', 'led', 'life', 'list', 'live', 'long', 'look',\n",
              "        'love', 'lukewarm', 'material', 'may', 'model', 'months', 'much',\n",
              "        'name', 'nature', 'never', 'new', 'non', 'none', 'nyx', 'often',\n",
              "        'opinions', 'original', 'others', 'pain', 'paul', 'praying',\n",
              "        'properly', 'purpose', 'read', 'ready', 'revolutionary', 'right',\n",
              "        'sadly', 'same', 'scientists', 'see', 'servant', 'shows', 'simply',\n",
              "        'sin', 'smith', 'sorts', 'started', 'statistics', 'sucking',\n",
              "        'suffering', 'sufficiently', 'summer', 'suppose', 'sure', 'taken',\n",
              "        'temper', 'them', 'think', 'unemployed', 'until', 'upon', 'walker',\n",
              "        'way', 'where', 'while', 'whole', 'why', 'work'], dtype='<U80')]"
            ]
          },
          "metadata": {
            "tags": []
          },
          "execution_count": 70
        }
      ]
    },
    {
      "cell_type": "markdown",
      "metadata": {
        "id": "D3rFgnVisgn0"
      },
      "source": [
        "***\n",
        "<a id='sampling_and_log_probs'></a>\n",
        "## Sampling and log probs"
      ]
    },
    {
      "cell_type": "code",
      "metadata": {
        "id": "KlOt3_6wsgn0",
        "colab": {
          "base_uri": "https://localhost:8080/"
        },
        "outputId": "ab7a5751-fdc6-45dc-f905-91ad74921367"
      },
      "source": [
        "# Make Multivariate Distribution\n",
        "\n",
        "normal_distributions = tfd.MultivariateNormalDiag(loc=[[0.5, 1], [0.1, 0], [0, 0.2]],\n",
        "                                 scale_diag=[[2, 3], [1, 3], [4, 4]])\n",
        "normal_distributions"
      ],
      "execution_count": 3,
      "outputs": [
        {
          "output_type": "execute_result",
          "data": {
            "text/plain": [
              "<tfp.distributions.MultivariateNormalDiag 'MultivariateNormalDiag' batch_shape=[3] event_shape=[2] dtype=float32>"
            ]
          },
          "metadata": {
            "tags": []
          },
          "execution_count": 3
        }
      ]
    },
    {
      "cell_type": "code",
      "metadata": {
        "id": "ehfUugwBsgn2",
        "colab": {
          "base_uri": "https://localhost:8080/"
        },
        "outputId": "d139f27c-b66f-48b1-fdff-758bfc7da7bc"
      },
      "source": [
        "# Sample\n",
        "normal_distributions.sample(5)"
      ],
      "execution_count": 6,
      "outputs": [
        {
          "output_type": "execute_result",
          "data": {
            "text/plain": [
              "<tf.Tensor: shape=(5, 3, 2), dtype=float32, numpy=\n",
              "array([[[-1.2961674 , -3.4648843 ],\n",
              "        [-1.7259144 , -2.356639  ],\n",
              "        [-1.7776723 ,  0.9847862 ]],\n",
              "\n",
              "       [[ 0.8520931 ,  3.0043614 ],\n",
              "        [-1.4252505 ,  4.269158  ],\n",
              "        [ 2.541176  ,  0.38246575]],\n",
              "\n",
              "       [[ 0.0661459 ,  0.64083046],\n",
              "        [-1.6084905 , -3.1842263 ],\n",
              "        [ 2.0696645 , -1.9636502 ]],\n",
              "\n",
              "       [[ 0.6721385 ,  2.5767398 ],\n",
              "        [-1.1781933 , -0.02150659],\n",
              "        [-1.5799453 , -3.6013174 ]],\n",
              "\n",
              "       [[-1.9095645 , -0.96390367],\n",
              "        [ 0.1170806 , -1.9153602 ],\n",
              "        [ 0.15956835,  4.828182  ]]], dtype=float32)>"
            ]
          },
          "metadata": {
            "tags": []
          },
          "execution_count": 6
        }
      ]
    },
    {
      "cell_type": "code",
      "metadata": {
        "id": "w80M9ksdsgn3",
        "colab": {
          "base_uri": "https://localhost:8080/"
        },
        "outputId": "0c796f24-dd34-458e-ae94-fada53242da0"
      },
      "source": [
        "# Multivariate Normal batched Distribution\n",
        "# We are broadcasting batch shapes of `loc` and `scal_diag` \n",
        "# against each other\n",
        "loc = [[[0.3, 1.5, 1.], [0.2, 0.4, 2.8]],\n",
        "        [[2., 2.3, 8], [1.4, 1, 1.3]]]\n",
        "scale_diag = [0.4, 1., 0.7]\n",
        "normal_distributions = tfd.MultivariateNormalDiag(loc=loc, scale_diag=scale_diag)\n",
        "normal_distributions"
      ],
      "execution_count": 7,
      "outputs": [
        {
          "output_type": "execute_result",
          "data": {
            "text/plain": [
              "<tfp.distributions.MultivariateNormalDiag 'MultivariateNormalDiag' batch_shape=[2, 2] event_shape=[3] dtype=float32>"
            ]
          },
          "metadata": {
            "tags": []
          },
          "execution_count": 7
        }
      ]
    },
    {
      "cell_type": "code",
      "metadata": {
        "id": "Y9uZwTbjsgn4",
        "colab": {
          "base_uri": "https://localhost:8080/"
        },
        "outputId": "aa2e4404-60ee-4fcb-a261-6539c2d4321e"
      },
      "source": [
        "# Use independent to move part of the batch shape\n",
        "ind_normal_dist = tfd.Independent(normal_distributions,\n",
        "                                  reinterpreted_batch_ndims = 1)\n",
        "ind_normal_dist"
      ],
      "execution_count": 12,
      "outputs": [
        {
          "output_type": "execute_result",
          "data": {
            "text/plain": [
              "<tfp.distributions.Independent 'IndependentMultivariateNormalDiag' batch_shape=[2] event_shape=[2, 3] dtype=float32>"
            ]
          },
          "metadata": {
            "tags": []
          },
          "execution_count": 12
        }
      ]
    },
    {
      "cell_type": "code",
      "metadata": {
        "id": "HVM4lq7Tsgn4",
        "colab": {
          "base_uri": "https://localhost:8080/"
        },
        "outputId": "5a1d2bc1-79bc-443a-f8d6-409e31ac6adc"
      },
      "source": [
        "# Draw some samples\n",
        "samples = ind_normal_dist.sample(5)\n",
        "samples.shape"
      ],
      "execution_count": 13,
      "outputs": [
        {
          "output_type": "execute_result",
          "data": {
            "text/plain": [
              "TensorShape([5, 2, 2, 3])"
            ]
          },
          "metadata": {
            "tags": []
          },
          "execution_count": 13
        }
      ]
    },
    {
      "cell_type": "code",
      "metadata": {
        "id": "XMv3kGNksgn5",
        "colab": {
          "base_uri": "https://localhost:8080/"
        },
        "outputId": "767b792a-1526-41dc-fe66-838e7e585113"
      },
      "source": [
        "# `[B, E]` shaped input\n",
        "inp = tf.random.uniform((2,2,3))\n",
        "ind_normal_dist.log_prob(inp)"
      ],
      "execution_count": 14,
      "outputs": [
        {
          "output_type": "execute_result",
          "data": {
            "text/plain": [
              "<tf.Tensor: shape=(2,), dtype=float32, numpy=array([-10.683702, -70.85609 ], dtype=float32)>"
            ]
          },
          "metadata": {
            "tags": []
          },
          "execution_count": 14
        }
      ]
    },
    {
      "cell_type": "code",
      "metadata": {
        "id": "2t0x9cLSsgn6",
        "colab": {
          "base_uri": "https://localhost:8080/"
        },
        "outputId": "7aaee200-1a71-4398-cf0c-0ed7d5d3ea4a"
      },
      "source": [
        "# `[E]` shaped input (broadcasting over batch size)\n",
        "inp = tf.random.uniform((2,3))\n",
        "ind_normal_dist.log_prob(inp)"
      ],
      "execution_count": 15,
      "outputs": [
        {
          "output_type": "execute_result",
          "data": {
            "text/plain": [
              "<tf.Tensor: shape=(2,), dtype=float32, numpy=array([ -9.249443, -75.61279 ], dtype=float32)>"
            ]
          },
          "metadata": {
            "tags": []
          },
          "execution_count": 15
        }
      ]
    },
    {
      "cell_type": "code",
      "metadata": {
        "id": "-cxhum6xsgn7",
        "colab": {
          "base_uri": "https://localhost:8080/"
        },
        "outputId": "2c0b5746-d151-4278-cacc-584c11d1db83"
      },
      "source": [
        "#`[S, B, E]` shaped input (broadcasting over samples)\n",
        "inp = tf.random.uniform((9,2,2,3))\n",
        "ind_normal_dist.log_prob(inp)"
      ],
      "execution_count": 16,
      "outputs": [
        {
          "output_type": "execute_result",
          "data": {
            "text/plain": [
              "<tf.Tensor: shape=(9, 2), dtype=float32, numpy=\n",
              "array([[-12.21836 , -70.394684],\n",
              "       [ -7.264469, -85.92087 ],\n",
              "       [ -7.722307, -77.85683 ],\n",
              "       [-10.986505, -77.435074],\n",
              "       [-11.681156, -67.48659 ],\n",
              "       [ -9.741246, -68.502914],\n",
              "       [ -9.467726, -76.27688 ],\n",
              "       [-11.667308, -75.85168 ],\n",
              "       [-10.043331, -82.41718 ]], dtype=float32)>"
            ]
          },
          "metadata": {
            "tags": []
          },
          "execution_count": 16
        }
      ]
    },
    {
      "cell_type": "code",
      "metadata": {
        "id": "6uIkjUpMsgn8",
        "colab": {
          "base_uri": "https://localhost:8080/"
        },
        "outputId": "b5a60b3e-53b6-4f69-d6c1-48c2ce9081a6"
      },
      "source": [
        "# `[S, b, e]` shaped input, where [b, e] is broadcastable over [B, E]\n",
        "inp = tf.random.uniform((5,1,2,1))\n",
        "ind_normal_dist.log_prob(inp)"
      ],
      "execution_count": 17,
      "outputs": [
        {
          "output_type": "stream",
          "text": [
            "WARNING: Nested component \"MultivariateNormalDiag_scale_matvec_linear_operator\" in composition \"MultivariateNormalDiag_chain_of_MultivariateNormalDiag_shift_of_MultivariateNormalDiag_scale_matvec_linear_operator\" operates on inputs with increased degrees of freedom. This may result in an incorrect log_det_jacobian.\n"
          ],
          "name": "stdout"
        },
        {
          "output_type": "execute_result",
          "data": {
            "text/plain": [
              "<tf.Tensor: shape=(5, 2), dtype=float32, numpy=\n",
              "array([[ -9.131046, -70.296005],\n",
              "       [-10.460278, -83.73175 ],\n",
              "       [-11.657809, -80.00502 ],\n",
              "       [-11.055916, -67.27801 ],\n",
              "       [-10.54241 , -82.90212 ]], dtype=float32)>"
            ]
          },
          "metadata": {
            "tags": []
          },
          "execution_count": 17
        }
      ]
    },
    {
      "cell_type": "markdown",
      "metadata": {
        "id": "WN0c2mTosgn-"
      },
      "source": [
        "#### Naive Bayes example\n",
        "\n",
        "Lets now use what we have learned and continue the Naive Bayes classifier we were building last tutorial."
      ]
    },
    {
      "cell_type": "markdown",
      "metadata": {
        "id": "agSEQnKW6NSq"
      },
      "source": [
        "#### Import the data\n",
        "\n",
        "The dataset required for this coding tutorial can be downloaded from the following link:\n",
        "\n",
        "https://drive.google.com/file/d/1ZdVZFZv3eEw3Duwjg4fvtYAsgySoCRIm/view?usp=sharing\n",
        "\n",
        "You should store this file in Drive for use in this Colab notebook."
      ]
    },
    {
      "cell_type": "code",
      "metadata": {
        "id": "FfMucVWr6NSr",
        "colab": {
          "base_uri": "https://localhost:8080/"
        },
        "outputId": "34b33539-bf52-488d-da2a-5a1af5f4409e"
      },
      "source": [
        "# Run this cell to connect to your Drive folder\n",
        "\n",
        "from google.colab import drive\n",
        "drive.mount('/content/gdrive')"
      ],
      "execution_count": 18,
      "outputs": [
        {
          "output_type": "stream",
          "text": [
            "Mounted at /content/gdrive\n"
          ],
          "name": "stdout"
        }
      ]
    },
    {
      "cell_type": "code",
      "metadata": {
        "id": "mdR-4dPcsgn_"
      },
      "source": [
        "from sklearn.datasets import fetch_20newsgroups\n",
        "from sklearn.feature_extraction.text import CountVectorizer\n",
        "from sklearn.naive_bayes import BernoulliNB\n",
        "from sklearn.metrics import f1_score"
      ],
      "execution_count": 19,
      "outputs": []
    },
    {
      "cell_type": "code",
      "metadata": {
        "id": "6Oqs907ysgoB"
      },
      "source": [
        "# Making a function get_data which:\n",
        "#   1) Fetches the 20 newsgroup dataset\n",
        "#   2) Performs a word count on the articles and binarizes the result\n",
        "#   3) Returns the data as a numpy matrix with the labels\n",
        "\n",
        "def get_data(categories):\n",
        "    \n",
        "    newsgroups_train_data = fetch_20newsgroups(data_home='/content/gdrive/MyDrive/Course_3 Probabilistic Deep Learning with TensorFlow 2/Week1/20_Newsgroup_Data/',\n",
        "                                               subset='train', categories=categories)\n",
        "    newsgroups_test_data = fetch_20newsgroups(data_home='/content/gdrive/MyDrive/Course_3 Probabilistic Deep Learning with TensorFlow 2/Week1/20_Newsgroup_Data/',\n",
        "                                              subset='test', categories=categories)\n",
        "\n",
        "    n_documents = len(newsgroups_test_data['data'])\n",
        "    count_vectorizer = CountVectorizer(input='content', binary=True,max_df=0.25, min_df=1.01/n_documents)\n",
        "    \n",
        "    train_binary_bag_of_words = count_vectorizer.fit_transform(newsgroups_train_data['data'])\n",
        "    test_binary_bag_of_words = count_vectorizer.transform(newsgroups_test_data['data']) \n",
        "\n",
        "    return (train_binary_bag_of_words.todense(), newsgroups_train_data['target']),  (test_binary_bag_of_words.todense(), newsgroups_test_data['target'])"
      ],
      "execution_count": 20,
      "outputs": []
    },
    {
      "cell_type": "code",
      "metadata": {
        "id": "oasCKIY4sgoC"
      },
      "source": [
        "# Defining a function to conduct Laplace smoothing. This adds a base level of probability for a given feature\n",
        "# to occur in every class.\n",
        "\n",
        "def laplace_smoothing(labels, binary_data, n_classes):\n",
        "    # Compute the parameter estimates (adjusted fraction of documents in class that contain word)\n",
        "    n_words = binary_data.shape[1]\n",
        "    alpha = 1 # parameters for Laplace smoothing\n",
        "    theta = np.zeros([n_classes, n_words]) # stores parameter values - prob. word given class\n",
        "    for c_k in range(n_classes): # 0, 1, ..., 19\n",
        "        class_mask = (labels == c_k)\n",
        "        N = class_mask.sum() # number of articles in class\n",
        "        theta[c_k, :] = (binary_data[class_mask, :].sum(axis=0) + alpha)/(N + alpha*2)\n",
        "\n",
        "    return theta"
      ],
      "execution_count": 21,
      "outputs": []
    },
    {
      "cell_type": "code",
      "metadata": {
        "id": "-_9fxEIdsgoD"
      },
      "source": [
        "# Getting a subset of the 20 newsgroup dataset\n",
        "\n",
        "categories = ['alt.atheism', 'talk.religion.misc', 'comp.graphics', 'sci.space']\n",
        "\n",
        "(train_data, train_labels), (test_data, test_labels) = get_data(categories=categories)\n",
        "smoothed_counts = laplace_smoothing(labels=train_labels, binary_data=train_data, n_classes=len(categories))"
      ],
      "execution_count": 22,
      "outputs": []
    },
    {
      "cell_type": "markdown",
      "metadata": {
        "id": "00DbbifVsgoD"
      },
      "source": [
        "To now make our NB classifier we need to build three functions:\n",
        "* Compute the class priors\n",
        "* Build our class conditional distributions\n",
        "* Put it all together and classify our data"
      ]
    },
    {
      "cell_type": "code",
      "metadata": {
        "id": "jiU1sFnHsgoE"
      },
      "source": [
        "# Function which computes the prior probability of every class based on frequency of occurence in \n",
        "# the dataset\n",
        "def class_priors(n_classes, labels):\n",
        "    counts = np.zeros(n_classes)\n",
        "    for c_k in range(n_classes):\n",
        "        counts[c_k] = np.sum(np.where(labels==c_k, 1, 0))\n",
        "    priors = counts / np.sum(counts)\n",
        "    print('The class priors are {}'.format(priors))\n",
        "    return priors"
      ],
      "execution_count": 23,
      "outputs": []
    },
    {
      "cell_type": "code",
      "metadata": {
        "id": "0SHV-BzgsgoF",
        "colab": {
          "base_uri": "https://localhost:8080/"
        },
        "outputId": "782ff76f-2ba9-45ff-b739-6f508e533d00"
      },
      "source": [
        "# Run the function \n",
        "priors = class_priors(n_classes=len(categories), labels=train_labels)"
      ],
      "execution_count": 24,
      "outputs": [
        {
          "output_type": "stream",
          "text": [
            "The class priors are [0.2359882  0.28711898 0.29154376 0.18534907]\n"
          ],
          "name": "stdout"
        }
      ]
    },
    {
      "cell_type": "code",
      "metadata": {
        "id": "yWZaIj2YsgoF",
        "colab": {
          "base_uri": "https://localhost:8080/"
        },
        "outputId": "816d8bd9-fc3f-4a52-a19d-b0807e10472f"
      },
      "source": [
        "# Now we will do a function that given the feature occurence counts returns a Bernoulli distribution of \n",
        "# batch_shape=number of classes and event_shape=number of features.\n",
        "def make_distribution(probs):\n",
        "  batch_of_bernoullis = tfd.Bernoulli(probs=probs)\n",
        "  dist = tfd.Independent(batch_of_bernoullis,\n",
        "                         reinterpreted_batch_ndims = 1)\n",
        "  return dist\n",
        "\n",
        "tf_dist = make_distribution(smoothed_counts)\n",
        "tf_dist"
      ],
      "execution_count": 26,
      "outputs": [
        {
          "output_type": "execute_result",
          "data": {
            "text/plain": [
              "<tfp.distributions.Independent 'IndependentBernoulli' batch_shape=[4] event_shape=[17495] dtype=int32>"
            ]
          },
          "metadata": {
            "tags": []
          },
          "execution_count": 26
        }
      ]
    },
    {
      "cell_type": "code",
      "metadata": {
        "id": "KzqiG4LYsgoI"
      },
      "source": [
        "# The final function predict_sample which given the distribution, a test sample, and the class priors:\n",
        "#   1) Computes the class conditional probabilities given the sample\n",
        "#   2) Forms the joint likelihood\n",
        "#   3) Normalises the joint likelihood and returns the log prob\n",
        "def predict_sample(dist, sample, priors):\n",
        "  cond_probs = dist.log_prob(sample)\n",
        "  joint_likelihood = tf.add(np.log(priors), cond_probs)\n",
        "  norm_factor = tf.math.reduce_logsumexp(joint_likelihood, axis=-1, keepdims=True)\n",
        "  log_prob = joint_likelihood - norm_factor\n",
        "\n",
        "  return log_prob"
      ],
      "execution_count": 27,
      "outputs": []
    },
    {
      "cell_type": "markdown",
      "metadata": {
        "id": "8kTjEmFysgoJ"
      },
      "source": [
        "#### Computing log_probs"
      ]
    },
    {
      "cell_type": "code",
      "metadata": {
        "id": "rXimNT4csgoJ",
        "colab": {
          "base_uri": "https://localhost:8080/"
        },
        "outputId": "22fe8987-6539-4360-85ab-14d6e446a727"
      },
      "source": [
        "# Predicting one example from our test data\n",
        "log_probs = predict_sample(tf_dist, test_data[0], priors)\n",
        "log_probs"
      ],
      "execution_count": 28,
      "outputs": [
        {
          "output_type": "execute_result",
          "data": {
            "text/plain": [
              "<tf.Tensor: shape=(4,), dtype=float32, numpy=\n",
              "array([-6.17363739e+01, -1.52587891e-05, -1.16197815e+01, -6.33276672e+01],\n",
              "      dtype=float32)>"
            ]
          },
          "metadata": {
            "tags": []
          },
          "execution_count": 28
        }
      ]
    },
    {
      "cell_type": "code",
      "metadata": {
        "id": "kU5TbCt4sgoK",
        "colab": {
          "base_uri": "https://localhost:8080/"
        },
        "outputId": "29a26d24-9dd2-4f69-9220-56d62733dbe5"
      },
      "source": [
        "# Loop over our test data and classify.\n",
        "probabilities = []\n",
        "for sample, label in zip(test_data, test_labels):\n",
        "    probabilities.append(tf.exp(predict_sample(tf_dist, sample, priors)))\n",
        "\n",
        "probabilities = np.asarray(probabilities)\n",
        "predicted_classes = np.argmax(probabilities, axis =-1)\n",
        "print('f1 ', f1_score(test_labels, predicted_classes, average='macro'))"
      ],
      "execution_count": 29,
      "outputs": [
        {
          "output_type": "stream",
          "text": [
            "f1  0.7848499112849504\n"
          ],
          "name": "stdout"
        }
      ]
    },
    {
      "cell_type": "code",
      "metadata": {
        "id": "mivNa-lwsgoK",
        "colab": {
          "base_uri": "https://localhost:8080/"
        },
        "outputId": "0219baef-6b5b-43a4-a114-75442b1a0760"
      },
      "source": [
        "# Make a Bernoulli Naive Bayes classifier using sklearn with the same level of alpha smoothing. \n",
        "clf = BernoulliNB(alpha=1)\n",
        "clf.fit(train_data, train_labels)\n",
        "pred = clf.predict(test_data)\n",
        "print('f1 from sklean ', f1_score(test_labels, pred, average='macro'))"
      ],
      "execution_count": 37,
      "outputs": [
        {
          "output_type": "stream",
          "text": [
            "f1 from sklean  0.7848499112849504\n"
          ],
          "name": "stdout"
        }
      ]
    },
    {
      "cell_type": "markdown",
      "metadata": {
        "id": "ycDlIEiGsgoM"
      },
      "source": [
        "***\n",
        "<a id='trainable_distributions'></a>\n",
        "## Trainable Distributions"
      ]
    },
    {
      "cell_type": "markdown",
      "metadata": {
        "id": "3mg2sCfP6baJ"
      },
      "source": [
        "#### Import the data\n",
        "\n",
        "The dataset required for this coding tutorial can be downloaded from the following link:\n",
        "\n",
        "https://drive.google.com/file/d/1ZdVZFZv3eEw3Duwjg4fvtYAsgySoCRIm/view?usp=sharing\n",
        "\n",
        "You should store this file in Drive for use in this Colab notebook."
      ]
    },
    {
      "cell_type": "code",
      "metadata": {
        "id": "P7mRZlWE6baL"
      },
      "source": [
        "# Run this cell to connect to your Drive folder\n",
        "\n",
        "from google.colab import drive\n",
        "drive.mount('/content/gdrive')"
      ],
      "execution_count": null,
      "outputs": []
    },
    {
      "cell_type": "code",
      "metadata": {
        "id": "LD0A3yan6e3L"
      },
      "source": [
        "from sklearn.datasets import fetch_20newsgroups\n",
        "from sklearn.feature_extraction.text import CountVectorizer\n",
        "from sklearn.naive_bayes import BernoulliNB\n",
        "from sklearn.metrics import f1_score"
      ],
      "execution_count": 49,
      "outputs": []
    },
    {
      "cell_type": "code",
      "metadata": {
        "id": "Vqb5nOE8sgoN"
      },
      "source": [
        "# Define an exponential distribution\n",
        "exponential = tfd.Exponential(rate = 0.3, name = 'exp')"
      ],
      "execution_count": 50,
      "outputs": []
    },
    {
      "cell_type": "code",
      "metadata": {
        "id": "J117CKjnsgoO",
        "colab": {
          "base_uri": "https://localhost:8080/",
          "height": 267
        },
        "outputId": "59ad78f3-e087-4872-cbc2-71972025b0f8"
      },
      "source": [
        "# Plot\n",
        "plt.hist(exponential.sample(5000), bins=100, density=True)\n",
        "plt.show()"
      ],
      "execution_count": 51,
      "outputs": [
        {
          "output_type": "display_data",
          "data": {
            "image/png": "[encoded data removed]",
            "text/plain": [
              "<Figure size 432x288 with 1 Axes>"
            ]
          },
          "metadata": {
            "tags": [],
            "needs_background": "light"
          }
        }
      ]
    },
    {
      "cell_type": "code",
      "metadata": {
        "id": "v0OfEcDisgoP",
        "colab": {
          "base_uri": "https://localhost:8080/"
        },
        "outputId": "72eddf41-0949-4f22-c21e-5f957c95301d"
      },
      "source": [
        "# Define an exponential distribution with a trainable rate parameter\n",
        "exp_train = tfd.Exponential(rate = tf.Variable(1., name = 'exp_train'))\n",
        "exp_train.trainable_variables"
      ],
      "execution_count": 64,
      "outputs": [
        {
          "output_type": "execute_result",
          "data": {
            "text/plain": [
              "(<tf.Variable 'exp_train:0' shape=() dtype=float32, numpy=1.0>,)"
            ]
          },
          "metadata": {
            "tags": []
          },
          "execution_count": 64
        }
      ]
    },
    {
      "cell_type": "code",
      "metadata": {
        "id": "uKCuuoT8sgoQ"
      },
      "source": [
        "# Define the negative log likelihood\n",
        "def nll(x_train, distribution):\n",
        "  return -tf.reduce_mean(distribution.log_prob(x_train))"
      ],
      "execution_count": 53,
      "outputs": []
    },
    {
      "cell_type": "code",
      "metadata": {
        "id": "_IVhv4HjsgoR"
      },
      "source": [
        "# Define a function to compute the loss and gradients\n",
        "@tf.function\n",
        "def get_loss_and_grads(x_train, distribution):\n",
        "  with tf.GradientTape() as tape:\n",
        "    tape.watch(distribution.trainable_variables)\n",
        "    loss = nll(x_train, distribution)\n",
        "    grads = tape.gradient(loss, distribution.trainable_variables)\n",
        "  return loss, grads"
      ],
      "execution_count": 59,
      "outputs": []
    },
    {
      "cell_type": "code",
      "metadata": {
        "id": "z4n7PHwTsgoS"
      },
      "source": [
        "# Optimize\n",
        "def exponential_dist_optimisation(data, distribution):\n",
        "\n",
        "    # Keep results for plotting\n",
        "    train_loss_results = []\n",
        "    train_rate_results = []\n",
        "    \n",
        "    optimizer = tf.keras.optimizers.SGD(learning_rate=0.05)\n",
        "\n",
        "    num_steps = 20\n",
        "\n",
        "    for i in range(num_steps):\n",
        "        loss, grads = get_loss_and_grads(data, distribution)\n",
        "        optimizer.apply_gradients(zip(grads, distribution.trainable_variables))\n",
        "\n",
        "        rate_value = distribution.rate.value()\n",
        "        train_loss_results.append(loss)\n",
        "        train_rate_results.append(rate_value)\n",
        "        print(\"Step {:03d}: Loss: {:.3f}: Rate: {:.3f}\".format(i, loss, rate_value))\n",
        "        \n",
        "    return train_loss_results, train_rate_results"
      ],
      "execution_count": 62,
      "outputs": []
    },
    {
      "cell_type": "code",
      "metadata": {
        "id": "cotOTqvysgoT",
        "colab": {
          "base_uri": "https://localhost:8080/"
        },
        "outputId": "367ccdf8-bd87-4841-f7c9-c52cd1009465"
      },
      "source": [
        "# Get some data and train\n",
        "sampled_data = exponential.sample(5000)\n",
        "train_loss_results, train_rate_results = exponential_dist_optimisation(data = sampled_data, distribution = exp_train)"
      ],
      "execution_count": 65,
      "outputs": [
        {
          "output_type": "stream",
          "text": [
            "Step 000: Loss: 3.361: Rate: 0.882\n",
            "Step 001: Loss: 3.090: Rate: 0.771\n",
            "Step 002: Loss: 2.850: Rate: 0.667\n",
            "Step 003: Loss: 2.647: Rate: 0.574\n",
            "Step 004: Loss: 2.485: Rate: 0.493\n",
            "Step 005: Loss: 2.365: Rate: 0.427\n",
            "Step 006: Loss: 2.286: Rate: 0.376\n",
            "Step 007: Loss: 2.242: Rate: 0.341\n",
            "Step 008: Loss: 2.222: Rate: 0.319\n",
            "Step 009: Loss: 2.215: Rate: 0.308\n",
            "Step 010: Loss: 2.213: Rate: 0.302\n",
            "Step 011: Loss: 2.212: Rate: 0.300\n",
            "Step 012: Loss: 2.212: Rate: 0.298\n",
            "Step 013: Loss: 2.212: Rate: 0.298\n",
            "Step 014: Loss: 2.212: Rate: 0.298\n",
            "Step 015: Loss: 2.212: Rate: 0.298\n",
            "Step 016: Loss: 2.212: Rate: 0.298\n",
            "Step 017: Loss: 2.212: Rate: 0.298\n",
            "Step 018: Loss: 2.212: Rate: 0.298\n",
            "Step 019: Loss: 2.212: Rate: 0.298\n"
          ],
          "name": "stdout"
        }
      ]
    },
    {
      "cell_type": "code",
      "metadata": {
        "id": "ZqWmf0xAsgoU",
        "colab": {
          "base_uri": "https://localhost:8080/"
        },
        "outputId": "90486dca-efba-487a-adae-c7c0008104bb"
      },
      "source": [
        "# Predicted value for the rate parameter\n",
        "pred_value = exp_train.rate.numpy()\n",
        "exact_value = exponential.rate.numpy()\n",
        "\n",
        "print(\"Exact rate: \", exact_value)\n",
        "print(\"Pred rate:  \", pred_value)"
      ],
      "execution_count": 66,
      "outputs": [
        {
          "output_type": "stream",
          "text": [
            "Exact rate:  0.3\n",
            "Pred rate:   0.29755002\n"
          ],
          "name": "stdout"
        }
      ]
    },
    {
      "cell_type": "code",
      "metadata": {
        "id": "9GTcRseZsgoV",
        "colab": {
          "base_uri": "https://localhost:8080/",
          "height": 557
        },
        "outputId": "588ed1cb-4180-4ea6-b4cf-e176f5476e99"
      },
      "source": [
        "# Plot to see the convergence of the estimated and true parameters\n",
        "tensor_exact_value = tf.constant(exact_value, shape=[len(train_rate_results)])\n",
        "\n",
        "fig, axes = plt.subplots(2, sharex=True, figsize=(12, 8))\n",
        "fig.suptitle('Convergence')\n",
        "\n",
        "axes[0].set_ylabel(\"Loss\", fontsize=14)\n",
        "axes[0].plot(train_loss_results)\n",
        "\n",
        "axes[1].set_ylabel(\"Rate\", fontsize=14)\n",
        "axes[1].set_xlabel(\"Epoch\", fontsize=14)\n",
        "axes[1].plot(train_rate_results, label='trainable rate variable')\n",
        "axes[1].plot(tensor_exact_value, label='exact rate')\n",
        "axes[1].legend()\n",
        "plt.show()"
      ],
      "execution_count": 67,
      "outputs": [
        {
          "output_type": "display_data",
          "data": {
            "image/png": "[encoded data removed]",
            "text/plain": [
              "<Figure size 864x576 with 2 Axes>"
            ]
          },
          "metadata": {
            "tags": [],
            "needs_background": "light"
          }
        }
      ]
    },
    {
      "cell_type": "code",
      "metadata": {
        "id": "a6BPCYP0sgoW"
      },
      "source": [
        "# Making a function get_data which:\n",
        "#   1) Fetches the 20 newsgroup dataset\n",
        "#   2) Performs a word count on the articles and binarizes the result\n",
        "#   3) Returns the data as a numpy matrix with the labels\n",
        "\n",
        "def get_data(categories):\n",
        "\n",
        "    newsgroups_train_data = fetch_20newsgroups(data_home='/content/gdrive/MyDrive/Course_3 Probabilistic Deep Learning with TensorFlow 2/Week1/20_Newsgroup_Data/',\n",
        "                                               subset='train', categories=categories)\n",
        "    newsgroups_test_data = fetch_20newsgroups(data_home='/content/gdrive/MyDrive/Course_3 Probabilistic Deep Learning with TensorFlow 2/Week1/20_Newsgroup_Data/',\n",
        "                                              subset='test', categories=categories)\n",
        "\n",
        "    n_documents = len(newsgroups_test_data['data'])\n",
        "    count_vectorizer = CountVectorizer(input='content', binary=True,max_df=0.25, min_df=1.01/n_documents) \n",
        "    train_binary_bag_of_words = count_vectorizer.fit_transform(newsgroups_train_data['data']) \n",
        "    test_binary_bag_of_words = count_vectorizer.transform(newsgroups_test_data['data']) \n",
        "\n",
        "    return (train_binary_bag_of_words.todense(), newsgroups_train_data['target']),  (test_binary_bag_of_words.todense(), newsgroups_test_data['target'])\n"
      ],
      "execution_count": 68,
      "outputs": []
    },
    {
      "cell_type": "code",
      "metadata": {
        "id": "vuPOJhMSsgoX"
      },
      "source": [
        "# Defining a function to conduct laplace smoothing. This adds a base level of probability for a given feature\n",
        "# to occur in every class.\n",
        "\n",
        "def laplace_smoothing(labels, binary_data, n_classes):\n",
        "    # Compute the parameter estimates (adjusted fraction of documents in class that contain word)\n",
        "    n_words = binary_data.shape[1]\n",
        "    alpha = 1 # parameters for Laplace smoothing\n",
        "    theta = np.zeros([n_classes, n_words]) # stores parameter values - prob. word given class\n",
        "    for c_k in range(n_classes): # 0, 1, ..., 19\n",
        "        class_mask = (labels == c_k)\n",
        "        N = class_mask.sum() # number of articles in class\n",
        "        theta[c_k, :] = (binary_data[class_mask, :].sum(axis=0) + alpha)/(N + alpha*2)\n",
        "\n",
        "    return theta"
      ],
      "execution_count": 69,
      "outputs": []
    },
    {
      "cell_type": "code",
      "metadata": {
        "id": "JgS2YLkRsgoY"
      },
      "source": [
        "# Now we will do a function that given the feature occurence counts returns a Bernoulli distribution of \n",
        "# batch_shape=number of classes and event_shape=number of features.\n",
        "\n",
        "def make_distributions(probs):\n",
        "    batch_of_bernoullis = tfd.Bernoulli(probs=probs) # shape (n_classes, n_words)\n",
        "    dist = tfd.Independent(batch_of_bernoullis, reinterpreted_batch_ndims=1)\n",
        "    return dist"
      ],
      "execution_count": 70,
      "outputs": []
    },
    {
      "cell_type": "code",
      "metadata": {
        "id": "RFjiXwYLsgoZ"
      },
      "source": [
        "# Function which computes the prior probability of every class based on frequency of occurence in \n",
        "# the dataset\n",
        "\n",
        "def class_priors(n_classes, labels):\n",
        "    counts = np.zeros(n_classes)\n",
        "    for c_k in range(n_classes):\n",
        "        counts[c_k] = np.sum(np.where(labels==c_k, 1, 0))\n",
        "    priors = counts / np.sum(counts)\n",
        "    print('The class priors are {}'.format(priors))\n",
        "    return priors"
      ],
      "execution_count": 71,
      "outputs": []
    },
    {
      "cell_type": "code",
      "metadata": {
        "id": "lAFUAq9fsgoa"
      },
      "source": [
        "# The final function predict_sample which given the distribution, a test sample, and the class priors:\n",
        "#   1) Computes the class conditional probabilities given the sample\n",
        "#   2) Forms the joint likelihood\n",
        "#   3) Normalises the joint likelihood and returns the log prob\n",
        "\n",
        "def predict_sample(dist, sample, priors):\n",
        "    cond_probs = dist.log_prob(sample)\n",
        "    joint_likelihood = tf.add(np.log(priors), cond_probs)\n",
        "    norm_factor = tf.math.reduce_logsumexp(joint_likelihood, axis=-1, keepdims=True)\n",
        "    log_prob = joint_likelihood - norm_factor\n",
        "\n",
        "    return log_prob"
      ],
      "execution_count": 72,
      "outputs": []
    },
    {
      "cell_type": "code",
      "metadata": {
        "id": "wHn68l5isgob"
      },
      "source": [
        "# Now we learn the distribution using gradient tape\n",
        "\n",
        "def make_distribution_withGT(data, labels, nb_classes):\n",
        "\n",
        "    class_data = []\n",
        "    train_vars = []\n",
        "    distributions = []\n",
        "    for c in range(nb_classes):\n",
        "        train_vars.append(tf.Variable(initial_value=np.random.uniform(low=0.01, high =0.1, size=data.shape[-1])))\n",
        "        distributions.append(tfd.Bernoulli(probs=train_vars[c]))\n",
        "        class_mask = (labels == c)\n",
        "        class_data.append(data[class_mask, :])\n",
        "\n",
        "    for c_num in range(0,nb_classes):\n",
        "        optimizer = tf.keras.optimizers.Adam()\n",
        "        print('\\n%-------------------%')\n",
        "        print('Class ', c_num)\n",
        "        print('%-------------------%')\n",
        "\n",
        "        for i in range(0,100):\n",
        "            loss, grads = get_loss_and_grads(class_data[c_num], distributions[c_num])\n",
        "            if (i%10 == 0):\n",
        "              print('Iter: {}, loss: {}'.format(i, loss))\n",
        "            optimizer.apply_gradients(zip(grads, distributions[c_num].trainable_variables))\n",
        "            eta = 1e-3\n",
        "            clipped_probs = tf.clip_by_value(distributions[c_num].trainable_variables, \n",
        "                                             clip_value_min = eta, clip_value_max = 1)\n",
        "            train_vars[c_num] = tf.squeeze(clipped_probs)\n",
        "\n",
        "    dist = tfd.Bernoulli(probs=train_vars)\n",
        "    dist = tfd.Independent(dist,reinterpreted_batch_ndims=1)\n",
        "\n",
        "    print(dist)\n",
        "\n",
        "    return dist\n"
      ],
      "execution_count": 73,
      "outputs": []
    },
    {
      "cell_type": "code",
      "metadata": {
        "id": "KMjiHt37sgoc",
        "colab": {
          "base_uri": "https://localhost:8080/"
        },
        "outputId": "836e597d-8847-4d13-dcf5-33c15231b789"
      },
      "source": [
        "# Make the same Naive Bayes classifier we did last tutorial\n",
        "categories = ['alt.atheism', 'talk.religion.misc', 'comp.graphics', 'sci.space']\n",
        "\n",
        "(train_data, train_labels), (test_data, test_labels) = get_data(categories)\n",
        "\n",
        "smoothed_counts = laplace_smoothing(labels=train_labels, binary_data=train_data, n_classes=len(categories))\n",
        "\n",
        "priors = class_priors(n_classes=len(categories), labels=train_labels)\n",
        "tf_dist = make_distributions(smoothed_counts)"
      ],
      "execution_count": 74,
      "outputs": [
        {
          "output_type": "stream",
          "text": [
            "The class priors are [0.2359882  0.28711898 0.29154376 0.18534907]\n"
          ],
          "name": "stdout"
        }
      ]
    },
    {
      "cell_type": "code",
      "metadata": {
        "id": "y3VKgbtusgoc",
        "colab": {
          "base_uri": "https://localhost:8080/"
        },
        "outputId": "bef51634-1fbb-4c54-a48c-91e16ee3d98b"
      },
      "source": [
        "# Now train the distributions with gradient tape\n",
        "GT_dist = make_distribution_withGT(data=train_data, labels=train_labels, nb_classes=4)"
      ],
      "execution_count": 75,
      "outputs": [
        {
          "output_type": "stream",
          "text": [
            "\n",
            "%-------------------%\n",
            "Class  0\n",
            "%-------------------%\n",
            "Iter: 0, loss: 0.07820861688831733\n",
            "Iter: 10, loss: 0.06886459037006451\n",
            "Iter: 20, loss: 0.06015760878582107\n",
            "Iter: 30, loss: 0.05210670106741766\n",
            "Iter: 40, loss: 0.04466212361204721\n",
            "Iter: 50, loss: 0.0377790200502882\n",
            "Iter: 60, loss: 0.03141043168321404\n",
            "Iter: 70, loss: 0.02551122399775554\n",
            "Iter: 80, loss: 0.020037611231289124\n",
            "Iter: 90, loss: 0.014955450806982601\n",
            "\n",
            "%-------------------%\n",
            "Class  1\n",
            "%-------------------%\n",
            "Iter: 0, loss: 0.07153550404553115\n",
            "Iter: 10, loss: 0.062203449472189476\n",
            "Iter: 20, loss: 0.05342707665683451\n",
            "Iter: 30, loss: 0.045281822206699275\n",
            "Iter: 40, loss: 0.037729412410185174\n",
            "Iter: 50, loss: 0.030733500127223576\n",
            "Iter: 60, loss: 0.024271033889297654\n",
            "Iter: 70, loss: 0.018307945232347387\n",
            "Iter: 80, loss: 0.012804208670644714\n",
            "Iter: 90, loss: 0.007706386848506346\n",
            "\n",
            "%-------------------%\n",
            "Class  2\n",
            "%-------------------%\n",
            "Iter: 0, loss: 0.07824855545552521\n",
            "Iter: 10, loss: 0.06917608969688133\n",
            "Iter: 20, loss: 0.06081960161531182\n",
            "Iter: 30, loss: 0.053200839147537544\n",
            "Iter: 40, loss: 0.04627072215212727\n",
            "Iter: 50, loss: 0.03999886142170209\n",
            "Iter: 60, loss: 0.034348712163412315\n",
            "Iter: 70, loss: 0.029275743422636096\n",
            "Iter: 80, loss: 0.024717302304467816\n",
            "Iter: 90, loss: 0.020603823175208216\n",
            "\n",
            "%-------------------%\n",
            "Class  3\n",
            "%-------------------%\n",
            "Iter: 0, loss: 0.07934996758571983\n",
            "Iter: 10, loss: 0.07009761308848834\n",
            "Iter: 20, loss: 0.06148184510493619\n",
            "Iter: 30, loss: 0.053503992619355414\n",
            "Iter: 40, loss: 0.04611196991131601\n",
            "Iter: 50, loss: 0.03926809042566824\n",
            "Iter: 60, loss: 0.032933667401750744\n",
            "Iter: 70, loss: 0.027049538063021655\n",
            "Iter: 80, loss: 0.021574891132143854\n",
            "Iter: 90, loss: 0.016467936081810956\n",
            "tfp.distributions.Independent(\"IndependentBernoulli\", batch_shape=[4], event_shape=[17495], dtype=int32)\n"
          ],
          "name": "stdout"
        }
      ]
    },
    {
      "cell_type": "code",
      "metadata": {
        "id": "EDliliYSsgod",
        "colab": {
          "base_uri": "https://localhost:8080/"
        },
        "outputId": "c300855e-9b29-4016-a14f-4e38b6c8e6ce"
      },
      "source": [
        "# Compare the two results\n",
        "for dist in [GT_dist,tf_dist]:\n",
        "    probabilities = []\n",
        "    for sample, label in zip(test_data, test_labels):\n",
        "        probabilities.append(predict_sample(dist, sample, priors))\n",
        "\n",
        "    probabilities = np.asarray(probabilities)\n",
        "    predicted_classes = np.argmax(probabilities, axis =-1)\n",
        "    print('f1 ', f1_score(test_labels, predicted_classes, average='macro'))"
      ],
      "execution_count": 76,
      "outputs": [
        {
          "output_type": "stream",
          "text": [
            "f1  0.8344845459124247\n",
            "f1  0.7848499112849504\n"
          ],
          "name": "stdout"
        }
      ]
    },
    {
      "cell_type": "code",
      "metadata": {
        "id": "_sRppVhuMkJE"
      },
      "source": [
        ""
      ],
      "execution_count": null,
      "outputs": []
    }
  ]
}
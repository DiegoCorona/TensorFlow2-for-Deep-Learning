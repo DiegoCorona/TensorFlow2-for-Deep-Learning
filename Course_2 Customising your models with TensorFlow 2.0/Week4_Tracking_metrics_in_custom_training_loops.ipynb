{
  "nbformat": 4,
  "nbformat_minor": 0,
  "metadata": {
    "kernelspec": {
      "display_name": "Python 3",
      "language": "python",
      "name": "python3"
    },
    "language_info": {
      "codemirror_mode": {
        "name": "ipython",
        "version": 3
      },
      "file_extension": ".py",
      "mimetype": "text/x-python",
      "name": "python",
      "nbconvert_exporter": "python",
      "pygments_lexer": "ipython3",
      "version": "3.7.1"
    },
    "colab": {
      "name": "Week4_Tracking metrics in custom training loops.ipynb",
      "provenance": [],
      "include_colab_link": true
    }
  },
  "cells": [
    {
      "cell_type": "markdown",
      "metadata": {
        "id": "view-in-github",
        "colab_type": "text"
      },
      "source": [
        "<a href=\"https://colab.research.google.com/github/DiegoCorona/TensorFlow2-for-Deep-Learning/blob/main/Week4_Tracking_metrics_in_custom_training_loops.ipynb\" target=\"_parent\"><img src=\"https://colab.research.google.com/assets/colab-badge.svg\" alt=\"Open In Colab\"/></a>"
      ]
    },
    {
      "cell_type": "markdown",
      "metadata": {
        "id": "QNgQLoZ5PiNJ"
      },
      "source": [
        "# Tracking metrics in custom training loops\n",
        "In this reading you will learn how to track metrics such as accuracy within custom training loops. "
      ]
    },
    {
      "cell_type": "code",
      "metadata": {
        "id": "zfRRJNc9PiNe",
        "colab": {
          "base_uri": "https://localhost:8080/"
        },
        "outputId": "16246893-a6b9-485e-ab31-7a491df64e90"
      },
      "source": [
        "import tensorflow as tf\n",
        "print(tf.__version__)"
      ],
      "execution_count": 1,
      "outputs": [
        {
          "output_type": "stream",
          "text": [
            "2.5.0\n"
          ],
          "name": "stdout"
        }
      ]
    },
    {
      "cell_type": "markdown",
      "metadata": {
        "id": "crhgoYwlPiNj"
      },
      "source": [
        "Tracking performance metrics is useful to check the performance of your model during and after training. Previously, we have passed in a list of metrics to the `model.fit` or `model.evaluate` methods when using the higher level APIs. However, we would still like to be able to evaluate our model on performance metrics in a custom training loop."
      ]
    },
    {
      "cell_type": "markdown",
      "metadata": {
        "id": "U9s3LHUxPiNn"
      },
      "source": [
        "## Load the dataset\n",
        "For this reading notebook we will use the Reuters dataset. The cells below load and process the dataset, and prepare it as `tf.data.Dataset` objects."
      ]
    },
    {
      "cell_type": "code",
      "metadata": {
        "id": "1roOrIdKPiNr",
        "colab": {
          "base_uri": "https://localhost:8080/"
        },
        "outputId": "75ad33e3-664a-4f11-8734-3f9985cc7e9a"
      },
      "source": [
        "# Load the dataset\n",
        "from tensorflow.keras.datasets import reuters\n",
        "(train_data, train_labels), (test_data, test_labels) = reuters.load_data(num_words=10000, skip_top=50)"
      ],
      "execution_count": 2,
      "outputs": [
        {
          "output_type": "stream",
          "text": [
            "Downloading data from https://storage.googleapis.com/tensorflow/tf-keras-datasets/reuters.npz\n",
            "2113536/2110848 [==============================] - 0s 0us/step\n"
          ],
          "name": "stdout"
        },
        {
          "output_type": "stream",
          "text": [
            "/usr/local/lib/python3.7/dist-packages/tensorflow/python/keras/datasets/reuters.py:143: VisibleDeprecationWarning: Creating an ndarray from ragged nested sequences (which is a list-or-tuple of lists-or-tuples-or ndarrays with different lengths or shapes) is deprecated. If you meant to do this, you must specify 'dtype=object' when creating the ndarray\n",
            "  x_train, y_train = np.array(xs[:idx]), np.array(labels[:idx])\n",
            "/usr/local/lib/python3.7/dist-packages/tensorflow/python/keras/datasets/reuters.py:144: VisibleDeprecationWarning: Creating an ndarray from ragged nested sequences (which is a list-or-tuple of lists-or-tuples-or ndarrays with different lengths or shapes) is deprecated. If you meant to do this, you must specify 'dtype=object' when creating the ndarray\n",
            "  x_test, y_test = np.array(xs[idx:]), np.array(labels[idx:])\n"
          ],
          "name": "stderr"
        }
      ]
    },
    {
      "cell_type": "code",
      "metadata": {
        "id": "fG-HqrlDPiNu"
      },
      "source": [
        "# Define the class names\n",
        "class_names = ['cocoa','grain','veg-oil','earn','acq','wheat','copper','housing','money-supply',\n",
        "   'coffee','sugar','trade','reserves','ship','cotton','carcass','crude','nat-gas',\n",
        "   'cpi','money-fx','interest','gnp','meal-feed','alum','oilseed','gold','tin',\n",
        "   'strategic-metal','livestock','retail','ipi','iron-steel','rubber','heat','jobs',\n",
        "   'lei','bop','zinc','orange','pet-chem','dlr','gas','silver','wpi','hog','lead']"
      ],
      "execution_count": 3,
      "outputs": []
    },
    {
      "cell_type": "code",
      "metadata": {
        "id": "FZLvYp9kPiNz"
      },
      "source": [
        "# Pad and truncate the train and test inputs\n",
        "from tensorflow.keras.preprocessing.sequence import pad_sequences\n",
        "\n",
        "padded_train_data = pad_sequences(train_data, maxlen=100, truncating='post')\n",
        "padded_test_data = pad_sequences(test_data, maxlen=100, truncating='post')"
      ],
      "execution_count": 4,
      "outputs": []
    },
    {
      "cell_type": "code",
      "metadata": {
        "id": "4Fr7XyazPiN3"
      },
      "source": [
        "# Split the training data into training and validation sets\n",
        "from sklearn.model_selection import train_test_split\n",
        "\n",
        "train_data, val_data, train_labels, val_labels = train_test_split(padded_train_data, train_labels, \n",
        "                                                                  test_size=0.3)"
      ],
      "execution_count": 5,
      "outputs": []
    },
    {
      "cell_type": "code",
      "metadata": {
        "id": "mYV8kdz-PiN9"
      },
      "source": [
        "# Create Datasets for training, validation and test data\n",
        "train_dataset = tf.data.Dataset.from_tensor_slices((train_data, train_labels))\n",
        "train_dataset = train_dataset.batch(32)\n",
        "\n",
        "val_dataset = tf.data.Dataset.from_tensor_slices((val_data, val_labels))\n",
        "val_dataset = val_dataset.shuffle(500)\n",
        "val_dataset = val_dataset.batch(32)\n",
        "\n",
        "test_dataset = tf.data.Dataset.from_tensor_slices((padded_test_data, test_labels))\n",
        "test_dataset = test_dataset.batch(32)"
      ],
      "execution_count": 6,
      "outputs": []
    },
    {
      "cell_type": "markdown",
      "metadata": {
        "id": "0aks8Ky7PiOC"
      },
      "source": [
        "## Define the model, optimizer and loss function"
      ]
    },
    {
      "cell_type": "markdown",
      "metadata": {
        "id": "7hcB-3cePiOE"
      },
      "source": [
        "Before getting to the custom training loop, we first define the model. We will use the model subclassing API to build a recurrent neural network for this example."
      ]
    },
    {
      "cell_type": "code",
      "metadata": {
        "id": "Osp74hx2PiOI"
      },
      "source": [
        "# Build the model\n",
        "\n",
        "from tensorflow.keras.layers import Embedding, GRU, Bidirectional, Dense\n",
        "from tensorflow.keras.models import Model\n",
        "\n",
        "class RNNModel(Model):\n",
        "\n",
        "    def __init__(self, units_1, units_2, num_classes, **kwargs):\n",
        "        super(RNNModel, self).__init__(**kwargs)\n",
        "        self.embedding = Embedding(input_dim=10000, output_dim=16, input_length=100)\n",
        "        self.gru_1 = Bidirectional(GRU(units_1, return_sequences=True), merge_mode='sum')\n",
        "        self.gru_2 = GRU(units_2)\n",
        "        self.dense = Dense(num_classes, activation='softmax')\n",
        "\n",
        "    def call(self, inputs):\n",
        "        h = self.embedding(inputs)\n",
        "        h = self.gru_1(h)\n",
        "        h = self.gru_2(h)\n",
        "        return self.dense(h)"
      ],
      "execution_count": 7,
      "outputs": []
    },
    {
      "cell_type": "code",
      "metadata": {
        "id": "xW3ufX9yPiON"
      },
      "source": [
        "# Instantiate the model\n",
        "\n",
        "model = RNNModel(units_1=32, units_2=16, num_classes=46, name='rnn_model')"
      ],
      "execution_count": 8,
      "outputs": []
    },
    {
      "cell_type": "markdown",
      "metadata": {
        "id": "W_LFB1h1PiOQ"
      },
      "source": [
        "We will use the `SGD` optimizer with Nesterov momentum, and a learning rate of 0.005:"
      ]
    },
    {
      "cell_type": "code",
      "metadata": {
        "id": "RrNhv4shPiOT"
      },
      "source": [
        "# Define the optimizer\n",
        "optimizer = tf.keras.optimizers.SGD(learning_rate=0.005, momentum=0.9, nesterov=True)"
      ],
      "execution_count": 9,
      "outputs": []
    },
    {
      "cell_type": "markdown",
      "metadata": {
        "id": "c0h3b38LPiOW"
      },
      "source": [
        "The loss function for our model should be the sparse categorical cross entropy, since the labels are in sparse form:"
      ]
    },
    {
      "cell_type": "code",
      "metadata": {
        "id": "T3s8fVhAPiOY"
      },
      "source": [
        "# Define the loss\n",
        "loss = tf.keras.losses.SparseCategoricalCrossentropy()"
      ],
      "execution_count": 10,
      "outputs": []
    },
    {
      "cell_type": "markdown",
      "metadata": {
        "id": "BZdMpfuQPiOa"
      },
      "source": [
        "## Build the custom training loop"
      ]
    },
    {
      "cell_type": "markdown",
      "metadata": {
        "id": "jUO_mMBtPiOb"
      },
      "source": [
        "The following function computes the model predictions, loss and gradients, for use in the custom training loop."
      ]
    },
    {
      "cell_type": "code",
      "metadata": {
        "id": "uezLQQErPiOd"
      },
      "source": [
        "# Define a function to compute the loss and gradients\n",
        "\n",
        "def grad(model, inputs, targets, loss):\n",
        "    with tf.GradientTape() as tape:\n",
        "        preds = model(inputs)\n",
        "        loss_value = loss(targets, preds)\n",
        "    return preds, loss_value, tape.gradient(loss_value, model.trainable_variables)"
      ],
      "execution_count": 11,
      "outputs": []
    },
    {
      "cell_type": "markdown",
      "metadata": {
        "id": "2pQdMryVPiOg"
      },
      "source": [
        "Metric objects can be created and used to track performance measures in the custom training loop. We will set up our custom training loop to track the average loss, and area under the [ROC curve](https://en.wikipedia.org/wiki/Receiver_operating_characteristic) (ROC AUC). Of course there are many more metrics that you could use. "
      ]
    },
    {
      "cell_type": "code",
      "metadata": {
        "id": "XnKtRbPHPiOj"
      },
      "source": [
        "# Create lists to accumulate the metric values\n",
        "train_loss_results = []\n",
        "train_roc_auc_results = []\n",
        "\n",
        "val_loss_results = []\n",
        "val_roc_auc_results = []"
      ],
      "execution_count": 12,
      "outputs": []
    },
    {
      "cell_type": "markdown",
      "metadata": {
        "id": "LLJjBoihPiOt"
      },
      "source": [
        "In the following custom training loop, we define an outer loop for the epochs, and an inner loop for the batches in the training dataset. At the end of each epoch we run a validation loop for a number of iterations.\n",
        "\n",
        "Inside the inner loop we use the metric objects to calculate the metric evaluation values. These values are then appended to the empty lists. The metric objects are re-initialised at the start of each epoch.\n",
        "\n",
        "The following training loop may take a while to run. Feel free to reduce the number of epochs if you want."
      ]
    },
    {
      "cell_type": "code",
      "metadata": {
        "id": "ouzgUV7NPiOx",
        "colab": {
          "base_uri": "https://localhost:8080/"
        },
        "outputId": "21ecf47b-99ca-4911-d972-ca3928d741c1"
      },
      "source": [
        "# Run the custom training loop\n",
        "\n",
        "from tensorflow.keras.utils import to_categorical\n",
        "\n",
        "num_epochs = 5\n",
        "val_steps = 10\n",
        "\n",
        "for epoch in range(num_epochs):\n",
        "    train_epoch_loss_avg = tf.keras.metrics.Mean()\n",
        "    train_epoch_roc_auc = tf.keras.metrics.AUC(curve='ROC')\n",
        "    \n",
        "    val_epoch_loss_avg = tf.keras.metrics.Mean()\n",
        "    val_epoch_roc_auc = tf.keras.metrics.AUC(curve='ROC')\n",
        "\n",
        "    for inputs, labels in train_dataset:\n",
        "        model_preds, loss_value, grads = grad(model, inputs, labels, loss)\n",
        "        optimizer.apply_gradients(zip(grads, model.trainable_variables))\n",
        "\n",
        "        train_epoch_loss_avg(loss_value)\n",
        "        train_epoch_roc_auc(to_categorical(labels, num_classes=46), model_preds)\n",
        "        \n",
        "    for inputs, labels in val_dataset.take(val_steps):\n",
        "        model_preds = model(inputs)\n",
        "        val_epoch_loss_avg(loss(labels, model_preds))\n",
        "        val_epoch_roc_auc(to_categorical(labels, num_classes=46), model_preds)\n",
        "        \n",
        "    train_loss_results.append(train_epoch_loss_avg.result().numpy())\n",
        "    train_roc_auc_results.append(train_epoch_roc_auc.result().numpy())\n",
        "    \n",
        "    val_loss_results.append(val_epoch_loss_avg.result().numpy())\n",
        "    val_roc_auc_results.append(val_epoch_roc_auc.result().numpy())\n",
        "\n",
        "    print(\"Epoch {:03d}: Training loss: {:.3f}, ROC AUC: {:.3%}\".format(epoch, train_epoch_loss_avg.result(), \n",
        "                                                                        train_epoch_roc_auc.result()))\n",
        "    print(\"              Validation loss: {:.3f}, ROC AUC {:.3%}\".format(val_epoch_loss_avg.result(),\n",
        "                                                                         val_epoch_roc_auc.result()))"
      ],
      "execution_count": 13,
      "outputs": [
        {
          "output_type": "stream",
          "text": [
            "Epoch 000: Training loss: 2.756, ROC AUC: 84.138%\n",
            "              Validation loss: 2.583, ROC AUC 85.142%\n",
            "Epoch 001: Training loss: 2.432, ROC AUC: 88.336%\n",
            "              Validation loss: 2.466, ROC AUC 89.485%\n",
            "Epoch 002: Training loss: 2.418, ROC AUC: 88.779%\n",
            "              Validation loss: 2.422, ROC AUC 88.960%\n",
            "Epoch 003: Training loss: 2.409, ROC AUC: 88.927%\n",
            "              Validation loss: 2.405, ROC AUC 89.065%\n",
            "Epoch 004: Training loss: 2.398, ROC AUC: 89.076%\n",
            "              Validation loss: 2.399, ROC AUC 88.640%\n"
          ],
          "name": "stdout"
        }
      ]
    },
    {
      "cell_type": "markdown",
      "metadata": {
        "id": "CBf0LwmoPiO1"
      },
      "source": [
        "#### Plot the learning curves"
      ]
    },
    {
      "cell_type": "code",
      "metadata": {
        "id": "zuHwrgkGPiO3",
        "colab": {
          "base_uri": "https://localhost:8080/",
          "height": 350
        },
        "outputId": "ca256875-14f7-4d4e-e468-8ce24509d3d1"
      },
      "source": [
        "import matplotlib.pyplot as plt\n",
        "\n",
        "fig = plt.figure(figsize=(15, 5))\n",
        "\n",
        "fig.add_subplot(121)\n",
        "plt.plot(train_loss_results)\n",
        "plt.plot(val_loss_results)\n",
        "plt.title('Loss vs. epochs')\n",
        "plt.ylabel('Loss')\n",
        "plt.xlabel('Epoch')\n",
        "plt.legend(['Training', 'Validation'], loc='upper right')\n",
        "\n",
        "fig.add_subplot(122)\n",
        "plt.plot(train_roc_auc_results)\n",
        "plt.plot(val_roc_auc_results)\n",
        "plt.title('ROC AUC vs. epochs')\n",
        "plt.ylabel('ROC AUC')\n",
        "plt.xlabel('Epoch')\n",
        "plt.legend(['Training', 'Validation'], loc='lower right')\n",
        "plt.show() "
      ],
      "execution_count": 14,
      "outputs": [
        {
          "output_type": "display_data",
          "data": {
            "image/png": "[encoded data removed]",
            "text/plain": [
              "<Figure size 1080x360 with 2 Axes>"
            ]
          },
          "metadata": {
            "tags": [],
            "needs_background": "light"
          }
        }
      ]
    },
    {
      "cell_type": "markdown",
      "metadata": {
        "id": "XB3FADPlPiO5"
      },
      "source": [
        "## Test the model\n",
        "Similarly, we can calculate the loss and metric values on the test dataset."
      ]
    },
    {
      "cell_type": "code",
      "metadata": {
        "id": "wVbg7_PePiO7"
      },
      "source": [
        "# Create metric objects for testing\n",
        "\n",
        "test_epoch_loss_avg = tf.keras.metrics.Mean()\n",
        "test_epoch_roc_auc = tf.keras.metrics.AUC(curve='ROC')"
      ],
      "execution_count": 15,
      "outputs": []
    },
    {
      "cell_type": "code",
      "metadata": {
        "id": "BGCElzxVPiO9",
        "colab": {
          "base_uri": "https://localhost:8080/"
        },
        "outputId": "d29acda9-6dd8-41a5-8dc9-50ac07a4b6ef"
      },
      "source": [
        "# Calculate metrics on the test set\n",
        "\n",
        "for inputs, labels in test_dataset:\n",
        "    model_pred = model(inputs)\n",
        "    test_epoch_loss_avg(loss(labels, model_pred))  \n",
        "    test_epoch_roc_auc(to_categorical(labels, num_classes=46), model_pred)\n",
        "\n",
        "print(\"Test loss: {:.3f}\".format(test_epoch_loss_avg.result().numpy()))\n",
        "print(\"Test ROC AUC: {:.3%}\".format(test_epoch_roc_auc.result().numpy()))"
      ],
      "execution_count": 16,
      "outputs": [
        {
          "output_type": "stream",
          "text": [
            "Test loss: 2.385\n",
            "Test ROC AUC: 89.101%\n"
          ],
          "name": "stdout"
        }
      ]
    },
    {
      "cell_type": "markdown",
      "metadata": {
        "id": "JylFXV8_PiO_"
      },
      "source": [
        "## Further reading and resources \n",
        "* https://www.tensorflow.org/tutorials/customization/custom_training_walkthrough#training_loop\n",
        "* https://www.tensorflow.org/api_docs/python/tf/keras/metrics\n",
        "* https://en.wikipedia.org/wiki/Receiver_operating_characteristic#Area_under_the_curve"
      ]
    }
  ]
}
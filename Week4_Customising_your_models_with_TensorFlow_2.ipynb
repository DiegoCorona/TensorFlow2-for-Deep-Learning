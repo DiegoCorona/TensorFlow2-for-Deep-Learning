{
  "nbformat": 4,
  "nbformat_minor": 0,
  "metadata": {
    "kernelspec": {
      "display_name": "Python 3",
      "language": "python",
      "name": "python3"
    },
    "language_info": {
      "codemirror_mode": {
        "name": "ipython",
        "version": 3
      },
      "file_extension": ".py",
      "mimetype": "text/x-python",
      "name": "python",
      "nbconvert_exporter": "python",
      "pygments_lexer": "ipython3",
      "version": "3.7.1"
    },
    "colab": {
      "name": "Week4_Customising your models with TensorFlow 2.ipynb",
      "provenance": [],
      "include_colab_link": true
    }
  },
  "cells": [
    {
      "cell_type": "markdown",
      "metadata": {
        "id": "view-in-github",
        "colab_type": "text"
      },
      "source": [
        "<a href=\"https://colab.research.google.com/github/DiegoCorona/TensorFlow2-for-Deep-Learning/blob/main/Week4_Customising_your_models_with_TensorFlow_2.ipynb\" target=\"_parent\"><img src=\"https://colab.research.google.com/assets/colab-badge.svg\" alt=\"Open In Colab\"/></a>"
      ]
    },
    {
      "cell_type": "code",
      "metadata": {
        "id": "1KdOcbx-1qL5",
        "colab": {
          "base_uri": "https://localhost:8080/"
        },
        "outputId": "bc67a87b-e98d-4939-ae50-cd201d39dd25"
      },
      "source": [
        "import tensorflow as tf\n",
        "print(tf.__version__)"
      ],
      "execution_count": 1,
      "outputs": [
        {
          "output_type": "stream",
          "text": [
            "2.5.0\n"
          ],
          "name": "stdout"
        }
      ]
    },
    {
      "cell_type": "markdown",
      "metadata": {
        "id": "nbeoOrae1qMJ"
      },
      "source": [
        "# Model subclassing and custom training loops"
      ]
    },
    {
      "cell_type": "markdown",
      "metadata": {
        "id": "rcOn1uYl1qMN"
      },
      "source": [
        " ## Coding tutorials\n",
        " #### [1. Model subclassing](#coding_tutorial_1)\n",
        " #### [2. Custom layers](#coding_tutorial_2)\n",
        " #### [3. Automatic differentiation](#coding_tutorial_3)\n",
        " #### [4. Custom training loops](#coding_tutorial_4)\n",
        " #### [5. tf.function decorator](#coding_tutorial_5)"
      ]
    },
    {
      "cell_type": "markdown",
      "metadata": {
        "id": "y5crPH_G1qMQ"
      },
      "source": [
        "***\n",
        "<a id=\"coding_tutorial_1\"></a>\n",
        "## Model subclassing"
      ]
    },
    {
      "cell_type": "code",
      "metadata": {
        "id": "frmTl2tU1qMT"
      },
      "source": [
        "from tensorflow.keras.models import Model\n",
        "from tensorflow.keras.layers import Dense, Dropout, Softmax, concatenate"
      ],
      "execution_count": null,
      "outputs": []
    },
    {
      "cell_type": "markdown",
      "metadata": {
        "id": "XdeptHml1qMV"
      },
      "source": [
        "#### Create a simple model using the model subclassing API"
      ]
    },
    {
      "cell_type": "code",
      "metadata": {
        "id": "yjWvAoDh1qMX"
      },
      "source": [
        "# Build the model\n",
        "\n",
        "## Part 1\n",
        "class MyModel(Model):\n",
        "\n",
        "  def __init__(self):\n",
        "    super(MyModel, self).__init__()\n",
        "    self.dense_1 = Dense(64, activation = 'relu')\n",
        "    self.dense_2 = Dense(10)\n",
        "    self.dropout = Dropout(0.4)\n",
        "\n",
        "  def call(self, inputs, training = False):\n",
        "    x = self.dense_1(inputs)\n",
        "    if training:\n",
        "      x = self.dropout(x)\n",
        "    return self.dense_2(x)\n",
        "\n",
        "## Part 2\n",
        "class MyModel(Model):\n",
        "\n",
        "  def __init__(self):\n",
        "    super(MyModel, self).__init__()\n",
        "    self.dense_1 = Dense(64, activation = 'relu')\n",
        "    self.dense_2 = Dense(10)\n",
        "    self.dense_3 = Dense(5)\n",
        "    self.softmax = Softmax()\n",
        "\n",
        "  def call(self, inputs, training = False):\n",
        "    x = self.dense_1(inputs)\n",
        "    y1 = self.dense_2(inputs)\n",
        "    y2 = self.dense_3(y1)\n",
        "    concat = concatenate([x, y2]) ### Topologia no lineal\n",
        "    return self.softmax(concat)"
      ],
      "execution_count": null,
      "outputs": []
    },
    {
      "cell_type": "code",
      "metadata": {
        "id": "Y2QxEujY1qMZ",
        "colab": {
          "base_uri": "https://localhost:8080/"
        },
        "outputId": "1b916a9d-63e2-4597-95d6-cd1e3405e8f1"
      },
      "source": [
        "# Print the model summary\n",
        "model = MyModel()\n",
        "model(tf.random.uniform((1, 10)))\n",
        "model.summary()"
      ],
      "execution_count": null,
      "outputs": [
        {
          "output_type": "stream",
          "text": [
            "Model: \"my_model_3\"\n",
            "_________________________________________________________________\n",
            "Layer (type)                 Output Shape              Param #   \n",
            "=================================================================\n",
            "dense_7 (Dense)              multiple                  704       \n",
            "_________________________________________________________________\n",
            "dense_8 (Dense)              multiple                  110       \n",
            "_________________________________________________________________\n",
            "dense_9 (Dense)              multiple                  55        \n",
            "_________________________________________________________________\n",
            "softmax_1 (Softmax)          multiple                  0         \n",
            "=================================================================\n",
            "Total params: 869\n",
            "Trainable params: 869\n",
            "Non-trainable params: 0\n",
            "_________________________________________________________________\n"
          ],
          "name": "stdout"
        }
      ]
    },
    {
      "cell_type": "markdown",
      "metadata": {
        "id": "era5EUcI1qMd"
      },
      "source": [
        "***\n",
        "<a id=\"coding_tutorial_2\"></a>\n",
        "## Custom layers"
      ]
    },
    {
      "cell_type": "code",
      "metadata": {
        "id": "ENAhhUPA1qMg"
      },
      "source": [
        "from tensorflow.keras.models import Model\n",
        "from tensorflow.keras.layers import Layer, Softmax"
      ],
      "execution_count": null,
      "outputs": []
    },
    {
      "cell_type": "markdown",
      "metadata": {
        "id": "3KYpYyfY1qMi"
      },
      "source": [
        "#### Create custom layers"
      ]
    },
    {
      "cell_type": "code",
      "metadata": {
        "id": "Ti_X2FsE1qMk",
        "colab": {
          "base_uri": "https://localhost:8080/"
        },
        "outputId": "5c68839f-e943-4f99-91ec-9ffb90467005"
      },
      "source": [
        "# Create a custom layer\n",
        "class MyLayer(Layer):\n",
        "\n",
        "  def __init__(self, units , input_dim):\n",
        "    super(MyLayer, self).__init__()\n",
        "    self.w = self.add_weight(shape=(input_dim, units),\n",
        "                             initializer = 'random_normal')\n",
        "    self.b = self.add_weight(shape=(units, ),\n",
        "                             initializer = 'zeros')\n",
        "    \n",
        "  def call(self, inputs):\n",
        "    return tf.matmul(inputs, self.w) + self.b\n",
        "\n",
        "\n",
        "dense_layer = MyLayer(3, 5)\n",
        "x = tf.ones((1,5))\n",
        "print(dense_layer(x))\n",
        "print(dense_layer.weights)"
      ],
      "execution_count": null,
      "outputs": [
        {
          "output_type": "stream",
          "text": [
            "tf.Tensor([[-0.01124877  0.13560696  0.0162329 ]], shape=(1, 3), dtype=float32)\n",
            "[<tf.Variable 'Variable:0' shape=(5, 3) dtype=float32, numpy=\n",
            "array([[-0.0392927 ,  0.04329731,  0.12007912],\n",
            "       [-0.04622946,  0.08554196, -0.00473463],\n",
            "       [-0.00126211,  0.01312274, -0.04982891],\n",
            "       [ 0.05685247, -0.05220957, -0.01613145],\n",
            "       [ 0.01868302,  0.04585452, -0.03315123]], dtype=float32)>, <tf.Variable 'Variable:0' shape=(3,) dtype=float32, numpy=array([0., 0., 0.], dtype=float32)>]\n"
          ],
          "name": "stdout"
        }
      ]
    },
    {
      "cell_type": "code",
      "metadata": {
        "id": "yOP7SU311qMm"
      },
      "source": [
        "# Specify trainable weights\n",
        "class MyLayer(Layer):\n",
        "\n",
        "  def __init__(self, units , input_dim):\n",
        "    super(MyLayer, self).__init__()\n",
        "    self.w = self.add_weight(shape=(input_dim, units),\n",
        "                             initializer = 'random_normal', \n",
        "                             trainable = False)\n",
        "    self.b = self.add_weight(shape=(units, ),\n",
        "                             initializer = 'zeros',\n",
        "                             trainable = False)\n",
        "    \n",
        "  def call(self, inputs):\n",
        "    return tf.matmul(inputs, self.w) + self.b\n",
        "\n",
        "dense_layer = MyLayer(3, 5)"
      ],
      "execution_count": null,
      "outputs": []
    },
    {
      "cell_type": "code",
      "metadata": {
        "id": "n8oxe_uL1qMp",
        "colab": {
          "base_uri": "https://localhost:8080/"
        },
        "outputId": "7a95de7a-e4cb-454f-b333-458f83726ac7"
      },
      "source": [
        "print('trainable weights:', len(dense_layer.trainable_weights))\n",
        "print('non-trainable weights:', len(dense_layer.non_trainable_weights))"
      ],
      "execution_count": null,
      "outputs": [
        {
          "output_type": "stream",
          "text": [
            "trainable weights: 0\n",
            "non-trainable weights: 2\n"
          ],
          "name": "stdout"
        }
      ]
    },
    {
      "cell_type": "code",
      "metadata": {
        "id": "g-gC5-Tf1qMr"
      },
      "source": [
        "# Create a custom layer to accumulate means of output values\n",
        "class MyLayerMean(Layer):\n",
        "\n",
        "  def __init__(self, units , input_dim):\n",
        "    super(MyLayerMean, self).__init__()\n",
        "    self.w = self.add_weight(shape=(input_dim, units),\n",
        "                             initializer = 'random_normal')\n",
        "    self.b = self.add_weight(shape=(units, ),\n",
        "                             initializer = 'zeros')\n",
        "    self.sum_activation = tf.Variable(initial_value=tf.zeros((units,)),\n",
        "                                      trainable = False)\n",
        "    self.number_call = tf.Variable(initial_value=0,\n",
        "                                   trainable = False)\n",
        "    \n",
        "  def call(self, inputs):\n",
        "    activations = tf.matmul(inputs, self.w) + self.b\n",
        "    self.sum_activation.assign_add(tf.reduce_sum(activations, axis = 0))\n",
        "    self.number_call.assign_add(inputs.shape[0])\n",
        "    return activations, self.sum_activation/tf.cast(self.number_call, tf.float32)\n",
        "\n",
        "\n",
        "dense_layer = MyLayerMean(3, 5)"
      ],
      "execution_count": null,
      "outputs": []
    },
    {
      "cell_type": "code",
      "metadata": {
        "id": "54mcp3-P1qMt",
        "colab": {
          "base_uri": "https://localhost:8080/"
        },
        "outputId": "3515c301-2e95-43d9-e891-971c5bcfb61c"
      },
      "source": [
        "# Test the layer\n",
        "\n",
        "y, activation_means = dense_layer(tf.ones((1, 5)))\n",
        "print(activation_means.numpy())\n",
        "\n",
        "y, activation_means = dense_layer(tf.ones((1, 5)))\n",
        "print(activation_means.numpy())"
      ],
      "execution_count": null,
      "outputs": [
        {
          "output_type": "stream",
          "text": [
            "[ 0.01963058  0.0974668  -0.07171822]\n",
            "[ 0.01963058  0.0974668  -0.07171822]\n"
          ],
          "name": "stdout"
        }
      ]
    },
    {
      "cell_type": "code",
      "metadata": {
        "id": "df-6AQ7s1qMv"
      },
      "source": [
        "# Create a Dropout layer as a custom layer\n",
        "\n",
        "class MyDropout(Layer):\n",
        "\n",
        "    def __init__(self, rate):\n",
        "        super(MyDropout, self).__init__()\n",
        "        self.rate = rate\n",
        "        \n",
        "    def call(self, inputs):\n",
        "        # Define forward pass for dropout layer\n",
        "        return tf.nn.dropout(inputs, rate = self.rate)"
      ],
      "execution_count": null,
      "outputs": []
    },
    {
      "cell_type": "markdown",
      "metadata": {
        "id": "ShiBozql1qMx"
      },
      "source": [
        "#### Implement the custom layers into a model"
      ]
    },
    {
      "cell_type": "code",
      "metadata": {
        "id": "vs7o2oyT1qMz"
      },
      "source": [
        "# Build the model using custom layers with the model subclassing API\n",
        "\n",
        "class MyModel(Model):\n",
        "\n",
        "    def __init__(self, units_1, input_dim_1, units_2, units_3):\n",
        "        super(MyModel, self).__init__()\n",
        "        # Define layers\n",
        "        self.layer_1 = MyLayer(units_1, input_dim_1)\n",
        "        self.dropout_1 = MyDropout(0.5)\n",
        "        self.layer_2 = MyLayer(units_2, units_1)\n",
        "        self.dropout_2 = MyDropout(0.5)\n",
        "        self.layer_3 = MyLayer(units_3, units_2)\n",
        "        self.softmax = Softmax()\n",
        "           \n",
        "    def call(self, inputs):\n",
        "        # Define forward pass\n",
        "        x = self.layer_1(inputs)\n",
        "        x = tf.nn.relu(x)\n",
        "        x = self.dropout_1(x)\n",
        "        x = self.layer_2(x)\n",
        "        x = tf.nn.relu(x)\n",
        "        x = self.dropout_2(x)\n",
        "        x = self.layer_3(x)\n",
        "        \n",
        "        return self.softmax(x)"
      ],
      "execution_count": null,
      "outputs": []
    },
    {
      "cell_type": "code",
      "metadata": {
        "id": "k-AFZPMQ1qM1",
        "colab": {
          "base_uri": "https://localhost:8080/"
        },
        "outputId": "5137b2b4-9a0f-4ff8-94ad-ef1a370ca9d2"
      },
      "source": [
        "# Instantiate a model object\n",
        "\n",
        "model = MyModel(64,10000,64,46)\n",
        "print(model(tf.ones((1, 10000))))\n",
        "model.summary()"
      ],
      "execution_count": null,
      "outputs": [
        {
          "output_type": "stream",
          "text": [
            "tf.Tensor(\n",
            "[[0.0590732  0.02881132 0.01820432 0.03390437 0.01189851 0.00782703\n",
            "  0.00338054 0.02433166 0.01262501 0.0096845  0.01580717 0.02285367\n",
            "  0.01646875 0.00672093 0.01852052 0.01775789 0.01714168 0.01119611\n",
            "  0.01039013 0.01647911 0.02092763 0.00683467 0.05206288 0.05000358\n",
            "  0.01092965 0.0167764  0.01672743 0.033005   0.03117854 0.0224652\n",
            "  0.05188052 0.04419989 0.02763607 0.01584372 0.00938167 0.02505554\n",
            "  0.00679129 0.01707663 0.00533395 0.02689054 0.02253005 0.02015457\n",
            "  0.04356915 0.01818806 0.02776226 0.01371865]], shape=(1, 46), dtype=float32)\n",
            "Model: \"my_model_4\"\n",
            "_________________________________________________________________\n",
            "Layer (type)                 Output Shape              Param #   \n",
            "=================================================================\n",
            "my_layer_3 (MyLayer)         multiple                  640064    \n",
            "_________________________________________________________________\n",
            "my_dropout (MyDropout)       multiple                  0         \n",
            "_________________________________________________________________\n",
            "my_layer_4 (MyLayer)         multiple                  4160      \n",
            "_________________________________________________________________\n",
            "my_dropout_1 (MyDropout)     multiple                  0         \n",
            "_________________________________________________________________\n",
            "my_layer_5 (MyLayer)         multiple                  2990      \n",
            "_________________________________________________________________\n",
            "softmax_2 (Softmax)          multiple                  0         \n",
            "=================================================================\n",
            "Total params: 647,214\n",
            "Trainable params: 0\n",
            "Non-trainable params: 647,214\n",
            "_________________________________________________________________\n"
          ],
          "name": "stdout"
        }
      ]
    },
    {
      "cell_type": "markdown",
      "metadata": {
        "id": "g97vn7Fy1qM3"
      },
      "source": [
        "***\n",
        "<a id=\"coding_tutorial_3\"></a>\n",
        "## Automatic differentiation"
      ]
    },
    {
      "cell_type": "code",
      "metadata": {
        "id": "ICeoRXPg1qM4"
      },
      "source": [
        "import numpy as np\n",
        "import matplotlib.pyplot as plt"
      ],
      "execution_count": 2,
      "outputs": []
    },
    {
      "cell_type": "markdown",
      "metadata": {
        "id": "3EvILDqh1qM5"
      },
      "source": [
        "#### Create synthetic data"
      ]
    },
    {
      "cell_type": "code",
      "metadata": {
        "id": "RdxLhOdU1qM7",
        "colab": {
          "base_uri": "https://localhost:8080/",
          "height": 281
        },
        "outputId": "358e0c76-c77d-457d-e8b2-048fa31a06ec"
      },
      "source": [
        "# Create data from a noise contaminated linear model\n",
        "def MakeNoisyData(m, b, n=20):\n",
        "    x = tf.random.uniform(shape=(n,))\n",
        "    noise = tf.random.normal(shape=(len(x),), stddev=0.1)\n",
        "    y = m * x + b + noise\n",
        "    return x, y\n",
        "\n",
        "m=1\n",
        "b=2\n",
        "x_train, y_train = MakeNoisyData(m,b)\n",
        "plt.plot(x_train, y_train, 'b.')"
      ],
      "execution_count": 3,
      "outputs": [
        {
          "output_type": "execute_result",
          "data": {
            "text/plain": [
              "[<matplotlib.lines.Line2D at 0x7fde348e13d0>]"
            ]
          },
          "metadata": {
            "tags": []
          },
          "execution_count": 3
        },
        {
          "output_type": "display_data",
          "data": {
            "image/png": "[encoded data removed]",
            "text/plain": [
              "<Figure size 432x288 with 1 Axes>"
            ]
          },
          "metadata": {
            "tags": [],
            "needs_background": "light"
          }
        }
      ]
    },
    {
      "cell_type": "markdown",
      "metadata": {
        "id": "tOHWoOtW1qM9"
      },
      "source": [
        "#### Define a linear regression model"
      ]
    },
    {
      "cell_type": "code",
      "metadata": {
        "id": "Sf3sseyH1qM_"
      },
      "source": [
        "from tensorflow.keras.layers import Layer"
      ],
      "execution_count": 4,
      "outputs": []
    },
    {
      "cell_type": "code",
      "metadata": {
        "id": "SPB-kxIS1qNA",
        "colab": {
          "base_uri": "https://localhost:8080/"
        },
        "outputId": "23b1538a-3434-481f-9429-687dd2c1477a"
      },
      "source": [
        "# Build a custom layer for the linear regression model\n",
        "class LinearLayer(Layer):\n",
        "  def __init__(self):\n",
        "    super(LinearLayer, self).__init__()\n",
        "    self.m = self.add_weight(shape = (1,),\n",
        "                              initializer = 'random_normal')\n",
        "    self.b = self.add_weight(shape = (1,),\n",
        "                              initializer = 'zeros')\n",
        "  \n",
        "  def call(self, inputs):\n",
        "    return self.m*inputs + self.b \n",
        "\n",
        "linear_regression = LinearLayer()\n",
        "\n",
        "print(linear_regression(x_train))\n",
        "print(linear_regression.weights)"
      ],
      "execution_count": 7,
      "outputs": [
        {
          "output_type": "stream",
          "text": [
            "tf.Tensor(\n",
            "[0.00151049 0.00037648 0.00280526 0.00094542 0.00129132 0.00223907\n",
            " 0.00103986 0.00286602 0.00035408 0.00285472 0.00100501 0.0022093\n",
            " 0.00073251 0.00182242 0.00247313 0.00069978 0.0016869  0.00269784\n",
            " 0.00077235 0.00189867], shape=(20,), dtype=float32)\n",
            "[<tf.Variable 'Variable:0' shape=(1,) dtype=float32, numpy=array([0.0031826], dtype=float32)>, <tf.Variable 'Variable:0' shape=(1,) dtype=float32, numpy=array([0.], dtype=float32)>]\n"
          ],
          "name": "stdout"
        }
      ]
    },
    {
      "cell_type": "markdown",
      "metadata": {
        "id": "RcZs1gYj1qNC"
      },
      "source": [
        "#### Define the loss function"
      ]
    },
    {
      "cell_type": "code",
      "metadata": {
        "id": "waqn780E1qNE",
        "colab": {
          "base_uri": "https://localhost:8080/"
        },
        "outputId": "ff923c9e-9943-4ef1-d8d0-d2564c25c248"
      },
      "source": [
        "# Define the mean squared error loss function\n",
        "def SquaredError(y_pred, y_true):\n",
        "    return tf.reduce_mean(tf.square(y_pred - y_true)) \n",
        "\n",
        "starting_loss = SquaredError(linear_regression(x_train), y_train)\n",
        "print(\"Starting loss\", starting_loss.numpy())"
      ],
      "execution_count": 8,
      "outputs": [
        {
          "output_type": "stream",
          "text": [
            "Starting loss 6.165414\n"
          ],
          "name": "stdout"
        }
      ]
    },
    {
      "cell_type": "markdown",
      "metadata": {
        "id": "jA_pAQ641qNG"
      },
      "source": [
        "#### Train and plot the model"
      ]
    },
    {
      "cell_type": "code",
      "metadata": {
        "id": "WDPiU3oX1qNG",
        "colab": {
          "base_uri": "https://localhost:8080/"
        },
        "outputId": "1be8d18c-d3c7-4774-d623-154727354d3c"
      },
      "source": [
        "# Implement a gradient descent training loop for the linear regression model\n",
        "learning_rate = 0.5\n",
        "steps = 25\n",
        "\n",
        "for i in range(steps):\n",
        "  with tf.GradientTape() as tape:\n",
        "    predictions = linear_regression(x_train)\n",
        "    loss = SquaredError(predictions, y_train)\n",
        "\n",
        "  gradients = tape.gradient(loss, linear_regression.trainable_variables)\n",
        "\n",
        "  linear_regression.m.assign_sub(learning_rate * gradients[0])\n",
        "  linear_regression.b.assign_sub(learning_rate * gradients[1])\n",
        "\n",
        "  print(\"Step: %d, Loss: %f\" % (i, loss.numpy()))"
      ],
      "execution_count": 11,
      "outputs": [
        {
          "output_type": "stream",
          "text": [
            "Step: 0, Loss: 6.165414\n",
            "Step: 1, Loss: 0.460486\n",
            "Step: 2, Loss: 0.038445\n",
            "Step: 3, Loss: 0.007221\n",
            "Step: 4, Loss: 0.004909\n",
            "Step: 5, Loss: 0.004736\n",
            "Step: 6, Loss: 0.004721\n",
            "Step: 7, Loss: 0.004718\n",
            "Step: 8, Loss: 0.004717\n",
            "Step: 9, Loss: 0.004715\n",
            "Step: 10, Loss: 0.004714\n",
            "Step: 11, Loss: 0.004713\n",
            "Step: 12, Loss: 0.004712\n",
            "Step: 13, Loss: 0.004711\n",
            "Step: 14, Loss: 0.004710\n",
            "Step: 15, Loss: 0.004710\n",
            "Step: 16, Loss: 0.004709\n",
            "Step: 17, Loss: 0.004708\n",
            "Step: 18, Loss: 0.004708\n",
            "Step: 19, Loss: 0.004707\n",
            "Step: 20, Loss: 0.004707\n",
            "Step: 21, Loss: 0.004707\n",
            "Step: 22, Loss: 0.004706\n",
            "Step: 23, Loss: 0.004706\n",
            "Step: 24, Loss: 0.004706\n"
          ],
          "name": "stdout"
        }
      ]
    },
    {
      "cell_type": "code",
      "metadata": {
        "id": "iDB_u_1R1qNJ",
        "colab": {
          "base_uri": "https://localhost:8080/",
          "height": 313
        },
        "outputId": "f1e88e12-df51-450f-c9c8-cbb986f8c9f6"
      },
      "source": [
        "# Plot the learned regression model\n",
        "\n",
        "print(\"m:{},  trained m:{}\".format(m,linear_regression.m.numpy()))\n",
        "print(\"b:{},  trained b:{}\".format(b,linear_regression.b.numpy()))\n",
        "\n",
        "plt.plot(x_train, y_train, 'b.')\n",
        "\n",
        "x_linear_regression=np.linspace(min(x_train), max(x_train),50)\n",
        "plt.plot(x_linear_regression, linear_regression.m*x_linear_regression+linear_regression.b, 'r.')"
      ],
      "execution_count": 12,
      "outputs": [
        {
          "output_type": "stream",
          "text": [
            "m:1,  trained m:[1.0271072]\n",
            "b:2,  trained b:[1.9481429]\n"
          ],
          "name": "stdout"
        },
        {
          "output_type": "execute_result",
          "data": {
            "text/plain": [
              "[<matplotlib.lines.Line2D at 0x7fde2f609610>]"
            ]
          },
          "metadata": {
            "tags": []
          },
          "execution_count": 12
        },
        {
          "output_type": "display_data",
          "data": {
            "image/png": "[encoded data removed]",
            "text/plain": [
              "<Figure size 432x288 with 1 Axes>"
            ]
          },
          "metadata": {
            "tags": [],
            "needs_background": "light"
          }
        }
      ]
    },
    {
      "cell_type": "markdown",
      "metadata": {
        "id": "XbHldVgr1qNK"
      },
      "source": [
        "***\n",
        "<a id=\"coding_tutorial_4\"></a>\n",
        "## Custom training loops"
      ]
    },
    {
      "cell_type": "code",
      "metadata": {
        "id": "nT1f6M3Z1qNL"
      },
      "source": [
        "import numpy as np\n",
        "import matplotlib.pyplot as plt\n",
        "import time"
      ],
      "execution_count": 13,
      "outputs": []
    },
    {
      "cell_type": "markdown",
      "metadata": {
        "id": "Q034C6Kq1qNN"
      },
      "source": [
        "#### Build the model"
      ]
    },
    {
      "cell_type": "code",
      "metadata": {
        "id": "Kvpb6UNN1qNP"
      },
      "source": [
        "from tensorflow.keras.models import Model\n",
        "from tensorflow.keras.layers import Layer, Softmax"
      ],
      "execution_count": 14,
      "outputs": []
    },
    {
      "cell_type": "code",
      "metadata": {
        "id": "-eUGUOLo1qNR"
      },
      "source": [
        "# Define the custom layers and model\n",
        "class MyLayer(Layer):\n",
        "\n",
        "  def __init__(self, units):\n",
        "    super(MyLayer, self).__init__()\n",
        "    self.units = units\n",
        "\n",
        "  def build(self, input_shape):\n",
        "    self.w = self.add_weight(shape=(input_shape[-1], self.units),\n",
        "                             initializer = 'random_normal',\n",
        "                             name = 'kernel')\n",
        "    self.b = self.add_weight(shape=(self.units, ),\n",
        "                             initializer = 'zeros',\n",
        "                             name = 'bias')\n",
        "    \n",
        "  def call(self, inputs):\n",
        "    return tf.matmul(inputs, self.w) + self.b\n",
        "\n",
        "#########################################################################\n",
        "class MyDropout(Layer):\n",
        "\n",
        "    def __init__(self, rate):\n",
        "        super(MyDropout, self).__init__()\n",
        "        self.rate = rate\n",
        "        \n",
        "    def call(self, inputs):\n",
        "        # Define forward pass for dropout layer\n",
        "        return tf.nn.dropout(inputs, rate = self.rate)\n",
        "\n",
        "#########################################################################\n",
        "class MyModel(Model):\n",
        "\n",
        "    def __init__(self, units_1, units_2, units_3):\n",
        "        super(MyModel, self).__init__()\n",
        "        # Define layers\n",
        "        self.layer_1 = MyLayer(units_1,)\n",
        "        self.dropout_1 = MyDropout(0.5)\n",
        "        self.layer_2 = MyLayer(units_2)\n",
        "        self.dropout_2 = MyDropout(0.5)\n",
        "        self.layer_3 = MyLayer(units_3)\n",
        "        self.softmax = Softmax()\n",
        "           \n",
        "    def call(self, inputs):\n",
        "        # Define forward pass\n",
        "        x = self.layer_1(inputs)\n",
        "        x = tf.nn.relu(x)\n",
        "        x = self.dropout_1(x)\n",
        "        x = self.layer_2(x)\n",
        "        x = tf.nn.relu(x)\n",
        "        x = self.dropout_2(x)\n",
        "        x = self.layer_3(x)\n",
        "        \n",
        "        return self.softmax(x)"
      ],
      "execution_count": 22,
      "outputs": []
    },
    {
      "cell_type": "code",
      "metadata": {
        "colab": {
          "base_uri": "https://localhost:8080/"
        },
        "id": "fMSi2jpOG0pQ",
        "outputId": "522c8150-56f0-4809-923c-416458f4799d"
      },
      "source": [
        "model = MyModel(64, 64,64)\n",
        "print(model(tf.ones((1, 10000))))\n",
        "model.summary()"
      ],
      "execution_count": 23,
      "outputs": [
        {
          "output_type": "stream",
          "text": [
            "tf.Tensor(\n",
            "[[0.00847305 0.0104279  0.04621356 0.01273845 0.00882502 0.01100962\n",
            "  0.02753854 0.02613953 0.00743106 0.00274039 0.01812492 0.02089678\n",
            "  0.01128594 0.01963484 0.00661109 0.03368312 0.00931806 0.0247556\n",
            "  0.01253277 0.02193937 0.00715741 0.00945292 0.01392419 0.0270541\n",
            "  0.01191115 0.01630029 0.01746098 0.02132128 0.00583977 0.01244462\n",
            "  0.01232213 0.00570599 0.00360004 0.02218841 0.01572526 0.00838939\n",
            "  0.0034625  0.00484762 0.02196828 0.01166667 0.0019599  0.08063234\n",
            "  0.00706348 0.01735109 0.01253621 0.0045287  0.0200763  0.0131636\n",
            "  0.00315028 0.00791877 0.01035973 0.01342444 0.00828574 0.01180635\n",
            "  0.00860502 0.06709122 0.02158589 0.01710251 0.03378021 0.00741757\n",
            "  0.00916971 0.01202142 0.00546248 0.01244438]], shape=(1, 64), dtype=float32)\n",
            "Model: \"my_model_4\"\n",
            "_________________________________________________________________\n",
            "Layer (type)                 Output Shape              Param #   \n",
            "=================================================================\n",
            "my_layer_7 (MyLayer)         multiple                  640064    \n",
            "_________________________________________________________________\n",
            "my_dropout_5 (MyDropout)     multiple                  0         \n",
            "_________________________________________________________________\n",
            "my_layer_8 (MyLayer)         multiple                  4160      \n",
            "_________________________________________________________________\n",
            "my_dropout_6 (MyDropout)     multiple                  0         \n",
            "_________________________________________________________________\n",
            "my_layer_9 (MyLayer)         multiple                  4160      \n",
            "_________________________________________________________________\n",
            "softmax_2 (Softmax)          multiple                  0         \n",
            "=================================================================\n",
            "Total params: 648,384\n",
            "Trainable params: 648,384\n",
            "Non-trainable params: 0\n",
            "_________________________________________________________________\n"
          ],
          "name": "stdout"
        }
      ]
    },
    {
      "cell_type": "markdown",
      "metadata": {
        "id": "JxmMOrGn1qNS"
      },
      "source": [
        "#### Load the reuters dataset and define the class_names "
      ]
    },
    {
      "cell_type": "code",
      "metadata": {
        "id": "Qs4TL4qP1qNT",
        "colab": {
          "base_uri": "https://localhost:8080/"
        },
        "outputId": "e17b65aa-1762-4e49-99af-97b1f908e42c"
      },
      "source": [
        "# Load the dataset\n",
        "from tensorflow.keras.datasets import reuters\n",
        "\n",
        "(train_data, train_labels), (test_data, test_labels) = reuters.load_data(num_words=10000)\n",
        "\n",
        "class_names = ['cocoa','grain','veg-oil','earn','acq','wheat','copper','housing','money-supply',\n",
        "   'coffee','sugar','trade','reserves','ship','cotton','carcass','crude','nat-gas',\n",
        "   'cpi','money-fx','interest','gnp','meal-feed','alum','oilseed','gold','tin',\n",
        "   'strategic-metal','livestock','retail','ipi','iron-steel','rubber','heat','jobs',\n",
        "   'lei','bop','zinc','orange','pet-chem','dlr','gas','silver','wpi','hog','lead']"
      ],
      "execution_count": 24,
      "outputs": [
        {
          "output_type": "stream",
          "text": [
            "Downloading data from https://storage.googleapis.com/tensorflow/tf-keras-datasets/reuters.npz\n",
            "2113536/2110848 [==============================] - 0s 0us/step\n"
          ],
          "name": "stdout"
        },
        {
          "output_type": "stream",
          "text": [
            "/usr/local/lib/python3.7/dist-packages/tensorflow/python/keras/datasets/reuters.py:143: VisibleDeprecationWarning: Creating an ndarray from ragged nested sequences (which is a list-or-tuple of lists-or-tuples-or ndarrays with different lengths or shapes) is deprecated. If you meant to do this, you must specify 'dtype=object' when creating the ndarray\n",
            "  x_train, y_train = np.array(xs[:idx]), np.array(labels[:idx])\n",
            "/usr/local/lib/python3.7/dist-packages/tensorflow/python/keras/datasets/reuters.py:144: VisibleDeprecationWarning: Creating an ndarray from ragged nested sequences (which is a list-or-tuple of lists-or-tuples-or ndarrays with different lengths or shapes) is deprecated. If you meant to do this, you must specify 'dtype=object' when creating the ndarray\n",
            "  x_test, y_test = np.array(xs[idx:]), np.array(labels[idx:])\n"
          ],
          "name": "stderr"
        }
      ]
    },
    {
      "cell_type": "code",
      "metadata": {
        "id": "36mePgaE1qNW",
        "colab": {
          "base_uri": "https://localhost:8080/"
        },
        "outputId": "b785a8ab-e19b-471b-fa47-4dbce840e323"
      },
      "source": [
        "# Print the class of the first sample\n",
        "print(\"Label: {}\".format(class_names[train_labels[0]]))"
      ],
      "execution_count": 25,
      "outputs": [
        {
          "output_type": "stream",
          "text": [
            "Label: earn\n"
          ],
          "name": "stdout"
        }
      ]
    },
    {
      "cell_type": "markdown",
      "metadata": {
        "id": "iYb_JNRU1qNX"
      },
      "source": [
        "#### Get the dataset word index"
      ]
    },
    {
      "cell_type": "code",
      "metadata": {
        "id": "ttSTCTue1qNa",
        "colab": {
          "base_uri": "https://localhost:8080/"
        },
        "outputId": "5790ebb1-667e-4be9-b2ad-3568dc7358f4"
      },
      "source": [
        "# Load the Reuters word index\n",
        "word_to_index = reuters.get_word_index()\n",
        "\n",
        "invert_word_index = dict([(value, key) for (key, value) in word_to_index.items()])\n",
        "text_news = ' '.join([invert_word_index.get(i - 3, '?') for i in train_data[0]])"
      ],
      "execution_count": 26,
      "outputs": [
        {
          "output_type": "stream",
          "text": [
            "Downloading data from https://storage.googleapis.com/tensorflow/tf-keras-datasets/reuters_word_index.json\n",
            "557056/550378 [==============================] - 0s 0us/step\n"
          ],
          "name": "stdout"
        }
      ]
    },
    {
      "cell_type": "code",
      "metadata": {
        "id": "JVHGZBER1qNd",
        "colab": {
          "base_uri": "https://localhost:8080/"
        },
        "outputId": "b651ae89-9f84-4bf7-cafb-c6d4fbbe0bbb"
      },
      "source": [
        "# Print the first data example sentence\n",
        "import pprint\n",
        "pprint.pprint(text_news)"
      ],
      "execution_count": 28,
      "outputs": [
        {
          "output_type": "stream",
          "text": [
            "('? ? ? said as a result of its december acquisition of space co it expects '\n",
            " 'earnings per share in 1987 of 1 15 to 1 30 dlrs per share up from 70 cts in '\n",
            " '1986 the company said pretax net should rise to nine to 10 mln dlrs from six '\n",
            " 'mln dlrs in 1986 and rental operation revenues to 19 to 22 mln dlrs from 12 '\n",
            " '5 mln dlrs it said cash flow per share this year should be 2 50 to three '\n",
            " 'dlrs reuter 3')\n"
          ],
          "name": "stdout"
        }
      ]
    },
    {
      "cell_type": "markdown",
      "metadata": {
        "id": "nEyBYeB61qNe"
      },
      "source": [
        "#### Preprocess the data"
      ]
    },
    {
      "cell_type": "code",
      "metadata": {
        "id": "AtWBbVlT1qNg",
        "colab": {
          "base_uri": "https://localhost:8080/"
        },
        "outputId": "4e3d3275-bc9f-42ec-c175-03cba489d6a8"
      },
      "source": [
        "# Define a function that encodes the data into a 'bag of words' representation\n",
        "\n",
        "def bag_of_words(text_samples, elements=10000):\n",
        "    output = np.zeros((len(text_samples), elements))\n",
        "    for i, word in enumerate(text_samples):\n",
        "        output[i, word] = 1.\n",
        "    return output\n",
        "\n",
        "x_train = bag_of_words(train_data)\n",
        "x_test = bag_of_words(test_data)\n",
        "\n",
        "print(\"Shape of x_train:\", x_train.shape)\n",
        "print(\"Shape of x_test:\", x_test.shape)"
      ],
      "execution_count": 29,
      "outputs": [
        {
          "output_type": "stream",
          "text": [
            "Shape of x_train: (8982, 10000)\n",
            "Shape of x_test: (2246, 10000)\n"
          ],
          "name": "stdout"
        }
      ]
    },
    {
      "cell_type": "markdown",
      "metadata": {
        "id": "7W76QxM31qNi"
      },
      "source": [
        "#### Define the loss function and optimizer\n",
        "\n"
      ]
    },
    {
      "cell_type": "code",
      "metadata": {
        "id": "l4lYgHSe1qNk"
      },
      "source": [
        "# Define the categorical cross entropy loss and Adam optimizer\n",
        "loss_object = tf.keras.losses.SparseCategoricalCrossentropy()\n",
        "\n",
        "def loss(model, x, y, wd):\n",
        "    kernel_variables = []\n",
        "    for l in model.layers:\n",
        "        for w in l.weights:\n",
        "            if 'kernel' in w.name:\n",
        "                kernel_variables.append(w)\n",
        "    wd_penalty = wd * tf.reduce_sum([tf.reduce_sum(tf.square(k)) for k in kernel_variables])\n",
        "    y_ = model(x)\n",
        "    return loss_object(y_true=y, y_pred=y_) + wd_penalty\n",
        "\n",
        "optimizer = tf.keras.optimizers.Adam(learning_rate=0.001)"
      ],
      "execution_count": 37,
      "outputs": []
    },
    {
      "cell_type": "markdown",
      "metadata": {
        "id": "OBzlbze_1qNl"
      },
      "source": [
        "#### Train the model"
      ]
    },
    {
      "cell_type": "code",
      "metadata": {
        "id": "BnFehTEZ1qNn"
      },
      "source": [
        "# Define a function to compute the forward and backward pass\n",
        "def grad(model, inputs, targets, wd):\n",
        "    with tf.GradientTape() as tape:\n",
        "        loss_value = loss(model, inputs, targets, wd)\n",
        "    return loss_value, tape.gradient(loss_value, model.trainable_variables)"
      ],
      "execution_count": 38,
      "outputs": []
    },
    {
      "cell_type": "code",
      "metadata": {
        "id": "4qi3FxRh1qNo",
        "colab": {
          "base_uri": "https://localhost:8080/"
        },
        "outputId": "fb49a644-d5b0-4789-fb81-a1267979257a"
      },
      "source": [
        "# Implement the training loop\n",
        "from tensorflow.keras.utils import to_categorical\n",
        "\n",
        "start_time = time.time()\n",
        "\n",
        "train_dataset = tf.data.Dataset.from_tensor_slices((x_train, train_labels))\n",
        "train_dataset = train_dataset.batch(32)\n",
        "\n",
        "### Keep results for plotting\n",
        "train_loss_results = []\n",
        "train_accuracy_results = []\n",
        "\n",
        "num_epochs = 10\n",
        "weight_decay = 0.005\n",
        "\n",
        "### Loop\n",
        "for epoch in range(num_epochs):\n",
        "  epoch_loss_average = tf.keras.metrics.Mean()\n",
        "  epoch_accuracy = tf.keras.metrics.CategoricalAccuracy()\n",
        "\n",
        "  ## Training loop\n",
        "  for x, y in train_dataset:\n",
        "    ## Optimize the model\n",
        "    loss_value, grads = grad(model, x, y, weight_decay)\n",
        "    optimizer.apply_gradients(zip(grads, model.trainable_variables))\n",
        "\n",
        "    ## Compute current loss\n",
        "    epoch_loss_average(loss_value)\n",
        "    ## Compare predicted label to actual label\n",
        "    epoch_accuracy(to_categorical(y), model(x))\n",
        "\n",
        "  ## End epoch \n",
        "  train_loss_results.append(epoch_loss_average.result())\n",
        "  train_accuracy_results.append(epoch_accuracy.result())\n",
        "\n",
        "  print(\"Epoch {:03d}, Loss: {:.3f}, Accuracy: {:.3%}\".format(epoch,\n",
        "                                                              epoch_loss_average.result(),\n",
        "                                                              epoch_accuracy.result()))\n",
        "    \n",
        "    \n",
        "print(\"Duration :{:.3f}\".format(time.time() - start_time))"
      ],
      "execution_count": 41,
      "outputs": [
        {
          "output_type": "stream",
          "text": [
            "Epoch 000, Loss: 1.863, Accuracy: 64.986%\n",
            "Epoch 001, Loss: 1.824, Accuracy: 67.468%\n",
            "Epoch 002, Loss: 1.797, Accuracy: 67.802%\n",
            "Epoch 003, Loss: 1.777, Accuracy: 68.882%\n",
            "Epoch 004, Loss: 1.766, Accuracy: 68.982%\n",
            "Epoch 005, Loss: 1.745, Accuracy: 69.906%\n",
            "Epoch 006, Loss: 1.726, Accuracy: 69.884%\n",
            "Epoch 007, Loss: 1.726, Accuracy: 70.396%\n",
            "Epoch 008, Loss: 1.717, Accuracy: 70.730%\n",
            "Epoch 009, Loss: 1.699, Accuracy: 70.697%\n",
            "Duration :102.586\n"
          ],
          "name": "stdout"
        }
      ]
    },
    {
      "cell_type": "markdown",
      "metadata": {
        "id": "MWW581w31qNq"
      },
      "source": [
        "#### Evaluate the model"
      ]
    },
    {
      "cell_type": "code",
      "metadata": {
        "id": "Q2fo_-b51qNt"
      },
      "source": [
        "# Create a Dataset object for the test set\n",
        "test_dataset = tf.data.Dataset.from_tensor_slices((x_test, test_labels))\n",
        "test_dataset = test_dataset.batch(32)"
      ],
      "execution_count": 42,
      "outputs": []
    },
    {
      "cell_type": "code",
      "metadata": {
        "id": "3snf4ZZQ1qNu"
      },
      "source": [
        "# Collect average loss and accuracy\n",
        "epoch_loss_avg = tf.keras.metrics.Mean()\n",
        "epoch_accuracy = tf.keras.metrics.CategoricalAccuracy()"
      ],
      "execution_count": 43,
      "outputs": []
    },
    {
      "cell_type": "code",
      "metadata": {
        "id": "_e5I1UO11qNw",
        "colab": {
          "base_uri": "https://localhost:8080/"
        },
        "outputId": "60136394-bcb8-44e7-8290-2504f9f63d7b"
      },
      "source": [
        "# Loop over the test set and print scores\n",
        "from tensorflow.keras.utils import to_categorical\n",
        "\n",
        "for x, y in test_dataset:\n",
        "    # Optimize the model\n",
        "    loss_value = loss(model, x, y, weight_decay)    \n",
        "    # Compute current loss\n",
        "    epoch_loss_avg(loss_value)  \n",
        "    # Compare predicted label to actual label\n",
        "    epoch_accuracy(to_categorical(y), model(x))\n",
        "\n",
        "print(\"Test loss: {:.3f}\".format(epoch_loss_avg.result().numpy()))\n",
        "print(\"Test accuracy: {:.3%}\".format(epoch_accuracy.result().numpy()))"
      ],
      "execution_count": 44,
      "outputs": [
        {
          "output_type": "stream",
          "text": [
            "Test loss: 1.835\n",
            "Test accuracy: 68.166%\n"
          ],
          "name": "stdout"
        }
      ]
    },
    {
      "cell_type": "markdown",
      "metadata": {
        "id": "Fvo2HlRO1qNx"
      },
      "source": [
        "#### Plot the learning curves"
      ]
    },
    {
      "cell_type": "code",
      "metadata": {
        "id": "MA_rwd-w1qNz",
        "colab": {
          "base_uri": "https://localhost:8080/",
          "height": 557
        },
        "outputId": "4a3b5ddc-3952-418e-fd0d-960805428fea"
      },
      "source": [
        "# Plot the training loss and accuracy\n",
        "\n",
        "fig, axes = plt.subplots(2, sharex=True, figsize=(12, 8))\n",
        "fig.suptitle('Training Metrics')\n",
        "\n",
        "axes[0].set_ylabel(\"Loss\", fontsize=14)\n",
        "axes[0].plot(train_loss_results)\n",
        "\n",
        "axes[1].set_ylabel(\"Accuracy\", fontsize=14)\n",
        "axes[1].set_xlabel(\"Epoch\", fontsize=14)\n",
        "axes[1].plot(train_accuracy_results)\n",
        "plt.show()"
      ],
      "execution_count": 45,
      "outputs": [
        {
          "output_type": "display_data",
          "data": {
            "image/png": "[encoded data removed]",
            "text/plain": [
              "<Figure size 864x576 with 2 Axes>"
            ]
          },
          "metadata": {
            "tags": [],
            "needs_background": "light"
          }
        }
      ]
    },
    {
      "cell_type": "markdown",
      "metadata": {
        "id": "QJ2rO-P31qN0"
      },
      "source": [
        "#### Predict from the model"
      ]
    },
    {
      "cell_type": "code",
      "metadata": {
        "id": "_05K-Oqv1qN1",
        "colab": {
          "base_uri": "https://localhost:8080/"
        },
        "outputId": "9dde3e7c-ba3b-42b4-8ef1-b5699dae218d"
      },
      "source": [
        "# Get the model prediction for an example input\n",
        "predicted_label = np.argmax(model(x_train[np.newaxis,0]),axis=1)[0]\n",
        "print(\"Prediction: {}\".format(class_names[predicted_label]))\n",
        "print(\"     Label: {}\".format(class_names[train_labels[0]]))"
      ],
      "execution_count": 46,
      "outputs": [
        {
          "output_type": "stream",
          "text": [
            "Prediction: earn\n",
            "     Label: earn\n"
          ],
          "name": "stdout"
        }
      ]
    },
    {
      "cell_type": "markdown",
      "metadata": {
        "id": "Zj_Otxml1qN3"
      },
      "source": [
        "***\n",
        "<a id=\"coding_tutorial_5\"></a>\n",
        "## tf.function decorator"
      ]
    },
    {
      "cell_type": "code",
      "metadata": {
        "id": "3rlnHVZz1qN5"
      },
      "source": [
        "from tensorflow.keras.models import Model\n",
        "from tensorflow.keras.layers import Layer, Softmax\n",
        "from tensorflow.keras.utils import to_categorical\n",
        "from tensorflow.keras.datasets import reuters\n",
        "import numpy as np\n",
        "import matplotlib.pyplot as plt\n",
        "import time"
      ],
      "execution_count": 47,
      "outputs": []
    },
    {
      "cell_type": "markdown",
      "metadata": {
        "id": "h73974ts1qN7"
      },
      "source": [
        "#### Build the model"
      ]
    },
    {
      "cell_type": "code",
      "metadata": {
        "id": "LN0OldbT1qN8"
      },
      "source": [
        "# Initialize a new model\n",
        "model = MyModel(64,64,64)"
      ],
      "execution_count": 48,
      "outputs": []
    },
    {
      "cell_type": "markdown",
      "metadata": {
        "id": "fWHKkiNf1qN-"
      },
      "source": [
        "#### Redefine the grad function using the @tf.function decorator"
      ]
    },
    {
      "cell_type": "code",
      "metadata": {
        "id": "R3s0anlm1qN-"
      },
      "source": [
        "# Use the @tf.function decorator\n",
        "@tf.function\n",
        "def grad(model, inputs, targets, wd):\n",
        "    with tf.GradientTape() as tape:\n",
        "        loss_value = loss(model, inputs, targets, wd)\n",
        "    return loss_value, tape.gradient(loss_value, model.trainable_variables)"
      ],
      "execution_count": 49,
      "outputs": []
    },
    {
      "cell_type": "markdown",
      "metadata": {
        "id": "oQC1qe5v1qOA"
      },
      "source": [
        "#### Train the model"
      ]
    },
    {
      "cell_type": "code",
      "metadata": {
        "id": "GKqEjn881qOC",
        "colab": {
          "base_uri": "https://localhost:8080/"
        },
        "outputId": "e4cb6e02-bb42-49c8-e4eb-b395189eeab4"
      },
      "source": [
        "# Re-run the training loop\n",
        "from tensorflow.keras.utils import to_categorical\n",
        "\n",
        "start_time = time.time()\n",
        "\n",
        "train_dataset = tf.data.Dataset.from_tensor_slices((x_train, train_labels))\n",
        "train_dataset = train_dataset.batch(32)\n",
        "\n",
        "### Keep results for plotting\n",
        "train_loss_results = []\n",
        "train_accuracy_results = []\n",
        "\n",
        "num_epochs = 10\n",
        "weight_decay = 0.005\n",
        "\n",
        "### Loop\n",
        "for epoch in range(num_epochs):\n",
        "  epoch_loss_average = tf.keras.metrics.Mean()\n",
        "  epoch_accuracy = tf.keras.metrics.CategoricalAccuracy()\n",
        "\n",
        "  ## Training loop\n",
        "  for x, y in train_dataset:\n",
        "    ## Optimize the model\n",
        "    loss_value, grads = grad(model, x, y, weight_decay)\n",
        "    optimizer.apply_gradients(zip(grads, model.trainable_variables))\n",
        "\n",
        "    ## Compute current loss\n",
        "    epoch_loss_average(loss_value)\n",
        "    ## Compare predicted label to actual label\n",
        "    epoch_accuracy(to_categorical(y), model(x))\n",
        "\n",
        "  ## End epoch \n",
        "  train_loss_results.append(epoch_loss_average.result())\n",
        "  train_accuracy_results.append(epoch_accuracy.result())\n",
        "\n",
        "  print(\"Epoch {:03d}, Loss: {:.3f}, Accuracy: {:.3%}\".format(epoch,\n",
        "                                                              epoch_loss_average.result(),\n",
        "                                                              epoch_accuracy.result()))\n",
        "    \n",
        "    \n",
        "print(\"Duration :{:.3f}\".format(time.time() - start_time))"
      ],
      "execution_count": 50,
      "outputs": [
        {
          "output_type": "stream",
          "text": [
            "Epoch 000, Loss: 2.498, Accuracy: 55.288%\n",
            "Epoch 001, Loss: 1.968, Accuracy: 63.872%\n",
            "Epoch 002, Loss: 1.870, Accuracy: 66.900%\n",
            "Epoch 003, Loss: 1.812, Accuracy: 68.214%\n",
            "Epoch 004, Loss: 1.777, Accuracy: 68.726%\n",
            "Epoch 005, Loss: 1.764, Accuracy: 69.272%\n",
            "Epoch 006, Loss: 1.738, Accuracy: 69.483%\n",
            "Epoch 007, Loss: 1.721, Accuracy: 69.439%\n",
            "Epoch 008, Loss: 1.714, Accuracy: 69.962%\n",
            "Epoch 009, Loss: 1.713, Accuracy: 69.784%\n",
            "Duration :98.851\n"
          ],
          "name": "stdout"
        }
      ]
    },
    {
      "cell_type": "markdown",
      "metadata": {
        "id": "K0TOwzgA1qOD"
      },
      "source": [
        "#### Print the autograph code"
      ]
    },
    {
      "cell_type": "code",
      "metadata": {
        "id": "1w_ZoQv-1qOF",
        "colab": {
          "base_uri": "https://localhost:8080/"
        },
        "outputId": "3132d34b-4b7e-419a-f480-527b54389531"
      },
      "source": [
        "# Use tf.autograph.to_code to see the generated code\n",
        "print(tf.autograph.to_code(grad.python_function))"
      ],
      "execution_count": 51,
      "outputs": [
        {
          "output_type": "stream",
          "text": [
            "def tf__grad(model, inputs, targets, wd):\n",
            "    with ag__.FunctionScope('grad', 'fscope', ag__.ConversionOptions(recursive=True, user_requested=True, optional_features=(), internal_convert_user_code=True)) as fscope:\n",
            "        do_return = False\n",
            "        retval_ = ag__.UndefinedReturnValue()\n",
            "        with ag__.ld(tf).GradientTape() as tape:\n",
            "            loss_value = ag__.converted_call(ag__.ld(loss), (ag__.ld(model), ag__.ld(inputs), ag__.ld(targets), ag__.ld(wd)), None, fscope)\n",
            "        try:\n",
            "            do_return = True\n",
            "            retval_ = (ag__.ld(loss_value), ag__.converted_call(ag__.ld(tape).gradient, (ag__.ld(loss_value), ag__.ld(model).trainable_variables), None, fscope))\n",
            "        except:\n",
            "            do_return = False\n",
            "            raise\n",
            "        return fscope.ret(retval_, do_return)\n",
            "\n"
          ],
          "name": "stdout"
        }
      ]
    },
    {
      "cell_type": "code",
      "metadata": {
        "id": "HFlfFKQVfUQ0"
      },
      "source": [
        ""
      ],
      "execution_count": null,
      "outputs": []
    }
  ]
}
{
  "nbformat": 4,
  "nbformat_minor": 0,
  "metadata": {
    "kernelspec": {
      "display_name": "feedforward",
      "language": "python",
      "name": "feedforward"
    },
    "language_info": {
      "codemirror_mode": {
        "name": "ipython",
        "version": 3
      },
      "file_extension": ".py",
      "mimetype": "text/x-python",
      "name": "python",
      "nbconvert_exporter": "python",
      "pygments_lexer": "ipython3",
      "version": "3.6.9"
    },
    "colab": {
      "name": "Week4_Kullback-Leibler divergence.ipynb",
      "provenance": [],
      "collapsed_sections": [],
      "include_colab_link": true
    }
  },
  "cells": [
    {
      "cell_type": "markdown",
      "metadata": {
        "id": "view-in-github",
        "colab_type": "text"
      },
      "source": [
        "<a href=\"https://colab.research.google.com/github/DiegoCorona/TensorFlow2-for-Deep-Learning/blob/main/Week4_Kullback_Leibler_divergence.ipynb\" target=\"_parent\"><img src=\"https://colab.research.google.com/assets/colab-badge.svg\" alt=\"Open In Colab\"/></a>"
      ]
    },
    {
      "cell_type": "markdown",
      "metadata": {
        "id": "Iei1HrhZazP_"
      },
      "source": [
        "# Kullback-Leibler divergence"
      ]
    },
    {
      "cell_type": "markdown",
      "metadata": {
        "id": "uLMh2drgazQA"
      },
      "source": [
        "This reading will review the definition of the Kullback-Leibler (or KL) divergence, look at some of its important properties, see how it can be computed in practice with TensorFlow Probability."
      ]
    },
    {
      "cell_type": "code",
      "metadata": {
        "id": "9jxJx_cXazQB",
        "colab": {
          "base_uri": "https://localhost:8080/"
        },
        "outputId": "927497b3-addb-49be-e25e-aba9bb22195d"
      },
      "source": [
        "import tensorflow as tf\n",
        "import tensorflow_probability as tfp\n",
        "tfd = tfp.distributions\n",
        "print(\"TF version:\", tf.__version__)\n",
        "print(\"TFP version:\", tfp.__version__)\n",
        "\n",
        "# Additional packages for the reading\n",
        "import matplotlib.pyplot as plt\n",
        "import numpy as np\n",
        "from matplotlib.patches import Ellipse"
      ],
      "execution_count": 1,
      "outputs": [
        {
          "output_type": "stream",
          "text": [
            "TF version: 2.6.0\n",
            "TFP version: 0.13.0\n"
          ],
          "name": "stdout"
        }
      ]
    },
    {
      "cell_type": "markdown",
      "metadata": {
        "id": "0Qb18CzWazQE"
      },
      "source": [
        "## Introduction\n",
        "\n",
        "As you have already seen, the KL divergence is used in variational inference to score the dissimilarity between two distributions. In this reading, we will examine KL divergence more closely. We will see the definition of the KL divergence and some important properties, as well as how it can be computed using `tfd.kl_divergence` and Monte Carlo estimation."
      ]
    },
    {
      "cell_type": "markdown",
      "metadata": {
        "id": "VfgtknLXazQF"
      },
      "source": [
        "## Definition of the Kullback-Leibler divergence\n",
        "\n",
        "Given two probability density or mass functions $q(x)$ and $p(x)$, the Kullback-Leibler divergence between them is defined as\n",
        "\n",
        "\\begin{equation}\n",
        "    D_{KL}\\big[q \\ || \\ p\\big] =\\begin{cases}\n",
        "                                        \\text{E}_{X\\sim q}\\big[\n",
        "                                           \\log q(X) - \\log p(X)\\big] &\\text{if } p(x) = 0 \\implies q(x) = 0,\\\\\n",
        "                                        \\infty &\\text{otherwise.}\n",
        "                                       \\end{cases}\n",
        "\\end{equation}\n",
        "\n",
        "The condition $p(x) = 0 \\implies q(x) = 0$ - _absolute continuity_ - ensures that the $\\log$ in the expectation is well-defined for all $x$ in the support of $q$. \n",
        "\n",
        "As was mentioned, the KL divergence is a score for the disagreement of two distributions in their placement of probability mass. A smaller score indicates a greater degree of agreement. "
      ]
    },
    {
      "cell_type": "markdown",
      "metadata": {
        "id": "TuuMpRQpazQG"
      },
      "source": [
        "## Properties"
      ]
    },
    {
      "cell_type": "markdown",
      "metadata": {
        "id": "BY2vPhtBazQG"
      },
      "source": [
        "The Kullback-Leibler divergence is asymmetric. In general,\n",
        "\n",
        "\\begin{equation}\n",
        "    D_{KL}\\big[q \\ || \\ p\\big] \\neq D_{KL}\\big[p \\ || \\ q \\big]\n",
        "\\end{equation}\n",
        "\n",
        "In variational inference, $q$ is the approximating distribution, while $p$ is the distribution being approximated. The other KL divergence - $D_{KL}[p \\ || \\ q  ]$ - is also sometimes used as a loss function, for reasons that will become clear later in this reading. \n",
        "\n"
      ]
    },
    {
      "cell_type": "markdown",
      "metadata": {
        "id": "IMpomHFIazQH"
      },
      "source": [
        "### Gibbs' inequality\n",
        "\n",
        "A crucial property of the KL divergence is that for all $q$ and $p$,\n",
        "\n",
        "\\begin{equation}\n",
        "    D_{KL}\\big[q \\ || \\ p\\big] \\geq 0,\n",
        "\\end{equation}\n",
        "\n",
        "with equality if and only if $q(x) = p(x)$ almost everywhere. This property is very useful when we are trying to learn a $q$ that is similar to a $p$: if $D_{KL}[q \\ || \\ p] = 0$, then we know that $q$ is identical to $p$."
      ]
    },
    {
      "cell_type": "markdown",
      "metadata": {
        "id": "uAdeuoLBazQH"
      },
      "source": [
        "### What causes KL divergence to increase?\n",
        "\n",
        "As an example, take $q(x)$ and $p(x)$ to be probability mass functions, and let $\\mathcal{X}$ be $q$'s support. Provided $q$ is absolutely continuous with respect to $p$, we have\n",
        "\n",
        "\\begin{equation}\n",
        "    D_{KL}\\big[q \\ || \\ p\\big] = \\sum_{x \\in \\mathcal{X}} q(x) \\log \\frac{q(x)}{p(x)}.\n",
        "\\end{equation}\n",
        "\n",
        "Values of $x$ that $p$ assigns mass to but $q$ does not do not feature in this sum. Superficially, this may suggest that divergence is not increased if $q$ fails to place mass where $p$ does. However, $q$ is a probability mass function, so will inevitably place more mass than $p$ at some other value(s) of $x$. At those other locations, $\\log q(x)/p(x) > 0$, so the divergence is increased.\n",
        "\n",
        "On the other hand, if $q$ places probability mass where $p$ does not, then $D_{KL}\\big[q \\ || \\ p\\big]$ is $+\\infty$ - the KL divergence severely penalizes $q$ for locating probability mass where $p$ does not!\n",
        "\n",
        "From this combination of effects, we can conclude that\n",
        "\n",
        "\\begin{equation}\n",
        "    \\text{support}(q) \\subseteq \\text{support}(p) \\implies D_{KL}\\big[ q \\ || \\ p \\big] < \\infty,\n",
        "\\end{equation}\n",
        "\n",
        "while\n",
        "\n",
        "\\begin{equation}\n",
        "    \\text{support}(p) \\subset \\text{support}(q) \\implies D_{KL}\\big[ q \\ || \\ p \\big] = \\infty\n",
        "\\end{equation}\n",
        "\n",
        "Consequently, the KL divergence favours distributions $q$ that have a support contained in the target distribution's (i.e. $p$'s).\n",
        "\n",
        "The diagram below illustrates how the KL divergence is affected by the support of two bivariate density functions $q$ and $p$. The hatched regions indicate the support of either function."
      ]
    },
    {
      "cell_type": "code",
      "metadata": {
        "id": "3Iib1KfqazQI",
        "colab": {
          "base_uri": "https://localhost:8080/",
          "height": 323
        },
        "outputId": "8abf979a-6059-4a95-bd24-87a8a17eeb98"
      },
      "source": [
        "_, axs = plt.subplots(1, 2, sharex=True, sharey=True, figsize=(11, 5))\n",
        "\n",
        "delta = 45.0  # degrees\n",
        "\n",
        "q_ell_inf = Ellipse((0, 0), 2, 1.5, 45, ec='blue', fc='none',\n",
        "                    alpha=0.5, label='q(x)', hatch='/')\n",
        "q_ell_fin = Ellipse((0, 0), 0.5, 0.75, 45, ec='blue', fc='none',\n",
        "                    alpha=0.5, label='q(x)', hatch='/')\n",
        "p_ell_inf = Ellipse((0, 0), 1, 1, 45, ec='red', fc='none',\n",
        "                    alpha=0.5, label='p(x)', hatch='\\\\')\n",
        "p_ell_fin = Ellipse((0, 0), 1, 1, 45, ec='red', fc='none',\n",
        "                    alpha=0.5, label='p(x)', hatch='\\\\')\n",
        "\n",
        "# KL divergence is infinite\n",
        "for ell in [q_ell_inf, p_ell_inf]:\n",
        "    axs[0].add_artist(ell)\n",
        "axs[0].legend([q_ell_inf, p_ell_inf], ['Support of q', 'Support of p'], loc='lower right')\n",
        "axs[0].get_xaxis().set_ticks([])\n",
        "axs[0].get_yaxis().set_ticks([])\n",
        "    \n",
        "# KL divergence is finite\n",
        "for ell in [q_ell_fin, p_ell_fin]:\n",
        "    axs[1].add_artist(ell)\n",
        "axs[1].legend([q_ell_fin, p_ell_fin], ['Support of q', 'Support of p'], loc='lower right')\n",
        "axs[1].get_xaxis().set_ticks([])\n",
        "axs[1].get_yaxis().set_ticks([])\n",
        "\n",
        "axs[0].set_title(r'$D_{KL}[q \\ || \\ p] = +\\infty$')\n",
        "axs[1].set_title(r'$D_{KL}[q \\ || \\ p]$ is finite but non-zero')\n",
        "plt.xlim(-1, 1)\n",
        "plt.ylim(-1, 1);"
      ],
      "execution_count": 2,
      "outputs": [
        {
          "output_type": "display_data",
          "data": {
            "image/png": "[encoded data removed]",
            "text/plain": [
              "<Figure size 792x360 with 2 Axes>"
            ]
          },
          "metadata": {}
        }
      ]
    },
    {
      "cell_type": "markdown",
      "metadata": {
        "id": "HTHMV1xpazQL"
      },
      "source": [
        "## Computing KL divergence in TensorFlow\n",
        "\n",
        "For some choices of $q$ and $p$, the KL divergence can be evaluated to a closed-form expression.\n",
        "\n",
        "`tfd.kl_divergence` computes the KL divergence between two distributions analytically, provided the divergence in question has been implemented in the TensorFlow Probability library.\n",
        "\n",
        "Below is an example that uses `tfd.kl_divergence` to compute $D_{KL}\\big[q \\ || \\ p \\big]$ when $q$ and $p$ are univariate normal distributions."
      ]
    },
    {
      "cell_type": "code",
      "metadata": {
        "id": "UqzL-8LjazQL",
        "colab": {
          "base_uri": "https://localhost:8080/"
        },
        "outputId": "c83ca22b-5bbe-444d-ac91-e4ff419d8997"
      },
      "source": [
        "# Simple example\n",
        "\n",
        "mu_q = 0.\n",
        "sigma_q = 1.\n",
        "mu_p = 0.\n",
        "sigma_p = 0.5\n",
        "distribution_q = tfd.Normal(loc=mu_q, scale=sigma_q)\n",
        "distribution_p = tfd.Normal(loc=mu_p, scale=sigma_p)\n",
        "\n",
        "tfd.kl_divergence(distribution_q, distribution_p) # D_{KL}[q || p]"
      ],
      "execution_count": 3,
      "outputs": [
        {
          "output_type": "execute_result",
          "data": {
            "text/plain": [
              "<tf.Tensor: shape=(), dtype=float32, numpy=0.8068528>"
            ]
          },
          "metadata": {},
          "execution_count": 3
        }
      ]
    },
    {
      "cell_type": "markdown",
      "metadata": {
        "id": "TNH4cmjfazQO"
      },
      "source": [
        "Let's check this value. The KL divergence between two univariate normal distributions can be derived directly from the definition of the KL divergence as\n",
        "\n",
        "\\begin{equation}\n",
        "    D_{KL}\\big[ q \\ || \\ p\\big] = \\frac{1}{2}\\bigg(\\frac{\\sigma_q^2}{\\sigma_p^2} + \\frac{(\\mu_q - \\mu_p)^2}{\\sigma_p^2}  + 2\\log \\frac{\\sigma_p}{\\sigma_q} - 1\\bigg)\n",
        "\\end{equation}\n",
        "\n",
        "The value of this function should be equal to that returned by `kl_divergence(distribution_q, distribution_p)`. "
      ]
    },
    {
      "cell_type": "code",
      "metadata": {
        "id": "MPG30ExfazQO",
        "colab": {
          "base_uri": "https://localhost:8080/"
        },
        "outputId": "9c6a30ac-1dbf-4b58-8972-110624e4cdcb"
      },
      "source": [
        "# Analytical expression for KL divergence between two univariate Normals\n",
        "\n",
        "0.5*( (sigma_q/sigma_p)**2 + ((mu_q - mu_p)/sigma_p)**2 + 2*np.log(sigma_p/sigma_q) - 1)"
      ],
      "execution_count": 4,
      "outputs": [
        {
          "output_type": "execute_result",
          "data": {
            "text/plain": [
              "0.8068528194400546"
            ]
          },
          "metadata": {},
          "execution_count": 4
        }
      ]
    },
    {
      "cell_type": "markdown",
      "metadata": {
        "id": "jUXjb5JQazQR"
      },
      "source": [
        "Sure enough, it is.\n",
        "\n",
        "If a batch of distributions is passed to `kl_divergence`, then a batch of divergences will be returned. `kl_divergence` also supports broadcasting."
      ]
    },
    {
      "cell_type": "code",
      "metadata": {
        "id": "e0w8mqrwazQR"
      },
      "source": [
        "# Batch example with broadcasting\n",
        "\n",
        "distributions_q = tfd.Normal(loc=[0., 1.], scale=1.)\n",
        "distribution_p = tfd.Normal(loc=0., scale=0.5)"
      ],
      "execution_count": 5,
      "outputs": []
    },
    {
      "cell_type": "code",
      "metadata": {
        "id": "-71tRoeXazQU",
        "colab": {
          "base_uri": "https://localhost:8080/"
        },
        "outputId": "b9c7bd9b-2dad-4aba-f824-1b2ef7e2f87b"
      },
      "source": [
        "# Notice the batch_shape\n",
        "\n",
        "distributions_q "
      ],
      "execution_count": 6,
      "outputs": [
        {
          "output_type": "execute_result",
          "data": {
            "text/plain": [
              "<tfp.distributions.Normal 'Normal' batch_shape=[2] event_shape=[] dtype=float32>"
            ]
          },
          "metadata": {},
          "execution_count": 6
        }
      ]
    },
    {
      "cell_type": "code",
      "metadata": {
        "id": "0bHb-P3bazQW",
        "colab": {
          "base_uri": "https://localhost:8080/"
        },
        "outputId": "883706e8-9a2e-4492-8f18-f8d724ded4c2"
      },
      "source": [
        "# [D_{KL}[q_1 || p], D_{KL}[q_2 || p]\n",
        "\n",
        "tfd.kl_divergence(distributions_q, distribution_p) "
      ],
      "execution_count": 7,
      "outputs": [
        {
          "output_type": "execute_result",
          "data": {
            "text/plain": [
              "<tf.Tensor: shape=(2,), dtype=float32, numpy=array([0.8068528, 2.8068528], dtype=float32)>"
            ]
          },
          "metadata": {},
          "execution_count": 7
        }
      ]
    },
    {
      "cell_type": "markdown",
      "metadata": {
        "id": "KbQwyb5XazQY"
      },
      "source": [
        "`kl_divergence` provides a convenient way of computing the KL divergence for many TensorFlow distributions. As a rule of thumb, it will evaluate successfully provided you pass in two distributions of the same parametric family. "
      ]
    },
    {
      "cell_type": "code",
      "metadata": {
        "id": "B5LM7WLrazQZ",
        "colab": {
          "base_uri": "https://localhost:8080/"
        },
        "outputId": "ddae62ce-96ca-46c1-d827-74a8efbea0bb"
      },
      "source": [
        "# An example with another distribution\n",
        "\n",
        "beta_q = tfd.Beta(concentration1=12, concentration0=3)\n",
        "beta_p = tfd.Beta(concentration1=9, concentration0=3)\n",
        "\n",
        "tfd.kl_divergence(beta_q, beta_p)"
      ],
      "execution_count": 8,
      "outputs": [
        {
          "output_type": "execute_result",
          "data": {
            "text/plain": [
              "<tf.Tensor: shape=(), dtype=float32, numpy=0.09615421>"
            ]
          },
          "metadata": {},
          "execution_count": 8
        }
      ]
    },
    {
      "cell_type": "code",
      "metadata": {
        "id": "EXi7YbGjazQb",
        "colab": {
          "base_uri": "https://localhost:8080/"
        },
        "outputId": "e02034b0-1789-4e9c-bfed-9a1200e6a793"
      },
      "source": [
        "# An example with a multivariate distribution\n",
        "\n",
        "cov_q = np.array([[1., 0.5], [0.5, 1.]])\n",
        "cov_p = np.array([[1., 0.], [0., 1.]])\n",
        "mvtnormal_q = tfd.MultivariateNormalTriL(loc=[0., 0.], scale_tril=tf.linalg.cholesky(cov_q))\n",
        "mvtnormal_p = tfd.MultivariateNormalTriL(loc=[0., 0.], scale_tril=tf.linalg.cholesky(cov_p))\n",
        "\n",
        "tfd.kl_divergence(mvtnormal_q, mvtnormal_p)"
      ],
      "execution_count": 9,
      "outputs": [
        {
          "output_type": "execute_result",
          "data": {
            "text/plain": [
              "<tf.Tensor: shape=(), dtype=float64, numpy=0.14384103622589053>"
            ]
          },
          "metadata": {},
          "execution_count": 9
        }
      ]
    },
    {
      "cell_type": "markdown",
      "metadata": {
        "id": "JlO7m3cYazQe"
      },
      "source": [
        "To see a complete list of distributions for which a KL method is defined, refer to `help(tfd.kl_divergence)`.\n",
        "\n",
        "If you pass `kl_divergence` a pair distributions for which a KL divergence method is not implemented, an error will be raised:"
      ]
    },
    {
      "cell_type": "code",
      "metadata": {
        "id": "b7OEI-p3azQe"
      },
      "source": [
        "# uniform_q and beta_p are both uniform distributions with support [0, 1]\n",
        "\n",
        "uniform_q = tfd.Uniform(low=0., high=1.)\n",
        "beta_p = tfd.Beta(concentration1=0., concentration0=0.)"
      ],
      "execution_count": 10,
      "outputs": []
    },
    {
      "cell_type": "code",
      "metadata": {
        "id": "oj8MqjReazQg",
        "colab": {
          "base_uri": "https://localhost:8080/"
        },
        "outputId": "df07c759-4dbb-424d-9ac7-1c1a14730450"
      },
      "source": [
        "# kl_divergence has no method for computing their divergence\n",
        "\n",
        "try:\n",
        "    tfd.kl_divergence(uniform_q, beta_p)\n",
        "except Exception as e:\n",
        "    print(e)"
      ],
      "execution_count": 11,
      "outputs": [
        {
          "output_type": "stream",
          "text": [
            "No KL(distribution_a || distribution_b) registered for distribution_a type Uniform and distribution_b type Beta\n"
          ],
          "name": "stdout"
        }
      ]
    },
    {
      "cell_type": "markdown",
      "metadata": {
        "id": "JFIzPMkaazQi"
      },
      "source": [
        "### When `kl_divergence` fails\n",
        "\n",
        "If you do not have a closed-form expression for your KL divergence, and it is not implemented in `tfd.kl_divergence`, then you can make a Monte Carlo estimate of it. Simply sample $n$ values $x_1, \\ldots, x_n$ from $q$, then evaluate the estimate\n",
        "\n",
        "\\begin{equation}\n",
        "    \\frac{1}{n}\\sum_{i=1}^n \\log\\big[q(x_i)\\big] - \\log\\big[p(x_i)\\big]\n",
        "\\end{equation}\n",
        "\n",
        "In general, the Monte Carlo estimator is unbiased and its variance is inversely proportional to $n$. \n",
        "\n",
        "To show how the variance of the Monte Carlo estimator varies with $n$, let's attempt to estimate $D_{KL}\\big[q \\ | \\ p\\big]$ when $q$ and $p$ are univariate normal distributions. We'll make many estimates for several values of $n$, then plot their absolute error as a function of $n$.\n",
        "\n",
        "We'll start by evaluating the exact value $D_{KL}\\big[q \\ | \\ p\\big]$ using `kl_divergence`. Bear in mind that the Monte Carlo estimate will only be useful in situations where this not possible!"
      ]
    },
    {
      "cell_type": "code",
      "metadata": {
        "id": "cNLfNifSazQi",
        "colab": {
          "base_uri": "https://localhost:8080/"
        },
        "outputId": "3b503cfa-f112-47e7-9032-5ad45c76c52c"
      },
      "source": [
        "# Evaluate the exact KL divergence\n",
        "\n",
        "distribution_q = tfd.Normal(loc=0., scale=1.)\n",
        "distribution_p = tfd.Normal(loc=0., scale=0.5)\n",
        "\n",
        "exact_kl_divergence = tfd.kl_divergence(distribution_q, distribution_p).numpy() # D_{KL}[q || p]\n",
        "exact_kl_divergence"
      ],
      "execution_count": 12,
      "outputs": [
        {
          "output_type": "execute_result",
          "data": {
            "text/plain": [
              "0.8068528"
            ]
          },
          "metadata": {},
          "execution_count": 12
        }
      ]
    },
    {
      "cell_type": "markdown",
      "metadata": {
        "id": "muVRbJlcazQk"
      },
      "source": [
        "Next, we'll define a function for making a Monte Carlo estimate for a given $q$, $p$, and $n$."
      ]
    },
    {
      "cell_type": "code",
      "metadata": {
        "id": "jltAO4IeazQl"
      },
      "source": [
        "# Function to estimate the KL divergence with Monte Carlo samples\n",
        "\n",
        "def monte_carlo_estimate_of_kl_divergence(n, q_sampler, q_density, p_density):\n",
        "    '''\n",
        "        Computes a Monte Carlo estimate of D_{KL}[q || p] using\n",
        "        n samples from q_sampler.\n",
        "        \n",
        "        q_sampler is a function that receives a positive integer\n",
        "        and returns as many samples from q.\n",
        "        \n",
        "        Given samples x_1, ..., x_n from q_sampler, the Monte Carlo\n",
        "        estimate is\n",
        "            \n",
        "            \\frac{1}{n}\\sum_{i=1}^n \\log(q(x_i)) - \\log(p(x_i))\n",
        "            \n",
        "        where q and p are density/mass functions. \n",
        "    '''\n",
        "    x = q_sampler(n)\n",
        "    KL_estimate = np.mean(np.log(q_density(x)) - np.log(p_density(x)))\n",
        "    return(KL_estimate)"
      ],
      "execution_count": 13,
      "outputs": []
    },
    {
      "cell_type": "markdown",
      "metadata": {
        "id": "V0_LwbzTazQn"
      },
      "source": [
        "The code below shows how this function can be used to make a single estimate."
      ]
    },
    {
      "cell_type": "code",
      "metadata": {
        "id": "AOVKz5ifazQn",
        "colab": {
          "base_uri": "https://localhost:8080/"
        },
        "outputId": "b8e02017-c23a-402e-94f3-77b2e2fb52b9"
      },
      "source": [
        "# Single MC estimate\n",
        "\n",
        "n = 1000 # number of samples used in MC estimate\n",
        "q_sampler = distribution_q.sample\n",
        "q_density = distribution_q.prob\n",
        "p_density = distribution_p.prob\n",
        "\n",
        "monte_carlo_estimate_of_kl_divergence(n, q_sampler, q_density, p_density)"
      ],
      "execution_count": 14,
      "outputs": [
        {
          "output_type": "execute_result",
          "data": {
            "text/plain": [
              "0.71332556"
            ]
          },
          "metadata": {},
          "execution_count": 14
        }
      ]
    },
    {
      "cell_type": "markdown",
      "metadata": {
        "id": "23OpUuqVazQq"
      },
      "source": [
        "To see how the estimator's variance decreases with increasing $n$, let's evaluate a few hundred estimates for each point in a grid of $n$ values."
      ]
    },
    {
      "cell_type": "code",
      "metadata": {
        "id": "3zBlR0LBazQq"
      },
      "source": [
        "# Create a grid of 8 points\n",
        "\n",
        "n_grid = 10**np.arange(1, 8)\n",
        "samples_per_grid_point = 100  # Number of MC estimates to make for each value of n"
      ],
      "execution_count": 15,
      "outputs": []
    },
    {
      "cell_type": "code",
      "metadata": {
        "id": "xJKsfDwGazQt"
      },
      "source": [
        "# Array to store results\n",
        "\n",
        "kl_estimates = np.zeros(shape=[samples_per_grid_point, len(n_grid), 2])"
      ],
      "execution_count": 16,
      "outputs": []
    },
    {
      "cell_type": "code",
      "metadata": {
        "id": "ZPCTW9xiazQv"
      },
      "source": [
        "# Make 100 MC estimates for each value of n, store the results in kl_estimates\n",
        "\n",
        "for sample_num in range(samples_per_grid_point):\n",
        "    for grid_num, n in enumerate(n_grid):\n",
        "        kl_estimates[sample_num, grid_num, 0] = n\n",
        "        kl_estimates[sample_num, grid_num, 1] = monte_carlo_estimate_of_kl_divergence(n,\n",
        "                                                            q_sampler, q_density, p_density)"
      ],
      "execution_count": 17,
      "outputs": []
    },
    {
      "cell_type": "code",
      "metadata": {
        "id": "dj16qyFYazQw"
      },
      "source": [
        "# Compute RMSE of estimates (this is approximately equal to the standard deviation of the MC estimator)\n",
        "\n",
        "rmse_of_kl_estimates = np.sqrt(np.mean((kl_estimates[:, :, 1] - \n",
        "                                            exact_kl_divergence)**2, axis=0))"
      ],
      "execution_count": 18,
      "outputs": []
    },
    {
      "cell_type": "code",
      "metadata": {
        "id": "nq73oJm5azQy"
      },
      "source": [
        "# Compute absolute error of the MC estimates\n",
        "\n",
        "abs_error_of_kl_estimates = abs(kl_estimates[:, :, 1].flatten() - exact_kl_divergence)"
      ],
      "execution_count": 19,
      "outputs": []
    },
    {
      "cell_type": "code",
      "metadata": {
        "id": "aWi66xX3azQ0",
        "colab": {
          "base_uri": "https://localhost:8080/",
          "height": 347
        },
        "outputId": "e3ef49f1-e947-4236-dbc8-b7791ebc9cc6"
      },
      "source": [
        "# Plot the results\n",
        "\n",
        "_, ax = plt.subplots(1, 1, figsize=(15, 5))\n",
        "plt.xlabel(r'Number of samples in Monte Carlo estimate, $n$')\n",
        "ax.scatter(kl_estimates[:, :, 0], \n",
        "           abs_error_of_kl_estimates,\n",
        "           marker='.', color='red',\n",
        "           alpha=0.1, label='Absolute error of Monte Carlo estimates')\n",
        "ax.plot(n_grid, rmse_of_kl_estimates, color='k', label='RMSE of Monte Carlo estimates')\n",
        "ax.set_xscale('log'); ax.set_yscale('log'); ax.set_ylim([1e-6, 10])\n",
        "ax.legend();"
      ],
      "execution_count": 20,
      "outputs": [
        {
          "output_type": "display_data",
          "data": {
            "image/png": "[encoded data removed]",
            "text/plain": [
              "<Figure size 1080x360 with 1 Axes>"
            ]
          },
          "metadata": {
            "needs_background": "light"
          }
        }
      ]
    },
    {
      "cell_type": "markdown",
      "metadata": {
        "id": "-VzZ7TsiazQ2"
      },
      "source": [
        "You can see that the gradient of the estimates' RMSE, an estimate of the MC estimator's standard devation, with respect to $n$ is $-\\frac{1}{2}$. This is unsurprising: the estimator's variance is inversely proportional to $n$, so its log standard deviation is a linear function of $\\log n$ with gradient $-\\frac{1}{2}$. As $n$ increases, the Monte Carlo estimates approach the exact value of the KL divergence."
      ]
    },
    {
      "cell_type": "markdown",
      "metadata": {
        "id": "Tup8g-P2azQ2"
      },
      "source": [
        "### Summary\n",
        "\n",
        "You should now feel confident about how the Kullback-Leibler divergence is motivated and defined, what its key properties and why it is used in variational inference, and how it can be computed or estimated in TensorFlow."
      ]
    },
    {
      "cell_type": "markdown",
      "metadata": {
        "id": "1rkUpU6_azQ2"
      },
      "source": [
        "### Further reading and resources\n",
        "\n",
        "* TensorFlow documentation on `tfd.kl_divergence`: https://www.tensorflow.org/probability/api_docs/python/tfp/distributions/kl_divergence"
      ]
    },
    {
      "cell_type": "markdown",
      "metadata": {
        "id": "H0CLIEBqazQ3"
      },
      "source": [
        "## Appendix\n",
        "\n",
        "#### Information gain, relative entropy, and Bayesian inference\n",
        "\n",
        "This section provides further context for the Kullback-Leibler divergence. It is not essential, but it will give you a more complete understanding of what the divergence measures.\n",
        "\n",
        "The Kullback-Leibler divergence has its origins in information theory. The Shannon entropy, defined as\n",
        "\n",
        "\\begin{equation}\n",
        "    H(P) := E_{X \\sim P(x)}[-\\log P(X) ]\n",
        "\\end{equation}\n",
        "\n",
        "is the greatest lower bound on the average number of nats ($\\log 2$ nats are equal to $1$ bit) required to losslessly encode an observation sampled from from $P(x)$. This is an informal statement of a result known as the _source coding theorem_. $-\\log P(x)$ is the number of bits used to encode $x$ in the lossless encoding scheme.\n",
        "\n",
        "Say that a lossless compression algorithm instead encodes observations using a scheme that would be optimal for distribution $Q(x)$. Then the average number of of bits required to encode an observation sampled from $P(x)$ would be\n",
        "\n",
        "\\begin{equation}\n",
        "    H(P, Q) := E_{X \\sim P(x)}[-\\log Q(X)]\n",
        "\\end{equation}\n",
        "\n",
        "This is quantity is referred to as the _cross-entropy_ between $P$ and $Q$. Since $H(P)$ is the minimum average information for encoding observations from $P(x)$ by definition, it follows that $H(P, Q) \\geq H(P)$.\n",
        "\n",
        "The Kullback-Leibler divergence is defined as the average additional information required to encode observations from $P(x)$ using an optimal code for $Q(x)$:\n",
        "\n",
        "\\begin{align}\n",
        "    D_{KL}(P \\ || \\ Q) &:= E_{X \\sim P(x)}[-\\log Q(X)] - E_{X \\sim P(x)}[-\\log P(X)] \\\\\n",
        "                       &= H(P, Q) - H(P)\n",
        "\\end{align}\n",
        "\n",
        "The KL divergence therefore tells us how inefficient the optimal coding scheme for $Q$ is when applied to data source $P$.\n",
        "\n",
        "That KL divergence is the difference between a cross-entropy and a Shannon entropy sheds light on why the KL divergence has another moniker - _relative entropy_.\n",
        "\n",
        "Alternatively, we might consider encoding observations in the context of Bayesian inference. Let $P(y)$ be the prior and $P(y|x)$ be the posterior. Then the Kullback-Leibler divergence\n",
        "\n",
        "\\begin{equation}\n",
        "    D_{KL}(P(y|x) \\ || \\ P(y)) = E_{Y \\sim P(y|x)}[-\\log P(Y)] - E_{Y \\sim P(y|x)}[-\\log P(Y|x)]\n",
        "\\end{equation}\n",
        "\n",
        "is the average number of bits saved if observations are encoded using an optimal code for the posterior rather than the prior. In this sense, the KL divergence tells us how much information is gained by conditioning on $X$."
      ]
    }
  ]
}
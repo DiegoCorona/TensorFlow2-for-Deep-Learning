{
  "nbformat": 4,
  "nbformat_minor": 0,
  "metadata": {
    "kernelspec": {
      "display_name": "Python 3",
      "language": "python",
      "name": "python3"
    },
    "language_info": {
      "codemirror_mode": {
        "name": "ipython",
        "version": 3
      },
      "file_extension": ".py",
      "mimetype": "text/x-python",
      "name": "python",
      "nbconvert_exporter": "python",
      "pygments_lexer": "ipython3",
      "version": "3.7.1"
    },
    "colab": {
      "name": "Week2_Tensorflow2_for_Deep_Learning.ipynb",
      "provenance": [],
      "include_colab_link": true
    }
  },
  "cells": [
    {
      "cell_type": "markdown",
      "metadata": {
        "id": "view-in-github",
        "colab_type": "text"
      },
      "source": [
        "<a href=\"https://colab.research.google.com/github/DiegoCorona/TensorFlow2-for-Deep-Learning/blob/main/Week2_Tensorflow2_for_Deep_Learning.ipynb\" target=\"_parent\"><img src=\"https://colab.research.google.com/assets/colab-badge.svg\" alt=\"Open In Colab\"/></a>"
      ]
    },
    {
      "cell_type": "code",
      "metadata": {
        "id": "DEuqIAXWWacY",
        "colab": {
          "base_uri": "https://localhost:8080/"
        },
        "outputId": "397b76f3-823f-4d9f-b17f-2751db497d90"
      },
      "source": [
        "import tensorflow as tf\n",
        "print(tf.__version__)"
      ],
      "execution_count": 1,
      "outputs": [
        {
          "output_type": "stream",
          "text": [
            "2.4.1\n"
          ],
          "name": "stdout"
        }
      ]
    },
    {
      "cell_type": "markdown",
      "metadata": {
        "id": "m7by9n5uWadD"
      },
      "source": [
        "# The Sequential model API"
      ]
    },
    {
      "cell_type": "markdown",
      "metadata": {
        "id": "OdVR0bgEWadH"
      },
      "source": [
        " ## Coding tutorials\n",
        " #### [1. Building a Sequential model](#coding_tutorial_1)\n",
        " #### [2. Convolutional and pooling layers](#coding_tutorial_2)\n",
        " #### [3. The compile method](#coding_tutorial_3)\n",
        " #### [4. The fit method](#coding_tutorial_4)\n",
        " #### [5. The evaluate and predict methods](#coding_tutorial_5)"
      ]
    },
    {
      "cell_type": "markdown",
      "metadata": {
        "id": "HHYLXjOuWadL"
      },
      "source": [
        "***\n",
        "<a id=\"coding_tutorial_1\"></a>\n",
        "## Building a Sequential model"
      ]
    },
    {
      "cell_type": "code",
      "metadata": {
        "id": "nD7v_uJkWadO"
      },
      "source": [
        "from tensorflow.keras.models import Sequential\n",
        "from tensorflow.keras.layers import Dense, Flatten, Softmax"
      ],
      "execution_count": 2,
      "outputs": []
    },
    {
      "cell_type": "markdown",
      "metadata": {
        "id": "c06Xfm4jWadR"
      },
      "source": [
        "#### Build a feedforward neural network model"
      ]
    },
    {
      "cell_type": "code",
      "metadata": {
        "id": "c0T8iKqjWadT"
      },
      "source": [
        "# Build the Sequential feedforward neural network model\n",
        "model = Sequential([\n",
        "        Dense(10, input_shape = (20,)),\n",
        "        Dense(64, activation= 'relu', name = 'layer_1'),\n",
        "        Dense(10, activation= 'softmax')\n",
        "])"
      ],
      "execution_count": 3,
      "outputs": []
    },
    {
      "cell_type": "code",
      "metadata": {
        "id": "g1Tu17K6WadV",
        "colab": {
          "base_uri": "https://localhost:8080/"
        },
        "outputId": "9952113f-02db-4755-bfc8-2c81f1d92b28"
      },
      "source": [
        "# Print the model summary\n",
        "model.summary()"
      ],
      "execution_count": 4,
      "outputs": [
        {
          "output_type": "stream",
          "text": [
            "Model: \"sequential\"\n",
            "_________________________________________________________________\n",
            "Layer (type)                 Output Shape              Param #   \n",
            "=================================================================\n",
            "dense (Dense)                (None, 10)                210       \n",
            "_________________________________________________________________\n",
            "layer_1 (Dense)              (None, 64)                704       \n",
            "_________________________________________________________________\n",
            "dense_1 (Dense)              (None, 10)                650       \n",
            "=================================================================\n",
            "Total params: 1,564\n",
            "Trainable params: 1,564\n",
            "Non-trainable params: 0\n",
            "_________________________________________________________________\n"
          ],
          "name": "stdout"
        }
      ]
    },
    {
      "cell_type": "markdown",
      "metadata": {
        "id": "R6N69mliWadX"
      },
      "source": [
        "***\n",
        "<a id=\"coding_tutorial_2\"></a>\n",
        "## Convolutional and pooling layers"
      ]
    },
    {
      "cell_type": "code",
      "metadata": {
        "id": "4QLesDOrWadZ"
      },
      "source": [
        "from tensorflow.keras.models import Sequential\n",
        "from tensorflow.keras.layers import Dense, Flatten, Conv2D, MaxPooling2D"
      ],
      "execution_count": 5,
      "outputs": []
    },
    {
      "cell_type": "markdown",
      "metadata": {
        "id": "XE3PGMvDWadb"
      },
      "source": [
        "#### Build a convolutional neural network model"
      ]
    },
    {
      "cell_type": "code",
      "metadata": {
        "id": "BXHwdwFXWadd"
      },
      "source": [
        "# Build the Sequential convolutional neural network model\n",
        "\n",
        "model_cnn = Sequential([\n",
        "                    Conv2D(16, (3,3), activation= 'relu', \n",
        "                           input_shape = (28,28, 1),\n",
        "                           padding = 'SAME', \n",
        "                           strides = 2), ## el '1' es para imagenes blanco y negro\n",
        "                                         ## padding agrega ceros a los lados para tener la misam dimension\n",
        "                                         ## strides son los saltos que da el filtro\n",
        "                    MaxPooling2D((3,3)),\n",
        "                    Flatten(),\n",
        "                    Dense(10, activation= 'softmax')\n",
        "])"
      ],
      "execution_count": 6,
      "outputs": []
    },
    {
      "cell_type": "code",
      "metadata": {
        "id": "hUI772qaWadg",
        "colab": {
          "base_uri": "https://localhost:8080/"
        },
        "outputId": "994736b3-a8d5-46ff-e9ce-4eaa966f3e5a"
      },
      "source": [
        "# Print the model summary\n",
        "model_cnn.summary()"
      ],
      "execution_count": 7,
      "outputs": [
        {
          "output_type": "stream",
          "text": [
            "Model: \"sequential_1\"\n",
            "_________________________________________________________________\n",
            "Layer (type)                 Output Shape              Param #   \n",
            "=================================================================\n",
            "conv2d (Conv2D)              (None, 14, 14, 16)        160       \n",
            "_________________________________________________________________\n",
            "max_pooling2d (MaxPooling2D) (None, 4, 4, 16)          0         \n",
            "_________________________________________________________________\n",
            "flatten (Flatten)            (None, 256)               0         \n",
            "_________________________________________________________________\n",
            "dense_2 (Dense)              (None, 10)                2570      \n",
            "=================================================================\n",
            "Total params: 2,730\n",
            "Trainable params: 2,730\n",
            "Non-trainable params: 0\n",
            "_________________________________________________________________\n"
          ],
          "name": "stdout"
        }
      ]
    },
    {
      "cell_type": "markdown",
      "metadata": {
        "id": "OSH0-RF3Wadi"
      },
      "source": [
        "***\n",
        "<a id=\"coding_tutorial_3\"></a>\n",
        "## The compile method"
      ]
    },
    {
      "cell_type": "markdown",
      "metadata": {
        "id": "HRkXC6ehWadk"
      },
      "source": [
        "#### Compile the model"
      ]
    },
    {
      "cell_type": "code",
      "metadata": {
        "id": "qKxiKZM_Wadm"
      },
      "source": [
        "# Define the model optimizer, loss function and metrics\n",
        "opt = tf.keras.optimizers.Adam(learning_rate= 0.005)\n",
        "acc = tf.keras.metrics.SparseCategoricalAccuracy()\n",
        "mae = tf.keras.metrics.MeanAbsoluteError()\n",
        "\n",
        "model_cnn.compile(optimizer= opt, ## 'adam', 'SGD'\n",
        "                  loss = 'sparce_categorical_crossentropy',\n",
        "                  metrics = [acc, mae])"
      ],
      "execution_count": 8,
      "outputs": []
    },
    {
      "cell_type": "code",
      "metadata": {
        "id": "GX-79uPsWado",
        "colab": {
          "base_uri": "https://localhost:8080/"
        },
        "outputId": "4df78731-e49e-45e3-ca4a-cd068e2e2ed9"
      },
      "source": [
        "# Print the resulting model attributes\n",
        "print(model_cnn.loss)\n",
        "print(model_cnn.optimizer)\n",
        "print(model_cnn.metrics)\n",
        "print(model_cnn.optimizer.lr)"
      ],
      "execution_count": 9,
      "outputs": [
        {
          "output_type": "stream",
          "text": [
            "sparce_categorical_crossentropy\n",
            "<tensorflow.python.keras.optimizer_v2.adam.Adam object at 0x7f760cee9290>\n",
            "[]\n",
            "<tf.Variable 'learning_rate:0' shape=() dtype=float32, numpy=0.005>\n"
          ],
          "name": "stdout"
        }
      ]
    },
    {
      "cell_type": "markdown",
      "metadata": {
        "id": "XuhtI3V4Wadp"
      },
      "source": [
        "***\n",
        "<a id=\"coding_tutorial_4\"></a>\n",
        "## The fit method"
      ]
    },
    {
      "cell_type": "code",
      "metadata": {
        "id": "rEElxzmkWads"
      },
      "source": [
        "from tensorflow.keras.preprocessing import image\n",
        "import matplotlib.pyplot as plt\n",
        "import numpy as np\n",
        "import pandas as pd"
      ],
      "execution_count": 10,
      "outputs": []
    },
    {
      "cell_type": "markdown",
      "metadata": {
        "id": "MEY4dhG2Wadu"
      },
      "source": [
        "#### Load the data"
      ]
    },
    {
      "cell_type": "code",
      "metadata": {
        "id": "rbLkMlHtWadv",
        "colab": {
          "base_uri": "https://localhost:8080/"
        },
        "outputId": "ad73daf1-fcb9-4c88-d020-86100b603472"
      },
      "source": [
        "# Load the Fashion-MNIST dataset\n",
        "\n",
        "fashion_mnist_data = tf.keras.datasets.fashion_mnist\n",
        "(train_images, train_labels), (test_images, test_labels) = fashion_mnist_data.load_data()"
      ],
      "execution_count": 11,
      "outputs": [
        {
          "output_type": "stream",
          "text": [
            "Downloading data from https://storage.googleapis.com/tensorflow/tf-keras-datasets/train-labels-idx1-ubyte.gz\n",
            "32768/29515 [=================================] - 0s 0us/step\n",
            "Downloading data from https://storage.googleapis.com/tensorflow/tf-keras-datasets/train-images-idx3-ubyte.gz\n",
            "26427392/26421880 [==============================] - 0s 0us/step\n",
            "Downloading data from https://storage.googleapis.com/tensorflow/tf-keras-datasets/t10k-labels-idx1-ubyte.gz\n",
            "8192/5148 [===============================================] - 0s 0us/step\n",
            "Downloading data from https://storage.googleapis.com/tensorflow/tf-keras-datasets/t10k-images-idx3-ubyte.gz\n",
            "4423680/4422102 [==============================] - 0s 0us/step\n"
          ],
          "name": "stdout"
        }
      ]
    },
    {
      "cell_type": "code",
      "metadata": {
        "id": "YvFvNpI1Wadx",
        "colab": {
          "base_uri": "https://localhost:8080/"
        },
        "outputId": "5f8549d7-fb39-465b-99cc-303e9f65751f"
      },
      "source": [
        "# Print the shape of the training data\n",
        "model_cnn = Sequential([\n",
        "                    Conv2D(16, (3,3), activation= 'relu', input_shape = (28,28, 1), padding = 'SAME', strides = 2),\n",
        "                    MaxPooling2D((3,3)),\n",
        "                    Flatten(),\n",
        "                    Dense(10, activation= 'softmax')\n",
        "])\n",
        "\n",
        "opt = tf.keras.optimizers.Adam(learning_rate= 0.005)\n",
        "acc = tf.keras.metrics.SparseCategoricalAccuracy()\n",
        "mae = tf.keras.metrics.MeanAbsoluteError()\n",
        "losse = tf.keras.losses.SparseCategoricalCrossentropy()\n",
        "\n",
        "model_cnn.compile(optimizer= opt, ## 'adam', 'SGD'\n",
        "                  loss = losse,\n",
        "                  metrics = [acc, mae])\n",
        "\n",
        "train_images.shape"
      ],
      "execution_count": 12,
      "outputs": [
        {
          "output_type": "execute_result",
          "data": {
            "text/plain": [
              "(60000, 28, 28)"
            ]
          },
          "metadata": {
            "tags": []
          },
          "execution_count": 12
        }
      ]
    },
    {
      "cell_type": "code",
      "metadata": {
        "id": "zEQowAtWWadz",
        "colab": {
          "base_uri": "https://localhost:8080/"
        },
        "outputId": "3acb5348-10d4-44c4-bc6f-5407bd1b5507"
      },
      "source": [
        "# Define the labels\n",
        "\n",
        "labels = [\n",
        "    'T-shirt/top',\n",
        "    'Trouser',\n",
        "    'Pullover',\n",
        "    'Dress',\n",
        "    'Coat',\n",
        "    'Sandal',\n",
        "    'Shirt',\n",
        "    'Sneaker',\n",
        "    'Bag',\n",
        "    'Ankle boot'\n",
        "]\n",
        "\n",
        "print(test_labels[0])"
      ],
      "execution_count": 13,
      "outputs": [
        {
          "output_type": "stream",
          "text": [
            "9\n"
          ],
          "name": "stdout"
        }
      ]
    },
    {
      "cell_type": "code",
      "metadata": {
        "id": "trnvKQh8Wad1"
      },
      "source": [
        "# Rescale the image values so that they lie in between 0 and 1.\n",
        "\n",
        "train_images = train_images/255\n",
        "test_images = test_images/255"
      ],
      "execution_count": 14,
      "outputs": []
    },
    {
      "cell_type": "code",
      "metadata": {
        "id": "RaozbnC3Wad3",
        "colab": {
          "base_uri": "https://localhost:8080/",
          "height": 282
        },
        "outputId": "c944d946-fd5f-4bc7-8b5e-5a22a642b461"
      },
      "source": [
        "# Display one of the images\n",
        "\n",
        "i = 0\n",
        "img = train_images[i, :, :]\n",
        "plt.imshow(img)\n",
        "plt.show()\n",
        "print(f\" label: {labels[train_labels[i]]}\")"
      ],
      "execution_count": 15,
      "outputs": [
        {
          "output_type": "display_data",
          "data": {
            "image/png": "[encoded data removed]",
            "text/plain": [
              "<Figure size 432x288 with 1 Axes>"
            ]
          },
          "metadata": {
            "tags": [],
            "needs_background": "light"
          }
        },
        {
          "output_type": "stream",
          "text": [
            " label: Ankle boot\n"
          ],
          "name": "stdout"
        }
      ]
    },
    {
      "cell_type": "markdown",
      "metadata": {
        "id": "JluRyjkxWad4"
      },
      "source": [
        "#### Fit the model"
      ]
    },
    {
      "cell_type": "code",
      "metadata": {
        "id": "QCvXC48hWad6",
        "colab": {
          "base_uri": "https://localhost:8080/"
        },
        "outputId": "46d8f723-ce6f-49b8-e6e9-c4af4220c260"
      },
      "source": [
        "# Fit the model\n",
        "\n",
        "history = model_cnn.fit(train_images[..., np.newaxis], train_labels, epochs= 8, batch_size= 256) ## verbose 'ver detalles del entrenamiento"
      ],
      "execution_count": 16,
      "outputs": [
        {
          "output_type": "stream",
          "text": [
            "Epoch 1/8\n",
            "235/235 [==============================] - 5s 18ms/step - loss: 1.1263 - sparse_categorical_accuracy: 0.6105 - mean_absolute_error: 4.4161\n",
            "Epoch 2/8\n",
            "235/235 [==============================] - 4s 17ms/step - loss: 0.4980 - sparse_categorical_accuracy: 0.8206 - mean_absolute_error: 4.4464\n",
            "Epoch 3/8\n",
            "235/235 [==============================] - 4s 18ms/step - loss: 0.4482 - sparse_categorical_accuracy: 0.8411 - mean_absolute_error: 4.4163\n",
            "Epoch 4/8\n",
            "235/235 [==============================] - 4s 18ms/step - loss: 0.4317 - sparse_categorical_accuracy: 0.8431 - mean_absolute_error: 4.4065\n",
            "Epoch 5/8\n",
            "235/235 [==============================] - 4s 18ms/step - loss: 0.4099 - sparse_categorical_accuracy: 0.8522 - mean_absolute_error: 4.4167\n",
            "Epoch 6/8\n",
            "235/235 [==============================] - 4s 18ms/step - loss: 0.3957 - sparse_categorical_accuracy: 0.8569 - mean_absolute_error: 4.4297\n",
            "Epoch 7/8\n",
            "235/235 [==============================] - 4s 18ms/step - loss: 0.3845 - sparse_categorical_accuracy: 0.8592 - mean_absolute_error: 4.4309\n",
            "Epoch 8/8\n",
            "235/235 [==============================] - 4s 17ms/step - loss: 0.3848 - sparse_categorical_accuracy: 0.8596 - mean_absolute_error: 4.4082\n"
          ],
          "name": "stdout"
        }
      ]
    },
    {
      "cell_type": "markdown",
      "metadata": {
        "id": "9YGxBR7aWad7"
      },
      "source": [
        "#### Plot training history"
      ]
    },
    {
      "cell_type": "code",
      "metadata": {
        "id": "AmSUNbkCWad-",
        "colab": {
          "base_uri": "https://localhost:8080/",
          "height": 294
        },
        "outputId": "8bfab596-3441-4e6e-8662-67dca41fea60"
      },
      "source": [
        "# Load the history into a pandas Dataframe\n",
        "\n",
        "df = pd.DataFrame(history.history)\n",
        "df"
      ],
      "execution_count": 17,
      "outputs": [
        {
          "output_type": "execute_result",
          "data": {
            "text/html": [
              "<div>\n",
              "<style scoped>\n",
              "    .dataframe tbody tr th:only-of-type {\n",
              "        vertical-align: middle;\n",
              "    }\n",
              "\n",
              "    .dataframe tbody tr th {\n",
              "        vertical-align: top;\n",
              "    }\n",
              "\n",
              "    .dataframe thead th {\n",
              "        text-align: right;\n",
              "    }\n",
              "</style>\n",
              "<table border=\"1\" class=\"dataframe\">\n",
              "  <thead>\n",
              "    <tr style=\"text-align: right;\">\n",
              "      <th></th>\n",
              "      <th>loss</th>\n",
              "      <th>sparse_categorical_accuracy</th>\n",
              "      <th>mean_absolute_error</th>\n",
              "    </tr>\n",
              "  </thead>\n",
              "  <tbody>\n",
              "    <tr>\n",
              "      <th>0</th>\n",
              "      <td>0.771781</td>\n",
              "      <td>0.726933</td>\n",
              "      <td>4.420001</td>\n",
              "    </tr>\n",
              "    <tr>\n",
              "      <th>1</th>\n",
              "      <td>0.485841</td>\n",
              "      <td>0.825867</td>\n",
              "      <td>4.420001</td>\n",
              "    </tr>\n",
              "    <tr>\n",
              "      <th>2</th>\n",
              "      <td>0.442624</td>\n",
              "      <td>0.842100</td>\n",
              "      <td>4.420000</td>\n",
              "    </tr>\n",
              "    <tr>\n",
              "      <th>3</th>\n",
              "      <td>0.420320</td>\n",
              "      <td>0.848333</td>\n",
              "      <td>4.420000</td>\n",
              "    </tr>\n",
              "    <tr>\n",
              "      <th>4</th>\n",
              "      <td>0.406150</td>\n",
              "      <td>0.853883</td>\n",
              "      <td>4.420000</td>\n",
              "    </tr>\n",
              "    <tr>\n",
              "      <th>5</th>\n",
              "      <td>0.397014</td>\n",
              "      <td>0.855717</td>\n",
              "      <td>4.419999</td>\n",
              "    </tr>\n",
              "    <tr>\n",
              "      <th>6</th>\n",
              "      <td>0.387387</td>\n",
              "      <td>0.858967</td>\n",
              "      <td>4.420001</td>\n",
              "    </tr>\n",
              "    <tr>\n",
              "      <th>7</th>\n",
              "      <td>0.383743</td>\n",
              "      <td>0.860133</td>\n",
              "      <td>4.420000</td>\n",
              "    </tr>\n",
              "  </tbody>\n",
              "</table>\n",
              "</div>"
            ],
            "text/plain": [
              "       loss  sparse_categorical_accuracy  mean_absolute_error\n",
              "0  0.771781                     0.726933             4.420001\n",
              "1  0.485841                     0.825867             4.420001\n",
              "2  0.442624                     0.842100             4.420000\n",
              "3  0.420320                     0.848333             4.420000\n",
              "4  0.406150                     0.853883             4.420000\n",
              "5  0.397014                     0.855717             4.419999\n",
              "6  0.387387                     0.858967             4.420001\n",
              "7  0.383743                     0.860133             4.420000"
            ]
          },
          "metadata": {
            "tags": []
          },
          "execution_count": 17
        }
      ]
    },
    {
      "cell_type": "code",
      "metadata": {
        "id": "uC10fIZiWaeA",
        "colab": {
          "base_uri": "https://localhost:8080/",
          "height": 312
        },
        "outputId": "90d8788a-870d-47b5-c14a-bd8289138539"
      },
      "source": [
        "# Make a plot for the loss\n",
        "loss_plot = df.plot(y = 'loss', title = 'Loss vs Epochs', legend = False)\n",
        "loss_plot.set(xlabel = 'Epochs', ylabel = 'Loss')\n"
      ],
      "execution_count": 18,
      "outputs": [
        {
          "output_type": "execute_result",
          "data": {
            "text/plain": [
              "[Text(0, 0.5, 'Loss'), Text(0.5, 0, 'Epochs')]"
            ]
          },
          "metadata": {
            "tags": []
          },
          "execution_count": 18
        },
        {
          "output_type": "display_data",
          "data": {
            "image/png": "[encoded data removed]",
            "text/plain": [
              "<Figure size 432x288 with 1 Axes>"
            ]
          },
          "metadata": {
            "tags": [],
            "needs_background": "light"
          }
        }
      ]
    },
    {
      "cell_type": "code",
      "metadata": {
        "id": "dy4_e3WIWaeC",
        "colab": {
          "base_uri": "https://localhost:8080/",
          "height": 312
        },
        "outputId": "0f4890dc-68ba-41d4-af51-d80667badc2f"
      },
      "source": [
        "# Make a plot for the accuracy\n",
        "\n",
        "accuracy_plot = df.plot(y = 'sparse_categorical_accuracy', title = 'sparse_categorical_accuracy vs Epochs', legend = False)\n",
        "accuracy_plot.set(xlabel = 'Epochs', ylabel = 'sparse_categorical_accuracy')"
      ],
      "execution_count": 19,
      "outputs": [
        {
          "output_type": "execute_result",
          "data": {
            "text/plain": [
              "[Text(0, 0.5, 'sparse_categorical_accuracy'), Text(0.5, 0, 'Epochs')]"
            ]
          },
          "metadata": {
            "tags": []
          },
          "execution_count": 19
        },
        {
          "output_type": "display_data",
          "data": {
            "image/png": "[encoded data removed]",
            "text/plain": [
              "<Figure size 432x288 with 1 Axes>"
            ]
          },
          "metadata": {
            "tags": [],
            "needs_background": "light"
          }
        }
      ]
    },
    {
      "cell_type": "code",
      "metadata": {
        "id": "bLy-BWSQWaeE",
        "colab": {
          "base_uri": "https://localhost:8080/",
          "height": 312
        },
        "outputId": "68704fa2-65f3-4ed3-8602-840d4407e810"
      },
      "source": [
        "# Make a plot for the additional metric\n",
        "\n",
        "metric_plot = df.plot(y = 'mean_absolute_error', title = 'mean_absolute_error vs Epochs', legend = False)\n",
        "metric_plot.set(xlabel = 'Epochs', ylabel = 'mean_absolute_error')"
      ],
      "execution_count": 20,
      "outputs": [
        {
          "output_type": "execute_result",
          "data": {
            "text/plain": [
              "[Text(0, 0.5, 'mean_absolute_error'), Text(0.5, 0, 'Epochs')]"
            ]
          },
          "metadata": {
            "tags": []
          },
          "execution_count": 20
        },
        {
          "output_type": "display_data",
          "data": {
            "image/png": "[encoded data removed]",
            "text/plain": [
              "<Figure size 432x288 with 1 Axes>"
            ]
          },
          "metadata": {
            "tags": [],
            "needs_background": "light"
          }
        }
      ]
    },
    {
      "cell_type": "markdown",
      "metadata": {
        "id": "M8-APppoWaeF"
      },
      "source": [
        "***\n",
        "<a id=\"coding_tutorial_5\"></a>\n",
        "## The evaluate and predict methods"
      ]
    },
    {
      "cell_type": "code",
      "metadata": {
        "id": "PJheKrO-WaeH"
      },
      "source": [
        "import matplotlib.pyplot as plt\n",
        "import numpy as np"
      ],
      "execution_count": 22,
      "outputs": []
    },
    {
      "cell_type": "markdown",
      "metadata": {
        "id": "6RVRK_WOWaeI"
      },
      "source": [
        "#### Evaluate the model on the test set"
      ]
    },
    {
      "cell_type": "code",
      "metadata": {
        "id": "ublLsS5oWaeK",
        "colab": {
          "base_uri": "https://localhost:8080/"
        },
        "outputId": "bbd5522b-8a86-46f1-8a4e-65f4a52e3141"
      },
      "source": [
        "# Evaluate the model\n",
        "\n",
        "test_loss, test_accuracy, test_mae = model_cnn.evaluate(test_images[..., np.newaxis], test_labels, verbose = 2) ## verbose = 2  (resumen de metricas)"
      ],
      "execution_count": 28,
      "outputs": [
        {
          "output_type": "stream",
          "text": [
            "313/313 - 1s - loss: 0.4226 - sparse_categorical_accuracy: 0.8450 - mean_absolute_error: 4.4200\n"
          ],
          "name": "stdout"
        }
      ]
    },
    {
      "cell_type": "markdown",
      "metadata": {
        "id": "SGgp0kW_WaeL"
      },
      "source": [
        "#### Make predictions from the model"
      ]
    },
    {
      "cell_type": "code",
      "metadata": {
        "id": "TsUU3ZOCWaeN",
        "colab": {
          "base_uri": "https://localhost:8080/",
          "height": 282
        },
        "outputId": "e6bd1274-8472-43c3-9ada-097c32e60f0a"
      },
      "source": [
        "# Choose a random test image\n",
        "\n",
        "random_inx = np.random.choice(test_images.shape[0])\n",
        "\n",
        "test_image = test_images[random_inx]\n",
        "plt.imshow(test_image)\n",
        "plt.show()\n",
        "print(f\"Label: {labels[test_labels[random_inx]]}\")"
      ],
      "execution_count": 39,
      "outputs": [
        {
          "output_type": "display_data",
          "data": {
            "image/png": "[encoded data removed]",
            "text/plain": [
              "<Figure size 432x288 with 1 Axes>"
            ]
          },
          "metadata": {
            "tags": [],
            "needs_background": "light"
          }
        },
        {
          "output_type": "stream",
          "text": [
            "Label: Bag\n"
          ],
          "name": "stdout"
        }
      ]
    },
    {
      "cell_type": "code",
      "metadata": {
        "id": "x1Pvzl7IWaeP",
        "colab": {
          "base_uri": "https://localhost:8080/"
        },
        "outputId": "6346151e-108f-49b1-94dd-5a732d90431a"
      },
      "source": [
        "# Get the model predictions\n",
        "prediction = model_cnn.predict(test_image[np.newaxis, ..., np.newaxis]) ## Se agregan dos dimensiones ficticias\n",
        "print(f'Model prediction: {labels[np.argmax(prediction)]}')"
      ],
      "execution_count": 40,
      "outputs": [
        {
          "output_type": "stream",
          "text": [
            "Model prediction: Bag\n"
          ],
          "name": "stdout"
        }
      ]
    },
    {
      "cell_type": "code",
      "metadata": {
        "id": "_uyyFhL_SNfa"
      },
      "source": [
        ""
      ],
      "execution_count": null,
      "outputs": []
    }
  ]
}
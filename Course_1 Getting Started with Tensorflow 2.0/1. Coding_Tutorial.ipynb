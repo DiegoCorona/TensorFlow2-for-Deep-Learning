{
  "nbformat": 4,
  "nbformat_minor": 0,
  "metadata": {
    "kernelspec": {
      "display_name": "Python 3",
      "language": "python",
      "name": "python3"
    },
    "language_info": {
      "codemirror_mode": {
        "name": "ipython",
        "version": 3
      },
      "file_extension": ".py",
      "mimetype": "text/x-python",
      "name": "python",
      "nbconvert_exporter": "python",
      "pygments_lexer": "ipython3",
      "version": "3.7.1"
    },
    "colab": {
      "name": "Coding Tutorial.ipynb",
      "provenance": [],
      "collapsed_sections": [],
      "include_colab_link": true
    }
  },
  "cells": [
    {
      "cell_type": "markdown",
      "metadata": {
        "id": "view-in-github",
        "colab_type": "text"
      },
      "source": [
        "<a href=\"https://colab.research.google.com/github/DiegoCorona/TensorFlow2-for-Deep-Learning/blob/main/1.%20Coding_Tutorial.ipynb\" target=\"_parent\"><img src=\"https://colab.research.google.com/assets/colab-badge.svg\" alt=\"Open In Colab\"/></a>"
      ]
    },
    {
      "cell_type": "code",
      "metadata": {
        "id": "ug-wCIQwKoQi",
        "colab": {
          "base_uri": "https://localhost:8080/",
          "height": 34
        },
        "outputId": "e41810d2-1e74-4b92-a577-46cbe9012623"
      },
      "source": [
        "import tensorflow as tf\n",
        "tf.__version__"
      ],
      "execution_count": 3,
      "outputs": [
        {
          "output_type": "execute_result",
          "data": {
            "application/vnd.google.colaboratory.intrinsic+json": {
              "type": "string"
            },
            "text/plain": [
              "'2.4.1'"
            ]
          },
          "metadata": {
            "tags": []
          },
          "execution_count": 3
        }
      ]
    },
    {
      "cell_type": "markdown",
      "metadata": {
        "id": "hjAm4T0gKoQp"
      },
      "source": [
        "# Introduction to TensorFlow 2\n",
        "\n",
        "## Coding tutorials\n",
        "#### [1. Hello TensorFlow!](#coding_tutorial_1)"
      ]
    },
    {
      "cell_type": "markdown",
      "metadata": {
        "id": "0863r0BFKoQr"
      },
      "source": [
        "---\n",
        "<a id='coding_tutorial_1'></a>\n",
        "## Hello TensorFlow!"
      ]
    },
    {
      "cell_type": "code",
      "metadata": {
        "id": "QwPuGPdYKoQs"
      },
      "source": [
        "# Import TensorFlow\n",
        "\n"
      ],
      "execution_count": null,
      "outputs": []
    },
    {
      "cell_type": "code",
      "metadata": {
        "id": "R54pSSl0KoQw"
      },
      "source": [
        "# Check its version\n",
        "\n"
      ],
      "execution_count": null,
      "outputs": []
    },
    {
      "cell_type": "code",
      "metadata": {
        "id": "3xaahw5pKoQz",
        "colab": {
          "base_uri": "https://localhost:8080/"
        },
        "outputId": "037ad8f3-8e26-43ed-96e6-a8b92040b15d"
      },
      "source": [
        "# Train a feedforward neural network for image classification\n",
        "\n",
        "print('Loading data...\\n')\n",
        "(x_train, y_train), (x_test, y_test) = tf.keras.datasets.mnist.load_data()\n",
        "print('MNIST dataset loaded.\\n')\n",
        "\n",
        "x_train = x_train/255.\n",
        "\n",
        "model = tf.keras.models.Sequential([\n",
        "  tf.keras.layers.Flatten(),\n",
        "  tf.keras.layers.Dense(16, activation='relu'),\n",
        "  tf.keras.layers.Dense(10, activation='softmax')\n",
        "])\n",
        "\n",
        "model.compile(optimizer='adam',\n",
        "              loss='sparse_categorical_crossentropy',\n",
        "              metrics=['accuracy'])\n",
        "\n",
        "print('Training model...\\n')\n",
        "model.fit(x_train, y_train, epochs=3, batch_size=32)\n",
        "\n",
        "print('Model trained successfully!')"
      ],
      "execution_count": 4,
      "outputs": [
        {
          "output_type": "stream",
          "text": [
            "Loading data...\n",
            "\n",
            "MNIST dataset loaded.\n",
            "\n",
            "Training model...\n",
            "\n",
            "Epoch 1/3\n",
            "1875/1875 [==============================] - 3s 1ms/step - loss: 0.7324 - accuracy: 0.7937\n",
            "Epoch 2/3\n",
            "1875/1875 [==============================] - 3s 1ms/step - loss: 0.2583 - accuracy: 0.9263\n",
            "Epoch 3/3\n",
            "1875/1875 [==============================] - 3s 1ms/step - loss: 0.2143 - accuracy: 0.9388\n",
            "Model trained successfully!\n"
          ],
          "name": "stdout"
        }
      ]
    },
    {
      "cell_type": "code",
      "metadata": {
        "id": "Ura3eySqTB6D"
      },
      "source": [
        ""
      ],
      "execution_count": null,
      "outputs": []
    }
  ]
}
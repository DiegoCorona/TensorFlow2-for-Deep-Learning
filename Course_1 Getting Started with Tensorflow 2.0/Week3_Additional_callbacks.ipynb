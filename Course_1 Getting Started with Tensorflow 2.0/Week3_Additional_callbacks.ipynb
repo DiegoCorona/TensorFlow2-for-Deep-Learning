{
  "nbformat": 4,
  "nbformat_minor": 0,
  "metadata": {
    "kernelspec": {
      "display_name": "Python 3",
      "language": "python",
      "name": "python3"
    },
    "language_info": {
      "codemirror_mode": {
        "name": "ipython",
        "version": 3
      },
      "file_extension": ".py",
      "mimetype": "text/x-python",
      "name": "python",
      "nbconvert_exporter": "python",
      "pygments_lexer": "ipython3",
      "version": "3.7.1"
    },
    "colab": {
      "name": "Week3_Additional_callbacks.ipynb",
      "provenance": [],
      "include_colab_link": true
    }
  },
  "cells": [
    {
      "cell_type": "markdown",
      "metadata": {
        "id": "view-in-github",
        "colab_type": "text"
      },
      "source": [
        "<a href=\"https://colab.research.google.com/github/DiegoCorona/TensorFlow2-for-Deep-Learning/blob/main/Week3_Additional_callbacks.ipynb\" target=\"_parent\"><img src=\"https://colab.research.google.com/assets/colab-badge.svg\" alt=\"Open In Colab\"/></a>"
      ]
    },
    {
      "cell_type": "markdown",
      "metadata": {
        "id": "AvxkG3KwfnZl"
      },
      "source": [
        "# Additional callbacks\n",
        "\n",
        "In this reading we'll be looking at more of the inbuilt callbacks available in Keras."
      ]
    },
    {
      "cell_type": "code",
      "metadata": {
        "id": "IXLw8mW6fnaa",
        "colab": {
          "base_uri": "https://localhost:8080/"
        },
        "outputId": "91b6acc7-1f0a-4c6a-f41e-87c1bf0ed5c9"
      },
      "source": [
        "import tensorflow as tf\n",
        "print(tf.__version__)"
      ],
      "execution_count": 1,
      "outputs": [
        {
          "output_type": "stream",
          "text": [
            "2.4.1\n"
          ],
          "name": "stdout"
        }
      ]
    },
    {
      "cell_type": "markdown",
      "metadata": {
        "id": "1xxG7Omefnah"
      },
      "source": [
        "We will again be using the sklearn diabetes dataset to demonstrate these callbacks."
      ]
    },
    {
      "cell_type": "code",
      "metadata": {
        "id": "KH6Yk0Wcfnam"
      },
      "source": [
        "# Load the diabetes dataset\n",
        "\n",
        "from sklearn.datasets import load_diabetes\n",
        "\n",
        "diabetes_dataset = load_diabetes()"
      ],
      "execution_count": 2,
      "outputs": []
    },
    {
      "cell_type": "code",
      "metadata": {
        "id": "B7Dqvo3dfnaq"
      },
      "source": [
        "# Save the input and target variables\n",
        "\n",
        "from sklearn.model_selection import train_test_split\n",
        "\n",
        "data = diabetes_dataset['data']\n",
        "targets = diabetes_dataset['target']"
      ],
      "execution_count": 3,
      "outputs": []
    },
    {
      "cell_type": "code",
      "metadata": {
        "id": "fPJdhaAPfnav"
      },
      "source": [
        "# Split the data set into training and test sets\n",
        "\n",
        "train_data, test_data, train_targets, test_targets = train_test_split(data, targets, test_size=0.1)"
      ],
      "execution_count": 4,
      "outputs": []
    },
    {
      "cell_type": "markdown",
      "metadata": {
        "id": "_JJTbXPnfna0"
      },
      "source": [
        "Let's also build a simple model to fit to the data with our callbacks."
      ]
    },
    {
      "cell_type": "code",
      "metadata": {
        "id": "TeMlZ2orfna3"
      },
      "source": [
        "# Build the model\n",
        "\n",
        "from tensorflow.keras.models import Sequential\n",
        "from tensorflow.keras.layers import Dense\n",
        "\n",
        "model = tf.keras.Sequential([\n",
        "    Dense(128, activation='relu', input_shape=(train_data.shape[1],)),\n",
        "    Dense(64,activation='relu'),\n",
        "    Dense(64, activation='relu'),\n",
        "    Dense(64, activation='relu'),\n",
        "    Dense(1)        \n",
        "])"
      ],
      "execution_count": 5,
      "outputs": []
    },
    {
      "cell_type": "code",
      "metadata": {
        "id": "Nugzq6B2fna7"
      },
      "source": [
        "# Compile the model\n",
        "\n",
        "model.compile(loss='mse',\n",
        "                optimizer=\"adam\",metrics=[\"mse\",\"mae\"])"
      ],
      "execution_count": 6,
      "outputs": []
    },
    {
      "cell_type": "markdown",
      "metadata": {
        "id": "qCWmyoYjfna_"
      },
      "source": [
        "Now onto the callbacks!"
      ]
    },
    {
      "cell_type": "markdown",
      "metadata": {
        "id": "V_kCQ7AYfnbC"
      },
      "source": [
        "## Learning rate scheduler\n",
        "\n",
        "**Usage:** `tf.keras.callbacks.LearningRateScheduler(schedule, verbose=0)`\n",
        "\n",
        "The learning rate scheduler that we implemented in the previous reading as a custom callback is also available as a built in callback. \n",
        "\n",
        "As in our custom callback, the `LearningRateScheduler` in Keras takes a function `schedule` as an argument. \n",
        "\n",
        "This function `schedule` should take two arguments:\n",
        "* The current epoch (as an integer), and\n",
        "* The current learning rate,\n",
        "\n",
        "and return new learning rate for that epoch. \n",
        "\n",
        "The `LearningRateScheduler` also has an optional `verbose` argument, which prints information about the learning rate if it is set to 1.\n",
        "\n",
        "Let's see a simple example."
      ]
    },
    {
      "cell_type": "code",
      "metadata": {
        "id": "69X0kqRtfnbF"
      },
      "source": [
        "# Define the learning rate schedule function\n",
        "\n",
        "def lr_function(epoch, lr):\n",
        "    if epoch % 2 == 0:\n",
        "        return lr\n",
        "    else:\n",
        "        return lr + epoch/1000"
      ],
      "execution_count": 7,
      "outputs": []
    },
    {
      "cell_type": "code",
      "metadata": {
        "id": "ci6LuVsPfnbI",
        "colab": {
          "base_uri": "https://localhost:8080/"
        },
        "outputId": "3ffc90a6-66bb-4ce0-b297-e8cf8cab4501"
      },
      "source": [
        "# Train the model\n",
        "\n",
        "history = model.fit(train_data, train_targets, epochs=10,\n",
        "                    callbacks=[tf.keras.callbacks.LearningRateScheduler(lr_function, verbose=1)], verbose=False)"
      ],
      "execution_count": 8,
      "outputs": [
        {
          "output_type": "stream",
          "text": [
            "\n",
            "Epoch 00001: LearningRateScheduler reducing learning rate to 0.0010000000474974513.\n",
            "\n",
            "Epoch 00002: LearningRateScheduler reducing learning rate to 0.0020000000474974513.\n",
            "\n",
            "Epoch 00003: LearningRateScheduler reducing learning rate to 0.0020000000949949026.\n",
            "\n",
            "Epoch 00004: LearningRateScheduler reducing learning rate to 0.005000000094994903.\n",
            "\n",
            "Epoch 00005: LearningRateScheduler reducing learning rate to 0.004999999888241291.\n",
            "\n",
            "Epoch 00006: LearningRateScheduler reducing learning rate to 0.009999999888241292.\n",
            "\n",
            "Epoch 00007: LearningRateScheduler reducing learning rate to 0.009999999776482582.\n",
            "\n",
            "Epoch 00008: LearningRateScheduler reducing learning rate to 0.01699999977648258.\n",
            "\n",
            "Epoch 00009: LearningRateScheduler reducing learning rate to 0.016999999061226845.\n",
            "\n",
            "Epoch 00010: LearningRateScheduler reducing learning rate to 0.025999999061226846.\n"
          ],
          "name": "stdout"
        }
      ]
    },
    {
      "cell_type": "markdown",
      "metadata": {
        "id": "ctU82U2VfnbL"
      },
      "source": [
        "You can also use lambda functions to define your `schedule` given an epoch."
      ]
    },
    {
      "cell_type": "code",
      "metadata": {
        "id": "MJrjyDoLfnbN",
        "colab": {
          "base_uri": "https://localhost:8080/"
        },
        "outputId": "3f0caf9f-370a-4eb3-b0ab-00de8f1e2a42"
      },
      "source": [
        "# Train the model with a difference schedule\n",
        "\n",
        "history = model.fit(train_data, train_targets, epochs=10,\n",
        "                    callbacks=[tf.keras.callbacks.LearningRateScheduler(lambda x:1/(3+5*x), verbose=1)], \n",
        "                    verbose=False)"
      ],
      "execution_count": 9,
      "outputs": [
        {
          "output_type": "stream",
          "text": [
            "\n",
            "Epoch 00001: LearningRateScheduler reducing learning rate to 0.3333333333333333.\n",
            "\n",
            "Epoch 00002: LearningRateScheduler reducing learning rate to 0.125.\n",
            "\n",
            "Epoch 00003: LearningRateScheduler reducing learning rate to 0.07692307692307693.\n",
            "\n",
            "Epoch 00004: LearningRateScheduler reducing learning rate to 0.05555555555555555.\n",
            "\n",
            "Epoch 00005: LearningRateScheduler reducing learning rate to 0.043478260869565216.\n",
            "\n",
            "Epoch 00006: LearningRateScheduler reducing learning rate to 0.03571428571428571.\n",
            "\n",
            "Epoch 00007: LearningRateScheduler reducing learning rate to 0.030303030303030304.\n",
            "\n",
            "Epoch 00008: LearningRateScheduler reducing learning rate to 0.02631578947368421.\n",
            "\n",
            "Epoch 00009: LearningRateScheduler reducing learning rate to 0.023255813953488372.\n",
            "\n",
            "Epoch 00010: LearningRateScheduler reducing learning rate to 0.020833333333333332.\n"
          ],
          "name": "stdout"
        }
      ]
    },
    {
      "cell_type": "markdown",
      "metadata": {
        "id": "R3wW-nOHfnbR"
      },
      "source": [
        "## CSV logger\n",
        "**Usage** `tf.keras.callbacks.CSVLogger(filename, separator=',', append=False)`\n",
        "\n",
        "This callback streams the results from each epoch into a CSV file.\n",
        "The first line of the CSV file will be the names of pieces of information recorded on each subsequent line, beginning with the epoch and loss value. The values of metrics at the end of each epoch will also be recorded.\n",
        "\n",
        "The only compulsory argument is the `filename` for the log to be streamed to. This could also be a filepath.\n",
        "\n",
        "You can also specify the `separator` to be used between entries on each line.\n",
        "\n",
        "The `append` argument allows you the option to append your results to an existing file with the same name. This can be particularly useful if you are continuing training.\n",
        "\n",
        "Let's see an example."
      ]
    },
    {
      "cell_type": "code",
      "metadata": {
        "id": "QerDoglzfnbV"
      },
      "source": [
        "# Train the model with a CSV logger\n",
        "\n",
        "history = model.fit(train_data, train_targets, epochs=10,\n",
        "                    callbacks=[tf.keras.callbacks.CSVLogger(\"results.csv\")], verbose=False)"
      ],
      "execution_count": 10,
      "outputs": []
    },
    {
      "cell_type": "markdown",
      "metadata": {
        "id": "VBjD0o_WfnbZ"
      },
      "source": [
        "Let's view the information in the CSV file we have created using `pandas`."
      ]
    },
    {
      "cell_type": "code",
      "metadata": {
        "id": "X-pTWa-5fnbc",
        "colab": {
          "base_uri": "https://localhost:8080/",
          "height": 386
        },
        "outputId": "b585ed68-f264-4d66-bed1-529dd2f2ac83"
      },
      "source": [
        "# Load the CSV\n",
        "\n",
        "import pandas as pd\n",
        "\n",
        "pd.read_csv(\"results.csv\", index_col='epoch')"
      ],
      "execution_count": 11,
      "outputs": [
        {
          "output_type": "execute_result",
          "data": {
            "text/html": [
              "<div>\n",
              "<style scoped>\n",
              "    .dataframe tbody tr th:only-of-type {\n",
              "        vertical-align: middle;\n",
              "    }\n",
              "\n",
              "    .dataframe tbody tr th {\n",
              "        vertical-align: top;\n",
              "    }\n",
              "\n",
              "    .dataframe thead th {\n",
              "        text-align: right;\n",
              "    }\n",
              "</style>\n",
              "<table border=\"1\" class=\"dataframe\">\n",
              "  <thead>\n",
              "    <tr style=\"text-align: right;\">\n",
              "      <th></th>\n",
              "      <th>loss</th>\n",
              "      <th>mae</th>\n",
              "      <th>mse</th>\n",
              "    </tr>\n",
              "    <tr>\n",
              "      <th>epoch</th>\n",
              "      <th></th>\n",
              "      <th></th>\n",
              "      <th></th>\n",
              "    </tr>\n",
              "  </thead>\n",
              "  <tbody>\n",
              "    <tr>\n",
              "      <th>0</th>\n",
              "      <td>3599.310547</td>\n",
              "      <td>50.409302</td>\n",
              "      <td>3599.310547</td>\n",
              "    </tr>\n",
              "    <tr>\n",
              "      <th>1</th>\n",
              "      <td>3155.074219</td>\n",
              "      <td>46.128819</td>\n",
              "      <td>3155.074219</td>\n",
              "    </tr>\n",
              "    <tr>\n",
              "      <th>2</th>\n",
              "      <td>2951.481201</td>\n",
              "      <td>43.926212</td>\n",
              "      <td>2951.481201</td>\n",
              "    </tr>\n",
              "    <tr>\n",
              "      <th>3</th>\n",
              "      <td>2877.620850</td>\n",
              "      <td>42.772526</td>\n",
              "      <td>2877.620850</td>\n",
              "    </tr>\n",
              "    <tr>\n",
              "      <th>4</th>\n",
              "      <td>2998.799316</td>\n",
              "      <td>43.548878</td>\n",
              "      <td>2998.799316</td>\n",
              "    </tr>\n",
              "    <tr>\n",
              "      <th>5</th>\n",
              "      <td>2951.378174</td>\n",
              "      <td>43.067116</td>\n",
              "      <td>2951.378174</td>\n",
              "    </tr>\n",
              "    <tr>\n",
              "      <th>6</th>\n",
              "      <td>3054.272461</td>\n",
              "      <td>43.712029</td>\n",
              "      <td>3054.272461</td>\n",
              "    </tr>\n",
              "    <tr>\n",
              "      <th>7</th>\n",
              "      <td>2935.921875</td>\n",
              "      <td>43.451008</td>\n",
              "      <td>2935.921875</td>\n",
              "    </tr>\n",
              "    <tr>\n",
              "      <th>8</th>\n",
              "      <td>2829.491699</td>\n",
              "      <td>42.593479</td>\n",
              "      <td>2829.491699</td>\n",
              "    </tr>\n",
              "    <tr>\n",
              "      <th>9</th>\n",
              "      <td>2829.874268</td>\n",
              "      <td>42.388638</td>\n",
              "      <td>2829.874268</td>\n",
              "    </tr>\n",
              "  </tbody>\n",
              "</table>\n",
              "</div>"
            ],
            "text/plain": [
              "              loss        mae          mse\n",
              "epoch                                     \n",
              "0      3599.310547  50.409302  3599.310547\n",
              "1      3155.074219  46.128819  3155.074219\n",
              "2      2951.481201  43.926212  2951.481201\n",
              "3      2877.620850  42.772526  2877.620850\n",
              "4      2998.799316  43.548878  2998.799316\n",
              "5      2951.378174  43.067116  2951.378174\n",
              "6      3054.272461  43.712029  3054.272461\n",
              "7      2935.921875  43.451008  2935.921875\n",
              "8      2829.491699  42.593479  2829.491699\n",
              "9      2829.874268  42.388638  2829.874268"
            ]
          },
          "metadata": {
            "tags": []
          },
          "execution_count": 11
        }
      ]
    },
    {
      "cell_type": "markdown",
      "metadata": {
        "id": "v57aHSdVfnbf"
      },
      "source": [
        "## Lambda callbacks\n",
        "**Usage** `tf.keras.callbacks.LambdaCallback(\n",
        "        on_epoch_begin=None, on_epoch_end=None, \n",
        "        on_batch_begin=None, on_batch_end=None, \n",
        "        on_train_begin=None, on_train_end=None)`\n",
        "\n",
        "Lambda callbacks are used to quickly define simple custom callbacks with the use of lambda functions.\n",
        "\n",
        "Each of the functions require some positional arguments.\n",
        "* `on_epoch_begin` and `on_epoch_end` expect two arguments: `epoch` and `logs`,\n",
        "* `on_batch_begin` and `on_batch_end` expect two arguments: `batch` and `logs` and\n",
        "* `on_train_begin` and `on_train_end` expect one argument: `logs`.\n",
        "\n",
        "Let's see an example of this in practice."
      ]
    },
    {
      "cell_type": "code",
      "metadata": {
        "id": "czO3rwKKfnbk"
      },
      "source": [
        "# Print the epoch number at the beginning of each epoch\n",
        "\n",
        "epoch_callback = tf.keras.callbacks.LambdaCallback(\n",
        "    on_epoch_begin=lambda epoch,logs: print('Starting Epoch {}!'.format(epoch+1)))"
      ],
      "execution_count": 12,
      "outputs": []
    },
    {
      "cell_type": "code",
      "metadata": {
        "id": "ktuyDjBUfnbu"
      },
      "source": [
        "# Print the loss at the end of each batch\n",
        "\n",
        "batch_loss_callback = tf.keras.callbacks.LambdaCallback(\n",
        "    on_batch_end=lambda batch,logs: print('\\n After batch {}, the loss is {:7.2f}.'.format(batch, logs['loss'])))"
      ],
      "execution_count": 13,
      "outputs": []
    },
    {
      "cell_type": "code",
      "metadata": {
        "id": "dFipON3Ffnbx"
      },
      "source": [
        "# Inform that training is finished\n",
        "\n",
        "train_finish_callback = tf.keras.callbacks.LambdaCallback(\n",
        "    on_train_end=lambda logs: print('Training finished!'))"
      ],
      "execution_count": 14,
      "outputs": []
    },
    {
      "cell_type": "code",
      "metadata": {
        "id": "m1kGvPEEfnbz",
        "colab": {
          "base_uri": "https://localhost:8080/"
        },
        "outputId": "1f21b7c2-9c28-451d-84e8-49fc454708ff"
      },
      "source": [
        "# Train the model with the lambda callbacks\n",
        "\n",
        "history = model.fit(train_data, train_targets, epochs=5, batch_size=100,\n",
        "                    callbacks=[epoch_callback, batch_loss_callback,train_finish_callback], verbose=False)"
      ],
      "execution_count": 15,
      "outputs": [
        {
          "output_type": "stream",
          "text": [
            "Starting Epoch 1!\n",
            "\n",
            " After batch 0, the loss is 2585.16.\n",
            "\n",
            " After batch 1, the loss is 2707.50.\n",
            "\n",
            " After batch 2, the loss is 2527.90.\n",
            "\n",
            " After batch 3, the loss is 2872.60.\n",
            "Starting Epoch 2!\n",
            "\n",
            " After batch 0, the loss is 3213.38.\n",
            "\n",
            " After batch 1, the loss is 3073.68.\n",
            "\n",
            " After batch 2, the loss is 2998.73.\n",
            "\n",
            " After batch 3, the loss is 2881.58.\n",
            "Starting Epoch 3!\n",
            "\n",
            " After batch 0, the loss is 2498.56.\n",
            "\n",
            " After batch 1, the loss is 2627.10.\n",
            "\n",
            " After batch 2, the loss is 2868.56.\n",
            "\n",
            " After batch 3, the loss is 2788.61.\n",
            "Starting Epoch 4!\n",
            "\n",
            " After batch 0, the loss is 2312.14.\n",
            "\n",
            " After batch 1, the loss is 2336.17.\n",
            "\n",
            " After batch 2, the loss is 2647.35.\n",
            "\n",
            " After batch 3, the loss is 2833.54.\n",
            "Starting Epoch 5!\n",
            "\n",
            " After batch 0, the loss is 3348.58.\n",
            "\n",
            " After batch 1, the loss is 2902.94.\n",
            "\n",
            " After batch 2, the loss is 2838.90.\n",
            "\n",
            " After batch 3, the loss is 2805.44.\n",
            "Training finished!\n"
          ],
          "name": "stdout"
        }
      ]
    },
    {
      "cell_type": "markdown",
      "metadata": {
        "id": "Crm3Z7-ufnb1"
      },
      "source": [
        "## Reduce learning rate on plateau\n",
        "**Usage** `tf.keras.callbacks.ReduceLROnPlateau(\n",
        "            monitor='val_loss', \n",
        "            factor=0.1, \n",
        "            patience=10, \n",
        "            verbose=0, \n",
        "            mode='auto', \n",
        "            min_delta=0.0001, \n",
        "            cooldown=0, \n",
        "            min_lr=0)`\n",
        "\n",
        "The `ReduceLROnPlateau` callback allows reduction of the learning rate when a metric has stopped improving. \n",
        "The arguments are similar to those used in the `EarlyStopping` callback.\n",
        "* The argument `monitor` is used to specify which metric to base the callback on.\n",
        "* The `factor` is the factor by which the learning rate decreases i.e., new_lr=factor*old_lr.\n",
        "* The `patience` is the number of epochs where there is no improvement on the monitored metric before the learning rate is reduced.\n",
        "* The `verbose` argument will produce progress messages when set to 1.\n",
        "* The `mode` determines whether the learning rate will decrease when the monitored quantity stops increasing (`max`) or decreasing (`min`). The `auto` setting causes the callback to infer the mode from the monitored quantity.\n",
        "* The `min_delta` is the smallest change in the monitored quantity to be deemed an improvement.\n",
        "* The `cooldown` is the number of epochs to wait after the learning rate is changed before the callback resumes normal operation.\n",
        "* The `min_lr` is a lower bound on the learning rate that the callback will produce.\n",
        "\n",
        "Let's examine a final example."
      ]
    },
    {
      "cell_type": "code",
      "metadata": {
        "id": "qXR6pjFBfnb5",
        "colab": {
          "base_uri": "https://localhost:8080/"
        },
        "outputId": "87114553-d2e7-4220-ce9f-56d91d4184c3"
      },
      "source": [
        "# Train the model with the ReduceLROnPlateau callback\n",
        "\n",
        "history = model.fit(train_data, train_targets, epochs=100, batch_size=100,\n",
        "                    callbacks=[tf.keras.callbacks.ReduceLROnPlateau(\n",
        "                        monitor=\"loss\",factor=0.2, verbose=1)], verbose=False)"
      ],
      "execution_count": 16,
      "outputs": [
        {
          "output_type": "stream",
          "text": [
            "\n",
            "Epoch 00024: ReduceLROnPlateau reducing learning rate to 0.00416666679084301.\n"
          ],
          "name": "stdout"
        }
      ]
    },
    {
      "cell_type": "markdown",
      "metadata": {
        "id": "v0h2DEZdfnb8"
      },
      "source": [
        "### Further reading and resources\n",
        "* https://keras.io/callbacks/\n",
        "* https://www.tensorflow.org/api_docs/python/tf/keras/callbacks/LearningRateScheduler\n",
        "* https://www.tensorflow.org/api_docs/python/tf/keras/callbacks/CSVLogger\n",
        "* https://www.tensorflow.org/api_docs/python/tf/keras/callbacks/LambdaCallback"
      ]
    }
  ]
}
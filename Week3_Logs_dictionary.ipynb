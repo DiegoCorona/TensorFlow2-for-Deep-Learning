{
  "nbformat": 4,
  "nbformat_minor": 0,
  "metadata": {
    "kernelspec": {
      "display_name": "Python 3",
      "language": "python",
      "name": "python3"
    },
    "language_info": {
      "codemirror_mode": {
        "name": "ipython",
        "version": 3
      },
      "file_extension": ".py",
      "mimetype": "text/x-python",
      "name": "python",
      "nbconvert_exporter": "python",
      "pygments_lexer": "ipython3",
      "version": "3.7.1"
    },
    "colab": {
      "name": "Week3_Logs_dictionary.ipynb",
      "provenance": [],
      "include_colab_link": true
    }
  },
  "cells": [
    {
      "cell_type": "markdown",
      "metadata": {
        "id": "view-in-github",
        "colab_type": "text"
      },
      "source": [
        "<a href=\"https://colab.research.google.com/github/DiegoCorona/TensorFlow2-for-Deep-Learning/blob/main/Week3_Logs_dictionary.ipynb\" target=\"_parent\"><img src=\"https://colab.research.google.com/assets/colab-badge.svg\" alt=\"Open In Colab\"/></a>"
      ]
    },
    {
      "cell_type": "markdown",
      "metadata": {
        "id": "vbYpUBnyI32O"
      },
      "source": [
        "# Using the logs dictionary\n",
        "\n",
        "In this reading, we will learn how to take advantage of the `logs` dictionary in Keras to define our own callbacks and check the progress of a model."
      ]
    },
    {
      "cell_type": "code",
      "metadata": {
        "id": "u8ofw5MLI33B",
        "colab": {
          "base_uri": "https://localhost:8080/"
        },
        "outputId": "210f0660-f28b-4489-cce9-94fac567bff9"
      },
      "source": [
        "import tensorflow as tf\n",
        "print(tf.__version__)"
      ],
      "execution_count": 1,
      "outputs": [
        {
          "output_type": "stream",
          "text": [
            "2.4.1\n"
          ],
          "name": "stdout"
        }
      ]
    },
    {
      "cell_type": "markdown",
      "metadata": {
        "id": "wNQd8W-GI33I"
      },
      "source": [
        "The `logs` dictionary stores the loss value, along with all of the metrics we are using at the end of a batch or epoch.\n",
        "\n",
        "We can incorporate information from the `logs` dictionary into our own custom callbacks.\n",
        "\n",
        "Let's see this in action in the context of a model we will construct and fit to the `sklearn` diabetes dataset that we have been using in this module.\n",
        "\n",
        "Let's first import the dataset, and split it into the training and test sets."
      ]
    },
    {
      "cell_type": "code",
      "metadata": {
        "id": "poMZl3TqI33L"
      },
      "source": [
        "# Load the diabetes dataset\n",
        "\n",
        "from sklearn.datasets import load_diabetes\n",
        "\n",
        "diabetes_dataset = load_diabetes()"
      ],
      "execution_count": 2,
      "outputs": []
    },
    {
      "cell_type": "code",
      "metadata": {
        "id": "S-i4EAFiI33O"
      },
      "source": [
        "# Save the input and target variables\n",
        "\n",
        "from sklearn.model_selection import train_test_split\n",
        "\n",
        "data = diabetes_dataset['data']\n",
        "targets = diabetes_dataset['target']"
      ],
      "execution_count": 3,
      "outputs": []
    },
    {
      "cell_type": "code",
      "metadata": {
        "id": "Llfarw7JI33a"
      },
      "source": [
        "# Split the data set into training and test sets\n",
        "\n",
        "train_data, test_data, train_targets, test_targets = train_test_split(data, targets, test_size=0.1)"
      ],
      "execution_count": 4,
      "outputs": []
    },
    {
      "cell_type": "markdown",
      "metadata": {
        "id": "YRUQsdwxI33d"
      },
      "source": [
        "Now we construct our model."
      ]
    },
    {
      "cell_type": "code",
      "metadata": {
        "id": "qFbdnKoVI33f"
      },
      "source": [
        "# Build the model\n",
        "\n",
        "from tensorflow.keras.models import Sequential\n",
        "from tensorflow.keras.layers import Dense\n",
        "\n",
        "model = tf.keras.Sequential([\n",
        "    Dense(128, activation='relu', input_shape=(train_data.shape[1],)),\n",
        "    Dense(64,activation='relu'),\n",
        "    tf.keras.layers.BatchNormalization(),\n",
        "    Dense(64, activation='relu'),\n",
        "    Dense(64, activation='relu'),\n",
        "    Dense(1)        \n",
        "])"
      ],
      "execution_count": 5,
      "outputs": []
    },
    {
      "cell_type": "markdown",
      "metadata": {
        "id": "WRnM2b73I33i"
      },
      "source": [
        "We now compile the model, with\n",
        "* Mean squared error as the loss function,\n",
        "* the Adam optimizer, and \n",
        "* Mean absolute error (`mae`) as a metric."
      ]
    },
    {
      "cell_type": "code",
      "metadata": {
        "id": "VfRdUN8EI33l"
      },
      "source": [
        "# Compile the model\n",
        "    \n",
        "model.compile(loss='mse', optimizer=\"adam\", metrics=['mae'])"
      ],
      "execution_count": 6,
      "outputs": []
    },
    {
      "cell_type": "markdown",
      "metadata": {
        "id": "bhQDjKCbI33n"
      },
      "source": [
        "### Defining a custom callback\n",
        "\n",
        "Now we define our custom callback using the `logs` dictionary to access the loss and metric values."
      ]
    },
    {
      "cell_type": "code",
      "metadata": {
        "id": "kjwiRdYZI33q"
      },
      "source": [
        "# Create the custom callback\n",
        "\n",
        "class LossAndMetricCallback(tf.keras.callbacks.Callback):\n",
        "\n",
        "    # Print the loss after every second batch in the training set\n",
        "    def on_train_batch_end(self, batch, logs=None):\n",
        "        if batch %2 ==0:\n",
        "            print('\\n After batch {}, the loss is {:7.2f}.'.format(batch, logs['loss']))\n",
        "    \n",
        "    # Print the loss after each batch in the test set\n",
        "    def on_test_batch_end(self, batch, logs=None):\n",
        "        print('\\n After batch {}, the loss is {:7.2f}.'.format(batch, logs['loss']))\n",
        "\n",
        "    # Print the loss and mean absolute error after each epoch\n",
        "    def on_epoch_end(self, epoch, logs=None):\n",
        "        print('Epoch {}: Average loss is {:7.2f}, mean absolute error is {:7.2f}.'.format(epoch, logs['loss'], logs['mae']))\n",
        "    \n",
        "    # Notify the user when prediction has finished on each batch\n",
        "    def on_predict_batch_end(self,batch, logs=None):\n",
        "        print(\"Finished prediction on batch {}!\".format(batch))"
      ],
      "execution_count": 7,
      "outputs": []
    },
    {
      "cell_type": "markdown",
      "metadata": {
        "id": "InbgtEgwI33t"
      },
      "source": [
        "We now fit the model to the data, and specify that we would like to use our custom callback `LossAndMetricCallback()`."
      ]
    },
    {
      "cell_type": "code",
      "metadata": {
        "id": "nOjRTWxrI33v",
        "colab": {
          "base_uri": "https://localhost:8080/"
        },
        "outputId": "0db5a119-b43a-494c-dc8c-0403439eba49"
      },
      "source": [
        "# Train the model\n",
        "\n",
        "history = model.fit(train_data, train_targets, epochs=20,\n",
        "                    batch_size=100, callbacks=[LossAndMetricCallback()], verbose=False)"
      ],
      "execution_count": 8,
      "outputs": [
        {
          "output_type": "stream",
          "text": [
            "\n",
            " After batch 0, the loss is 29834.03.\n",
            "\n",
            " After batch 2, the loss is 29836.84.\n",
            "Epoch 0: Average loss is 29409.61, mean absolute error is  153.05.\n",
            "\n",
            " After batch 0, the loss is 23851.46.\n",
            "\n",
            " After batch 2, the loss is 28511.99.\n",
            "Epoch 1: Average loss is 29267.93, mean absolute error is  152.65.\n",
            "\n",
            " After batch 0, the loss is 26788.88.\n",
            "\n",
            " After batch 2, the loss is 27617.11.\n",
            "Epoch 2: Average loss is 29068.71, mean absolute error is  152.07.\n",
            "\n",
            " After batch 0, the loss is 26070.41.\n",
            "\n",
            " After batch 2, the loss is 27970.09.\n",
            "Epoch 3: Average loss is 28785.41, mean absolute error is  151.24.\n",
            "\n",
            " After batch 0, the loss is 29000.84.\n",
            "\n",
            " After batch 2, the loss is 28976.77.\n",
            "Epoch 4: Average loss is 28400.04, mean absolute error is  150.10.\n",
            "\n",
            " After batch 0, the loss is 25628.94.\n",
            "\n",
            " After batch 2, the loss is 28609.38.\n",
            "Epoch 5: Average loss is 27856.13, mean absolute error is  148.52.\n",
            "\n",
            " After batch 0, the loss is 29992.63.\n",
            "\n",
            " After batch 2, the loss is 27715.85.\n",
            "Epoch 6: Average loss is 27135.43, mean absolute error is  146.39.\n",
            "\n",
            " After batch 0, the loss is 25879.86.\n",
            "\n",
            " After batch 2, the loss is 26916.96.\n",
            "Epoch 7: Average loss is 26197.29, mean absolute error is  143.58.\n",
            "\n",
            " After batch 0, the loss is 21368.17.\n",
            "\n",
            " After batch 2, the loss is 25643.09.\n",
            "Epoch 8: Average loss is 25023.25, mean absolute error is  139.96.\n",
            "\n",
            " After batch 0, the loss is 23990.59.\n",
            "\n",
            " After batch 2, the loss is 23220.48.\n",
            "Epoch 9: Average loss is 23526.92, mean absolute error is  135.28.\n",
            "\n",
            " After batch 0, the loss is 23715.99.\n",
            "\n",
            " After batch 2, the loss is 22292.55.\n",
            "Epoch 10: Average loss is 21752.89, mean absolute error is  129.34.\n",
            "\n",
            " After batch 0, the loss is 20461.48.\n",
            "\n",
            " After batch 2, the loss is 19632.58.\n",
            "Epoch 11: Average loss is 19736.51, mean absolute error is  122.15.\n",
            "\n",
            " After batch 0, the loss is 18231.88.\n",
            "\n",
            " After batch 2, the loss is 17373.16.\n",
            "Epoch 12: Average loss is 17452.91, mean absolute error is  113.33.\n",
            "\n",
            " After batch 0, the loss is 15240.21.\n",
            "\n",
            " After batch 2, the loss is 14790.66.\n",
            "Epoch 13: Average loss is 15019.60, mean absolute error is  103.08.\n",
            "\n",
            " After batch 0, the loss is 14120.97.\n",
            "\n",
            " After batch 2, the loss is 12365.44.\n",
            "Epoch 14: Average loss is 12567.24, mean absolute error is   91.65.\n",
            "\n",
            " After batch 0, the loss is 10915.40.\n",
            "\n",
            " After batch 2, the loss is 9710.13.\n",
            "Epoch 15: Average loss is 10256.16, mean absolute error is   81.10.\n",
            "\n",
            " After batch 0, the loss is 9393.22.\n",
            "\n",
            " After batch 2, the loss is 8669.50.\n",
            "Epoch 16: Average loss is 8326.26, mean absolute error is   71.13.\n",
            "\n",
            " After batch 0, the loss is 6700.88.\n",
            "\n",
            " After batch 2, the loss is 7066.35.\n",
            "Epoch 17: Average loss is 7108.64, mean absolute error is   65.35.\n",
            "\n",
            " After batch 0, the loss is 6770.05.\n",
            "\n",
            " After batch 2, the loss is 5940.08.\n",
            "Epoch 18: Average loss is 6102.29, mean absolute error is   60.35.\n",
            "\n",
            " After batch 0, the loss is 5508.36.\n",
            "\n",
            " After batch 2, the loss is 5956.07.\n",
            "Epoch 19: Average loss is 5673.63, mean absolute error is   59.79.\n"
          ],
          "name": "stdout"
        }
      ]
    },
    {
      "cell_type": "markdown",
      "metadata": {
        "id": "UDJv0i_1I33y"
      },
      "source": [
        "We can also use our callback in the `evaluate` function..."
      ]
    },
    {
      "cell_type": "code",
      "metadata": {
        "id": "O7AVpclyI330",
        "colab": {
          "base_uri": "https://localhost:8080/"
        },
        "outputId": "25f48131-a7b1-4f49-9474-e7cfe798000b"
      },
      "source": [
        "# Evaluate the model\n",
        "\n",
        "model_eval = model.evaluate(test_data, test_targets, batch_size=10, \n",
        "                            callbacks=[LossAndMetricCallback()], verbose=False)"
      ],
      "execution_count": 9,
      "outputs": [
        {
          "output_type": "stream",
          "text": [
            "\n",
            " After batch 0, the loss is 15347.06.\n",
            "\n",
            " After batch 1, the loss is 15544.94.\n",
            "\n",
            " After batch 2, the loss is 15879.14.\n",
            "\n",
            " After batch 3, the loss is 15183.29.\n",
            "\n",
            " After batch 4, the loss is 14427.46.\n"
          ],
          "name": "stdout"
        }
      ]
    },
    {
      "cell_type": "markdown",
      "metadata": {
        "id": "ZLP-OwH7I332"
      },
      "source": [
        "...And also the `predict` function."
      ]
    },
    {
      "cell_type": "code",
      "metadata": {
        "id": "lcPShQU6I333",
        "colab": {
          "base_uri": "https://localhost:8080/"
        },
        "outputId": "294c47e4-2e63-4fa0-ae15-7ab49c6adc9e"
      },
      "source": [
        "# Get predictions from the model\n",
        "\n",
        "model_pred = model.predict(test_data, batch_size=10,\n",
        "                           callbacks=[LossAndMetricCallback()], verbose=False)"
      ],
      "execution_count": 10,
      "outputs": [
        {
          "output_type": "stream",
          "text": [
            "Finished prediction on batch 0!\n",
            "Finished prediction on batch 1!\n",
            "Finished prediction on batch 2!\n",
            "Finished prediction on batch 3!\n",
            "Finished prediction on batch 4!\n"
          ],
          "name": "stdout"
        }
      ]
    },
    {
      "cell_type": "markdown",
      "metadata": {
        "id": "S6y-x6ekI336"
      },
      "source": [
        "### Application - learning rate scheduler\n",
        "Let's now look at a more sophisticated custom callback. \n",
        "\n",
        "We are going to define a callback to change the learning rate of the optimiser of a model during training. We will do this by specifying the epochs and new learning rates where we would like it to be changed.\n",
        "\n",
        "First we define the auxillary function that returns the learning rate for each epoch based on our schedule."
      ]
    },
    {
      "cell_type": "code",
      "metadata": {
        "id": "sHV6I42mI339"
      },
      "source": [
        "# Define the learning rate schedule. The tuples below are (start_epoch, new_learning_rate)\n",
        "\n",
        "lr_schedule = [\n",
        "    (4, 0.03), (7, 0.02), (11, 0.005), (15, 0.007)\n",
        "]\n",
        "\n",
        "def get_new_epoch_lr(epoch, lr):\n",
        "    # Checks to see if the input epoch is listed in the learning rate schedule \n",
        "    # and if so, returns index in lr_schedule\n",
        "    epoch_in_sched = [i for i in range(len(lr_schedule)) if lr_schedule[i][0]==int(epoch)]\n",
        "    if len(epoch_in_sched)>0:\n",
        "        # If it is, return the learning rate corresponding to the epoch\n",
        "        return lr_schedule[epoch_in_sched[0]][1]\n",
        "    else:\n",
        "        # Otherwise, return the existing learning rate\n",
        "        return lr"
      ],
      "execution_count": 11,
      "outputs": []
    },
    {
      "cell_type": "markdown",
      "metadata": {
        "id": "JH6QOOOoI34A"
      },
      "source": [
        "Let's now define the callback itself."
      ]
    },
    {
      "cell_type": "code",
      "metadata": {
        "id": "hLAshuqnI34D"
      },
      "source": [
        "# Define the custom callback\n",
        "\n",
        "class LRScheduler(tf.keras.callbacks.Callback):\n",
        "    \n",
        "    def __init__(self, new_lr):\n",
        "        super(LRScheduler, self).__init__()\n",
        "        # Add the new learning rate function to our callback\n",
        "        self.new_lr = new_lr\n",
        "\n",
        "    def on_epoch_begin(self, epoch, logs=None):\n",
        "        # Make sure that the optimizer we have chosen has a learning rate, and raise an error if not\n",
        "        if not hasattr(self.model.optimizer, 'lr'):\n",
        "              raise ValueError('Error: Optimizer does not have a learning rate.')\n",
        "                \n",
        "        # Get the current learning rate\n",
        "        curr_rate = float(tf.keras.backend.get_value(self.model.optimizer.lr))\n",
        "        \n",
        "        # Call the auxillary function to get the scheduled learning rate for the current epoch\n",
        "        scheduled_rate = self.new_lr(epoch, curr_rate)\n",
        "\n",
        "        # Set the learning rate to the scheduled learning rate\n",
        "        tf.keras.backend.set_value(self.model.optimizer.lr, scheduled_rate)\n",
        "        print('Learning rate for epoch {} is {:7.3f}'.format(epoch, scheduled_rate))"
      ],
      "execution_count": 12,
      "outputs": []
    },
    {
      "cell_type": "markdown",
      "metadata": {
        "id": "gscNjZLqI34G"
      },
      "source": [
        "Let's now train the model again with our new callback. "
      ]
    },
    {
      "cell_type": "code",
      "metadata": {
        "id": "6SdUU6YPI34J"
      },
      "source": [
        "# Build the same model as before\n",
        "\n",
        "new_model = tf.keras.Sequential([\n",
        "    Dense(128, activation='relu', input_shape=(train_data.shape[1],)),\n",
        "    Dense(64,activation='relu'),\n",
        "    tf.keras.layers.BatchNormalization(),\n",
        "    Dense(64, activation='relu'),\n",
        "    Dense(64, activation='relu'),\n",
        "    Dense(1)        \n",
        "])"
      ],
      "execution_count": 13,
      "outputs": []
    },
    {
      "cell_type": "code",
      "metadata": {
        "id": "wIo8qlw-I34L"
      },
      "source": [
        "# Compile the model\n",
        "\n",
        "new_model.compile(loss='mse',\n",
        "                optimizer=\"adam\",\n",
        "                metrics=['mae', 'mse'])"
      ],
      "execution_count": 14,
      "outputs": []
    },
    {
      "cell_type": "code",
      "metadata": {
        "id": "0GZ_2m-rI34N",
        "colab": {
          "base_uri": "https://localhost:8080/"
        },
        "outputId": "dd721235-281c-4812-acf8-beb085610bdd"
      },
      "source": [
        "# Fit the model with our learning rate scheduler callback\n",
        "\n",
        "new_history = new_model.fit(train_data, train_targets, epochs=20,\n",
        "                            batch_size=100, callbacks=[LRScheduler(get_new_epoch_lr)], verbose=False)"
      ],
      "execution_count": 15,
      "outputs": [
        {
          "output_type": "stream",
          "text": [
            "Learning rate for epoch 0 is   0.001\n",
            "Learning rate for epoch 1 is   0.001\n",
            "Learning rate for epoch 2 is   0.001\n",
            "Learning rate for epoch 3 is   0.001\n",
            "Learning rate for epoch 4 is   0.030\n",
            "Learning rate for epoch 5 is   0.030\n",
            "Learning rate for epoch 6 is   0.030\n",
            "Learning rate for epoch 7 is   0.020\n",
            "Learning rate for epoch 8 is   0.020\n",
            "Learning rate for epoch 9 is   0.020\n",
            "Learning rate for epoch 10 is   0.020\n",
            "Learning rate for epoch 11 is   0.005\n",
            "Learning rate for epoch 12 is   0.005\n",
            "Learning rate for epoch 13 is   0.005\n",
            "Learning rate for epoch 14 is   0.005\n",
            "Learning rate for epoch 15 is   0.007\n",
            "Learning rate for epoch 16 is   0.007\n",
            "Learning rate for epoch 17 is   0.007\n",
            "Learning rate for epoch 18 is   0.007\n",
            "Learning rate for epoch 19 is   0.007\n"
          ],
          "name": "stdout"
        }
      ]
    },
    {
      "cell_type": "markdown",
      "metadata": {
        "id": "KCBCpN96I34P"
      },
      "source": [
        "### Further reading and resources\n",
        "* https://www.tensorflow.org/guide/keras/custom_callback\n",
        "* https://www.tensorflow.org/api_docs/python/tf/keras/callbacks/Callback"
      ]
    }
  ]
}